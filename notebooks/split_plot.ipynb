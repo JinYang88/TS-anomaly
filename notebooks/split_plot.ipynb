{
 "cells": [
  {
   "cell_type": "code",
   "execution_count": 1,
   "id": "4bbe2efe-2885-480b-98ce-5772dd84ee15",
   "metadata": {},
   "outputs": [],
   "source": [
    "import sys\n",
    "sys.path.append(\"../\")"
   ]
  },
  {
   "cell_type": "code",
   "execution_count": 5,
   "id": "a81ee290-6b16-4172-b77f-1de10205c6f8",
   "metadata": {},
   "outputs": [],
   "source": [
    "import os\n",
    "import hashlib\n",
    "import numpy as np\n",
    "import traceback\n",
    "from common.dataloader import load_dataset\n",
    "from matplotlib import pyplot as plt"
   ]
  },
  {
   "cell_type": "code",
   "execution_count": 18,
   "id": "a59bc8ed-ad52-43c5-ba7e-7ce19029aa53",
   "metadata": {},
   "outputs": [],
   "source": [
    "def onehot2interval(arr):\n",
    "    result = []\n",
    "    record = False\n",
    "    for idx, item in enumerate(arr):\n",
    "        if item == 1 and not record:\n",
    "            start = idx\n",
    "            record = True\n",
    "        if item == 0 and record:\n",
    "            end = idx  # not include the end point, like [a,b)\n",
    "            record = False\n",
    "            result.append((start, end))\n",
    "    return result"
   ]
  },
  {
   "cell_type": "code",
   "execution_count": 40,
   "id": "eaff41f6-e156-4b6a-b756-2d57959bc48b",
   "metadata": {},
   "outputs": [
    {
     "name": "stdout",
     "output_type": "stream",
     "text": [
      "Loading machine-1-1 of SMD dataset\n",
      ".././datasets/anomaly/SMD/processed/machine-1-1_train.pkl\n",
      "Shape of train is (28479, 38).\n",
      "Shape of test is (28479, 38).\n",
      "Shape of test_labels is (28479,).\n",
      "Finish plotting machine-1-1\n"
     ]
    }
   ],
   "source": [
    "dataset = \"SMD\" # change to HUAWEI\n",
    "subdatasets = [\"machine-1-1\"] # Change to skipped hashid list\n",
    "outdir = f\"./{dataset}_figures\"\n",
    "key = \"test\"\n",
    "chunk_size = 50\n",
    "\n",
    "for subdataset in subdatasets:\n",
    "    current_out = os.path.join(outdir,subdataset) \n",
    "    os.makedirs(current_out, exist_ok=True)\n",
    "    data_dict = load_dataset(dataset, subdataset, \"all\", root_dir=\"../\")\n",
    "\n",
    "    dims = list(range(data_dict[key].shape[1]))\n",
    "    for cidx, chunk in enumerate(np.array_split(dims, 1 + len(dims)//chunk_size)):\n",
    "        fig, ax = plt.subplots(len(chunk), figsize=(15, 4*len(chunk)))\n",
    "        for idx, dim_idx in enumerate(chunk):\n",
    "            data = data_dict[key][:, dim_idx]\n",
    "            if key == \"test\":\n",
    "                label = data_dict[\"test_labels\"]\n",
    "                intervals = onehot2interval(label)\n",
    "                ax[idx].plot(data, label=f\"{subdataset} : {dim_idx}\")\n",
    "                for s,e in intervals:\n",
    "                    ax[idx].axvspan(s, e, alpha=0.2, color='red')\n",
    "                ax[idx].legend()\n",
    "        fig.savefig(os.path.join(current_out, f\"chunk_{cidx}.pdf\"))\n",
    "        plt.close()\n",
    "    print(f\"Finish plotting {subdataset}\")\n",
    "    pass"
   ]
  },
  {
   "cell_type": "code",
   "execution_count": null,
   "id": "9c454d9d-87fe-4cd2-904f-abdea4cde9b5",
   "metadata": {},
   "outputs": [],
   "source": []
  }
 ],
 "metadata": {
  "kernelspec": {
   "display_name": "Python 3 (ipykernel)",
   "language": "python",
   "name": "python3"
  },
  "language_info": {
   "codemirror_mode": {
    "name": "ipython",
    "version": 3
   },
   "file_extension": ".py",
   "mimetype": "text/x-python",
   "name": "python",
   "nbconvert_exporter": "python",
   "pygments_lexer": "ipython3",
   "version": "3.8.10"
  }
 },
 "nbformat": 4,
 "nbformat_minor": 5
}
