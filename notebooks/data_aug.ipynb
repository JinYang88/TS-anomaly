{
 "cells": [
  {
   "cell_type": "code",
   "execution_count": 1,
   "id": "bibliographic-crazy",
   "metadata": {},
   "outputs": [],
   "source": [
    "import sys\n",
    "sys.path.append(\"../\")"
   ]
  },
  {
   "cell_type": "code",
   "execution_count": 75,
   "id": "younger-imagination",
   "metadata": {},
   "outputs": [],
   "source": [
    "import os\n",
    "import copy\n",
    "import numpy as np\n",
    "import pickle\n",
    "from common.config import subdatasets\n",
    "from common.dataloader import load_dataset\n",
    "from IPython import embed\n"
   ]
  },
  {
   "cell_type": "code",
   "execution_count": 6,
   "id": "happy-least",
   "metadata": {},
   "outputs": [],
   "source": [
    "from matplotlib import pyplot as plt"
   ]
  },
  {
   "cell_type": "code",
   "execution_count": 77,
   "id": "bulgarian-complaint",
   "metadata": {},
   "outputs": [
    {
     "name": "stdout",
     "output_type": "stream",
     "text": [
      "Loading machine-1-1 of SMD dataset\n",
      ".././datasets/anomaly/SMD/processed/machine-1-1_train.pkl\n",
      "Shape of train is (750, 38).\n",
      "Shape of test is (750, 38).\n",
      "Shape of test_labels is (750,).\n",
      "[Train] from (750, 38) to (2750, 38)\n",
      "[Test] from (750, 38) to (2750, 38)\n",
      "[Test Labels] from (750,) to (2750,)\n",
      "Done, TY NB!\n"
     ]
    }
   ],
   "source": [
    "np.random.seed(2022)\n",
    "anomaly_range = {\"machine-1-1\": [[50, 100], [850, 1000], [600, 800]]}\n",
    "\n",
    "dataset = \"SMD\"  # modify this to HUAWEI\n",
    "plot_figure=False\n",
    "repeat_pattern_len = 100\n",
    "repeat_num = 20\n",
    "\n",
    "\n",
    "datapath = os.path.join(f\"../datasets/anomaly/{dataset}_AUG\")\n",
    "os.makedirs(datapath, exist_ok=True)\n",
    "for subdataset in subdatasets[dataset]:\n",
    "    if subdataset not in anomaly_range: continue\n",
    "    data_dict = load_dataset(dataset, subdataset, nrows=750)\n",
    "    train_len = len(data_dict[\"train\"])\n",
    "\n",
    "    # modify wrong labels\n",
    "    modify_ranges = set()\n",
    "    for start, end in anomaly_range[subdataset]:\n",
    "        if start < train_len:\n",
    "            end_min = min(end, train_len)\n",
    "            modify_ranges |= set(range(start, end_min))\n",
    "\n",
    "    normal_indice = [idx for idx in range(train_len) if idx not in modify_ranges]\n",
    "    rand_start = np.random.randint(0, len(normal_indice) - len(modify_ranges), size=1)[\n",
    "        0\n",
    "    ]\n",
    "    rand_selection_indice = normal_indice[rand_start : rand_start + len(modify_ranges)]\n",
    "    assert len(modify_ranges) == len(rand_selection_indice)\n",
    "\n",
    "    original = copy.deepcopy(data_dict[\"train\"])\n",
    "    data_dict[\"train\"][list(modify_ranges), :] = data_dict[\"train\"][\n",
    "        rand_selection_indice, :\n",
    "    ]\n",
    "    \n",
    "    if plot_figure:\n",
    "        modified = data_dict[\"train\"]\n",
    "        dim = 0\n",
    "        fig, ax = plt.subplots(2, figsize=(15, 4*2))\n",
    "        ax[0].plot(original[:, dim])\n",
    "        ax[0].scatter(sorted(list(modify_ranges)), [max(original[:,dim])]*len(modify_ranges), c=\"r\")\n",
    "        ax[0].scatter(rand_selection_indice, [max(original[:,dim])]*len(modify_ranges), c=\"g\")\n",
    "        ax[1].plot(modified[:, dim])\n",
    "        print(modified[:, dim].sum(), original[:, dim].sum())\n",
    "\n",
    "        \n",
    "    # data augmentation for train\n",
    "    rand_start_list = np.random.randint(0, len(data_dict[\"train\"]) - repeat_pattern_len, size=repeat_num)\n",
    "    merged = [data_dict[\"train\"]]\n",
    "    for start in rand_start_list:\n",
    "        merged.append(data_dict[\"train\"][start: start+repeat_pattern_len])\n",
    "    train_aug = np.vstack(merged)\n",
    "    print(\"[Train] from {} to {}\".format(data_dict[\"train\"].shape, train_aug.shape))\n",
    "    \n",
    "\n",
    "    # data augmentation for test\n",
    "    rand_start_list = np.random.randint(0, len(data_dict[\"test\"]) - repeat_pattern_len, size=repeat_num)\n",
    "    merged = [data_dict[\"test\"]]\n",
    "    merged_label = [data_dict[\"test_labels\"]]\n",
    "    for start in rand_start_list:\n",
    "        merged.append(data_dict[\"test\"][start: start+repeat_pattern_len])\n",
    "        merged_label.append(data_dict[\"test_labels\"][start: start+repeat_pattern_len])\n",
    "    test_aug = np.vstack(merged)\n",
    "    test_labels_aug = np.concatenate(merged_label)\n",
    "    print(\"[Test] from {} to {}\".format(data_dict[\"test\"].shape, test_aug.shape))\n",
    "    print(\"[Test Labels] from {} to {}\".format(data_dict[\"test_labels\"].shape, test_labels_aug.shape))\n",
    "    \n",
    "    result = {\n",
    "        \"train\": train_aug,\n",
    "        \"test\": test_aug,\n",
    "        \"test_labels\": test_labels_aug,\n",
    "    }\n",
    "    \n",
    "    for k, v in result.items():\n",
    "        with open(os.path.join(datapath, f\"{subdataset}_{k}.pkl\"), \"wb\") as fw:\n",
    "            pickle.dump(v, fw)\n",
    "    \n",
    "    print(\"Done, TY NB!\")"
   ]
  },
  {
   "cell_type": "code",
   "execution_count": null,
   "id": "confidential-convention",
   "metadata": {},
   "outputs": [],
   "source": []
  }
 ],
 "metadata": {
  "kernelspec": {
   "display_name": "Python 3",
   "language": "python",
   "name": "python3"
  },
  "language_info": {
   "codemirror_mode": {
    "name": "ipython",
    "version": 3
   },
   "file_extension": ".py",
   "mimetype": "text/x-python",
   "name": "python",
   "nbconvert_exporter": "python",
   "pygments_lexer": "ipython3",
   "version": "3.6.8"
  }
 },
 "nbformat": 4,
 "nbformat_minor": 5
}
