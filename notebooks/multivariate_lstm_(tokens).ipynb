{
 "cells": [
  {
   "cell_type": "code",
   "execution_count": 1,
   "metadata": {
    "collapsed": true
   },
   "outputs": [],
   "source": [
    "%load_ext autoreload\n",
    "%autoreload 2\n",
    "import sys\n",
    "import os\n",
    "sys.argv=['']\n",
    "del sys\n",
    "os.chdir(\"../\")"
   ]
  },
  {
   "cell_type": "code",
   "execution_count": 2,
   "metadata": {
    "collapsed": true
   },
   "outputs": [],
   "source": [
    "import matplotlib.pyplot as plt\n",
    "import os\n",
    "import json\n",
    "import math\n",
    "import torch\n",
    "import logging\n",
    "import numpy as np\n",
    "import pandas as pd\n",
    "\n",
    "from IPython import embed\n",
    "from common import data_preprocess \n",
    "from common.utils import print_to_json\n",
    "from common.dataloader import load_SMAP_MSL_dataset, load_CSV_dataset, load_SMD_dataset\n",
    "from common.sliding import BatchSlidingWindow, WindowIterator\n",
    "from common.config import parse_arguments, set_logger, initialize_config\n",
    "from networks.mlstm_token_clf import MultiLSTMEncoder\n",
    "from torch import nn\n",
    "# from pyts.approximation import SymbolicAggregateApproximation\n",
    "# from saxpy.znorm import znorm\n",
    "# from saxpy.paa import paa\n",
    "# from saxpy.sax import ts_to_string\n",
    "from gensim.models import Word2Vec\n",
    "\n",
    "%matplotlib inline"
   ]
  },
  {
   "cell_type": "code",
   "execution_count": 3,
   "metadata": {
    "collapsed": true
   },
   "outputs": [],
   "source": [
    "# train\n",
    "args = parse_arguments()\n",
    "\n",
    "# load config\n",
    "config_dir = \"./hypers/\" if not args[\"load\"] else args[\"load\"]\n",
    "params = initialize_config(config_dir, args)\n",
    "params[\"clear\"] = 1\n",
    "params[\"nrows\"] = None\n",
    "params[\"window_size\"] = 128"
   ]
  },
  {
   "cell_type": "code",
   "execution_count": 6,
   "metadata": {
    "scrolled": true
   },
   "outputs": [
    {
     "name": "stderr",
     "output_type": "stream",
     "text": [
      "2021-02-02 19:53:59,696 P27982 INFO Saving preprocessor into ./checkpoints/20210202-195348/preprocessor.pkl\n"
     ]
    }
   ],
   "source": [
    "# data_dict = load_SMD_dataset(\"./datasets/anomaly/SMD/processed\", \"machine-1-1\", params.get(\"use_dim\", \"all\"))\n",
    "data_dict = load_SMAP_MSL_dataset(\"./datasets/anomaly/SMAP-MSL/\", \"SMAP\", params.get(\"use_dim\", \"all\"))\n",
    "pp = data_preprocess.preprocessor()\n",
    "pp.save(params[\"save_path\"])\n",
    "# data_dict = pp.normalize(data_dict,method=\"standard\")\n",
    "# data_dict = pp.discretize(data_dict,n_bins=params.get(\"n_bins\", 100))\n",
    "# vocab_size = pp.build_vocab(data_dict)\n",
    "# vocab_size"
   ]
  },
  {
   "cell_type": "code",
   "execution_count": 54,
   "metadata": {},
   "outputs": [
    {
     "name": "stderr",
     "output_type": "stream",
     "text": [
      "2021-02-02 14:10:00,206 P20790 WARNING consider setting layer size to a multiple of 4 for greater performance\n",
      "2021-02-02 14:10:00,208 P20790 INFO collecting all words and their counts\n",
      "2021-02-02 14:10:00,209 P20790 INFO PROGRESS: at sentence #0, processed 0 words, keeping 0 word types\n",
      "2021-02-02 14:10:00,353 P20790 INFO collected 100 word types from a corpus of 1082202 raw words and 38 sentences\n",
      "2021-02-02 14:10:00,354 P20790 INFO Loading a fresh vocabulary\n",
      "2021-02-02 14:10:00,355 P20790 INFO effective_min_count=1 retains 100 unique words (100% of original 100, drops 0)\n",
      "2021-02-02 14:10:00,356 P20790 INFO effective_min_count=1 leaves 1082202 word corpus (100% of original 1082202, drops 0)\n",
      "2021-02-02 14:10:00,358 P20790 INFO deleting the raw counts dictionary of 100 items\n",
      "2021-02-02 14:10:00,358 P20790 INFO sample=0.001 downsamples 50 most-common words\n",
      "2021-02-02 14:10:00,359 P20790 INFO downsampling leaves estimated 325042 word corpus (30.0% of prior 1082202)\n",
      "2021-02-02 14:10:00,360 P20790 INFO estimated required memory for 100 words and 10 dimensions: 58000 bytes\n",
      "2021-02-02 14:10:00,361 P20790 INFO resetting layer weights\n",
      "2021-02-02 14:10:00,391 P20790 INFO training model with 4 workers on 100 vocabulary and 10 features, using sg=0 hs=0 sample=0.001 negative=5 window=5\n",
      "2021-02-02 14:10:00,543 P20790 INFO worker thread finished; awaiting finish of 3 more threads\n",
      "2021-02-02 14:10:00,544 P20790 INFO worker thread finished; awaiting finish of 2 more threads\n",
      "2021-02-02 14:10:00,545 P20790 INFO worker thread finished; awaiting finish of 1 more threads\n",
      "2021-02-02 14:10:00,546 P20790 INFO worker thread finished; awaiting finish of 0 more threads\n",
      "2021-02-02 14:10:00,547 P20790 INFO EPOCH - 1 : training on 1082202 raw words (265477 effective words) took 0.2s, 1734962 effective words/s\n",
      "2021-02-02 14:10:00,703 P20790 INFO worker thread finished; awaiting finish of 3 more threads\n",
      "2021-02-02 14:10:00,706 P20790 INFO worker thread finished; awaiting finish of 2 more threads\n",
      "2021-02-02 14:10:00,707 P20790 INFO worker thread finished; awaiting finish of 1 more threads\n",
      "2021-02-02 14:10:00,712 P20790 INFO worker thread finished; awaiting finish of 0 more threads\n",
      "2021-02-02 14:10:00,713 P20790 INFO EPOCH - 2 : training on 1082202 raw words (266246 effective words) took 0.2s, 1666955 effective words/s\n",
      "2021-02-02 14:10:00,869 P20790 INFO worker thread finished; awaiting finish of 3 more threads\n",
      "2021-02-02 14:10:00,870 P20790 INFO worker thread finished; awaiting finish of 2 more threads\n",
      "2021-02-02 14:10:00,871 P20790 INFO worker thread finished; awaiting finish of 1 more threads\n",
      "2021-02-02 14:10:00,872 P20790 INFO worker thread finished; awaiting finish of 0 more threads\n",
      "2021-02-02 14:10:00,873 P20790 INFO EPOCH - 3 : training on 1082202 raw words (265598 effective words) took 0.2s, 1722979 effective words/s\n",
      "2021-02-02 14:10:01,035 P20790 INFO worker thread finished; awaiting finish of 3 more threads\n",
      "2021-02-02 14:10:01,037 P20790 INFO worker thread finished; awaiting finish of 2 more threads\n",
      "2021-02-02 14:10:01,037 P20790 INFO worker thread finished; awaiting finish of 1 more threads\n",
      "2021-02-02 14:10:01,038 P20790 INFO worker thread finished; awaiting finish of 0 more threads\n",
      "2021-02-02 14:10:01,039 P20790 INFO EPOCH - 4 : training on 1082202 raw words (266190 effective words) took 0.2s, 1664167 effective words/s\n",
      "2021-02-02 14:10:01,191 P20790 INFO worker thread finished; awaiting finish of 3 more threads\n",
      "2021-02-02 14:10:01,195 P20790 INFO worker thread finished; awaiting finish of 2 more threads\n",
      "2021-02-02 14:10:01,196 P20790 INFO worker thread finished; awaiting finish of 1 more threads\n",
      "2021-02-02 14:10:01,197 P20790 INFO worker thread finished; awaiting finish of 0 more threads\n",
      "2021-02-02 14:10:01,198 P20790 INFO EPOCH - 5 : training on 1082202 raw words (266124 effective words) took 0.2s, 1696154 effective words/s\n",
      "2021-02-02 14:10:01,199 P20790 INFO training on a 5411010 raw words (1329635 effective words) took 0.8s, 1648989 effective words/s\n"
     ]
    },
    {
     "data": {
      "text/plain": [
       "torch.Size([100, 10])"
      ]
     },
     "execution_count": 54,
     "metadata": {},
     "output_type": "execute_result"
    }
   ],
   "source": [
    "sentences = [list(item) for item in data_dict[\"train\"].T.astype(str)]\n",
    "model = Word2Vec(sentences=sentences, size=10, window=5, min_count=1, workers=4)\n",
    "pretrain_mat = torch.FloatTensor(np.array([model.wv[str(i)] for i in range(vocab_size)]))\n",
    "pretrain_mat.shape\n",
    "# model.save(\"word2vec.model\")"
   ]
  },
  {
   "cell_type": "code",
   "execution_count": null,
   "metadata": {
    "collapsed": true
   },
   "outputs": [],
   "source": []
  },
  {
   "cell_type": "code",
   "execution_count": 7,
   "metadata": {},
   "outputs": [
    {
     "name": "stderr",
     "output_type": "stream",
     "text": [
      "2021-02-02 19:54:35,559 P27982 INFO Generating sliding windows (size 128).\n",
      "2021-02-02 19:54:40,543 P27982 INFO Train windows #: (27011, 128, 25)\n",
      "2021-02-02 19:54:40,545 P27982 INFO Test windows #: (427489, 128, 25)\n"
     ]
    }
   ],
   "source": [
    "window_dict = data_preprocess.generate_windows(data_dict, data_hdf5_path=params[\"path\"], **params)"
   ]
  },
  {
   "cell_type": "code",
   "execution_count": 43,
   "metadata": {},
   "outputs": [
    {
     "data": {
      "text/plain": [
       "array([[ 8.,  6.,  9., ...,  7.,  0.,  0.],\n",
       "       [ 6.,  3.,  8., ...,  7.,  0.,  0.],\n",
       "       [ 8.,  3.,  7., ...,  7.,  0.,  0.],\n",
       "       ...,\n",
       "       [ 6.,  8., 11., ...,  6.,  0.,  0.],\n",
       "       [ 6., 26., 17., ...,  7.,  0.,  0.],\n",
       "       [ 4., 11., 14., ...,  5.,  0.,  0.]], dtype=float32)"
      ]
     },
     "execution_count": 43,
     "metadata": {},
     "output_type": "execute_result"
    }
   ],
   "source": [
    "window_dict[\"train_windows\"][6]"
   ]
  },
  {
   "cell_type": "code",
   "execution_count": 56,
   "metadata": {
    "collapsed": true
   },
   "outputs": [],
   "source": [
    "train_iterator = WindowIterator(window_dict[\"train_windows\"], batch_size=params[\"batch_size\"], shuffle=True)\n",
    "test_iterator = WindowIterator(window_dict[\"test_windows\"], batch_size=params[\"batch_size\"], shuffle=False)\n",
    "params['in_channels'] = data_dict[\"dim\"]\n",
    "params[\"embedding_dim\"] = 32\n",
    "params[\"lr\"] = 1.0e-3"
   ]
  },
  {
   "cell_type": "code",
   "execution_count": 57,
   "metadata": {
    "scrolled": true
   },
   "outputs": [
    {
     "name": "stderr",
     "output_type": "stream",
     "text": [
      "2021-02-02 14:10:04,147 P20790 INFO Compiling finished.\n"
     ]
    }
   ],
   "source": [
    "encoder = MultiLSTMEncoder(vocab_size=vocab_size, pretrain_mat=None, **params)"
   ]
  },
  {
   "cell_type": "code",
   "execution_count": 60,
   "metadata": {
    "scrolled": true
   },
   "outputs": [
    {
     "name": "stderr",
     "output_type": "stream",
     "text": [
      "2021-02-02 14:14:25,609 P20790 INFO Start training for 89 batches.\n",
      "2021-02-02 14:15:43,569 P20790 INFO Epoch: 1, loss: 2.01830\n",
      "Traceback (most recent call last):\n",
      "  File \"/Users/liujinyang/anaconda3/envs/python36/lib/python3.6/multiprocessing/queues.py\", line 240, in _feed\n",
      "    send_bytes(obj)\n",
      "  File \"/Users/liujinyang/anaconda3/envs/python36/lib/python3.6/multiprocessing/connection.py\", line 200, in send_bytes\n",
      "    self._send_bytes(m[offset:offset + size])\n",
      "  File \"/Users/liujinyang/anaconda3/envs/python36/lib/python3.6/multiprocessing/connection.py\", line 404, in _send_bytes\n",
      "    self._send(header + buf)\n",
      "  File \"/Users/liujinyang/anaconda3/envs/python36/lib/python3.6/multiprocessing/connection.py\", line 368, in _send\n",
      "    n = write(self._handle, buf)\n",
      "BrokenPipeError: [Errno 32] Broken pipe\n"
     ]
    },
    {
     "ename": "KeyboardInterrupt",
     "evalue": "",
     "output_type": "error",
     "traceback": [
      "\u001b[0;31m---------------------------------------------------------------------------\u001b[0m",
      "\u001b[0;31mKeyboardInterrupt\u001b[0m                         Traceback (most recent call last)",
      "\u001b[0;32m<ipython-input-60-78283119b9e9>\u001b[0m in \u001b[0;36m<module>\u001b[0;34m\u001b[0m\n\u001b[1;32m      4\u001b[0m             \u001b[0mtest_iterator\u001b[0m\u001b[0;34m=\u001b[0m\u001b[0mtest_iterator\u001b[0m\u001b[0;34m.\u001b[0m\u001b[0mloader\u001b[0m\u001b[0;34m,\u001b[0m\u001b[0;34m\u001b[0m\u001b[0;34m\u001b[0m\u001b[0m\n\u001b[1;32m      5\u001b[0m             \u001b[0mtest_labels\u001b[0m\u001b[0;34m=\u001b[0m\u001b[0;32mNone\u001b[0m\u001b[0;34m,\u001b[0m\u001b[0;34m\u001b[0m\u001b[0;34m\u001b[0m\u001b[0m\n\u001b[0;32m----> 6\u001b[0;31m             \u001b[0;34m**\u001b[0m\u001b[0mparams\u001b[0m\u001b[0;34m\u001b[0m\u001b[0;34m\u001b[0m\u001b[0m\n\u001b[0m\u001b[1;32m      7\u001b[0m         )\n\u001b[1;32m      8\u001b[0m \u001b[0mencoder\u001b[0m\u001b[0;34m.\u001b[0m\u001b[0msave_encoder\u001b[0m\u001b[0;34m(\u001b[0m\u001b[0;34m)\u001b[0m\u001b[0;34m\u001b[0m\u001b[0;34m\u001b[0m\u001b[0m\n",
      "\u001b[0;32m~/Codes/TS-anomaly/networks/wrappers.py\u001b[0m in \u001b[0;36mfit\u001b[0;34m(self, train_iterator, test_iterator, test_labels, percent, nb_steps_per_verbose, save_memory, monitor, patience, **kwargs)\u001b[0m\n\u001b[1;32m    118\u001b[0m                 \u001b[0mself\u001b[0m\u001b[0;34m.\u001b[0m\u001b[0moptimizer\u001b[0m\u001b[0;34m.\u001b[0m\u001b[0mzero_grad\u001b[0m\u001b[0;34m(\u001b[0m\u001b[0;34m)\u001b[0m\u001b[0;34m\u001b[0m\u001b[0;34m\u001b[0m\u001b[0m\n\u001b[1;32m    119\u001b[0m                 \u001b[0mloss\u001b[0m \u001b[0;34m=\u001b[0m \u001b[0mreturn_dict\u001b[0m\u001b[0;34m[\u001b[0m\u001b[0;34m\"loss\"\u001b[0m\u001b[0;34m]\u001b[0m\u001b[0;34m\u001b[0m\u001b[0;34m\u001b[0m\u001b[0m\n\u001b[0;32m--> 120\u001b[0;31m                 \u001b[0mloss\u001b[0m\u001b[0;34m.\u001b[0m\u001b[0mbackward\u001b[0m\u001b[0;34m(\u001b[0m\u001b[0;34m)\u001b[0m\u001b[0;34m\u001b[0m\u001b[0;34m\u001b[0m\u001b[0m\n\u001b[0m\u001b[1;32m    121\u001b[0m \u001b[0;34m\u001b[0m\u001b[0m\n\u001b[1;32m    122\u001b[0m                 \u001b[0;31m# torch.nn.utils.clip_grad_norm_(self.parameters(), max_norm=20)\u001b[0m\u001b[0;34m\u001b[0m\u001b[0;34m\u001b[0m\u001b[0;34m\u001b[0m\u001b[0m\n",
      "\u001b[0;32m~/anaconda3/envs/python36/lib/python3.6/site-packages/torch/tensor.py\u001b[0m in \u001b[0;36mbackward\u001b[0;34m(self, gradient, retain_graph, create_graph)\u001b[0m\n\u001b[1;32m    219\u001b[0m                 \u001b[0mretain_graph\u001b[0m\u001b[0;34m=\u001b[0m\u001b[0mretain_graph\u001b[0m\u001b[0;34m,\u001b[0m\u001b[0;34m\u001b[0m\u001b[0;34m\u001b[0m\u001b[0m\n\u001b[1;32m    220\u001b[0m                 create_graph=create_graph)\n\u001b[0;32m--> 221\u001b[0;31m         \u001b[0mtorch\u001b[0m\u001b[0;34m.\u001b[0m\u001b[0mautograd\u001b[0m\u001b[0;34m.\u001b[0m\u001b[0mbackward\u001b[0m\u001b[0;34m(\u001b[0m\u001b[0mself\u001b[0m\u001b[0;34m,\u001b[0m \u001b[0mgradient\u001b[0m\u001b[0;34m,\u001b[0m \u001b[0mretain_graph\u001b[0m\u001b[0;34m,\u001b[0m \u001b[0mcreate_graph\u001b[0m\u001b[0;34m)\u001b[0m\u001b[0;34m\u001b[0m\u001b[0;34m\u001b[0m\u001b[0m\n\u001b[0m\u001b[1;32m    222\u001b[0m \u001b[0;34m\u001b[0m\u001b[0m\n\u001b[1;32m    223\u001b[0m     \u001b[0;32mdef\u001b[0m \u001b[0mregister_hook\u001b[0m\u001b[0;34m(\u001b[0m\u001b[0mself\u001b[0m\u001b[0;34m,\u001b[0m \u001b[0mhook\u001b[0m\u001b[0;34m)\u001b[0m\u001b[0;34m:\u001b[0m\u001b[0;34m\u001b[0m\u001b[0;34m\u001b[0m\u001b[0m\n",
      "\u001b[0;32m~/anaconda3/envs/python36/lib/python3.6/site-packages/torch/autograd/__init__.py\u001b[0m in \u001b[0;36mbackward\u001b[0;34m(tensors, grad_tensors, retain_graph, create_graph, grad_variables)\u001b[0m\n\u001b[1;32m    130\u001b[0m     Variable._execution_engine.run_backward(\n\u001b[1;32m    131\u001b[0m         \u001b[0mtensors\u001b[0m\u001b[0;34m,\u001b[0m \u001b[0mgrad_tensors_\u001b[0m\u001b[0;34m,\u001b[0m \u001b[0mretain_graph\u001b[0m\u001b[0;34m,\u001b[0m \u001b[0mcreate_graph\u001b[0m\u001b[0;34m,\u001b[0m\u001b[0;34m\u001b[0m\u001b[0;34m\u001b[0m\u001b[0m\n\u001b[0;32m--> 132\u001b[0;31m         allow_unreachable=True)  # allow_unreachable flag\n\u001b[0m\u001b[1;32m    133\u001b[0m \u001b[0;34m\u001b[0m\u001b[0m\n\u001b[1;32m    134\u001b[0m \u001b[0;34m\u001b[0m\u001b[0m\n",
      "\u001b[0;31mKeyboardInterrupt\u001b[0m: "
     ]
    }
   ],
   "source": [
    "# training\n",
    "encoder.fit(\n",
    "            train_iterator,\n",
    "            test_iterator=test_iterator.loader,\n",
    "            test_labels=None,\n",
    "            **params\n",
    "        )\n",
    "encoder.save_encoder()"
   ]
  },
  {
   "cell_type": "code",
   "execution_count": null,
   "metadata": {},
   "outputs": [],
   "source": [
    "# test_labels = window_dict[\"test_labels\"][:, -1]\n",
    "score_dict = encoder.score(test_iterator.loader, window_dict[\"test_labels\"],)"
   ]
  },
  {
   "cell_type": "code",
   "execution_count": null,
   "metadata": {
    "collapsed": true
   },
   "outputs": [],
   "source": [
    "plt.plot(score_dict[\"score\"])"
   ]
  },
  {
   "cell_type": "code",
   "execution_count": null,
   "metadata": {},
   "outputs": [],
   "source": [
    "# def reconstruction_loader(loader, encoder):\n",
    "train_iterator_non_shuffle = WindowIterator(window_dict[\"train_windows\"],\n",
    "                                            batch_size=params[\"batch_size\"], shuffle=False)\n",
    "loader = train_iterator_non_shuffle.loader\n",
    "\n",
    "# loader = test_iterator.loader\n",
    "\n",
    "\n",
    "encoder = encoder.eval()\n",
    "with torch.no_grad():\n",
    "    recst_list = []\n",
    "    real_list = []\n",
    "    loss = 0\n",
    "    for batch in loader:\n",
    "        batch = batch.to(encoder.device)\n",
    "        return_dict = encoder(batch)\n",
    "        # diff = return_dict[\"diff\"].max(dim=-1)[0] # chose the most anomaous ts\n",
    "        recst = return_dict[\"recst\"]  # chose the most anomaous ts\n",
    "        recst_list.append(recst)\n",
    "        real_list.append(return_dict[\"y\"])\n",
    "        loss += return_dict[\"loss\"].item()\n",
    "print(loss / len(loader))\n",
    "recst_list = torch.cat(recst_list).cpu().numpy()\n",
    "real_list = torch.cat(real_list).cpu().numpy()\n",
    "diff_list = recst_list-real_list"
   ]
  },
  {
   "cell_type": "code",
   "execution_count": 48,
   "metadata": {},
   "outputs": [
    {
     "data": {
      "text/plain": [
       "torch.Size([58, 38])"
      ]
     },
     "execution_count": 48,
     "metadata": {},
     "output_type": "execute_result"
    }
   ],
   "source": [
    "return_dict[\"recst\"].shape"
   ]
  },
  {
   "cell_type": "code",
   "execution_count": 49,
   "metadata": {},
   "outputs": [
    {
     "name": "stdout",
     "output_type": "stream",
     "text": [
      "(5690, 38)\n",
      "(5690, 38)\n",
      "(5690, 38)\n"
     ]
    }
   ],
   "source": [
    "print(recst_list.shape)\n",
    "print(real_list.shape)\n",
    "print(diff_list.shape)"
   ]
  },
  {
   "cell_type": "code",
   "execution_count": 50,
   "metadata": {},
   "outputs": [
    {
     "data": {
      "text/plain": [
       "(array([ 6.,  3.,  8.,  7.,  0., 91., 96.,  0., 12.,  0.], dtype=float32),\n",
       " array([ 6,  3,  8,  7,  0, 91, 96,  0, 10,  0]))"
      ]
     },
     "execution_count": 50,
     "metadata": {},
     "output_type": "execute_result"
    }
   ],
   "source": [
    "real_list[0, 0:10], recst_list[0, 0:10]"
   ]
  },
  {
   "cell_type": "code",
   "execution_count": 51,
   "metadata": {},
   "outputs": [
    {
     "data": {
      "image/png": "[encoded data removed]",
      "text/plain": [
       "<Figure size 864x864 with 2 Axes>"
      ]
     },
     "metadata": {
      "needs_background": "light"
     },
     "output_type": "display_data"
    }
   ],
   "source": [
    "dims = [0,1]\n",
    "fig, ax = plt.subplots(nrows=len(dims), sharey=True, figsize=(12,12))\n",
    "i=20\n",
    "# for i in range(len(dims)):\n",
    "# ax[0].plot(recst, 'r', label='reconstruction')\n",
    "# ax[0].legend(loc='best')\n",
    "ax[0].plot(recst_list[0:500,i].reshape(-1), 'r', label='recst')\n",
    "ax[1].plot(real_list[0:500,i].reshape(-1), 'b', label='real')\n",
    "# ax[1].plot(diff_list[15000:-1].reshape(-1), 'b', label='real')\n",
    "# ax[1].plot(window_dict[\"test_labels\"][15000:, -1].reshape(-1)+0.3, 'r', label='real')\n",
    "# ax[0].legend(loc='best')\n",
    "# ax[1].legend(loc='best')\n",
    "\n",
    "# ax[2].plot(recst, 'r', label='reconstruction')\n",
    "# ax[2].plot(real, 'b', label='real')\n",
    "# ax[2].legend(loc='best')\n",
    "\n",
    "# ax[3].plot(diff, 'g', label='ecart')\n",
    "# ax[3].legend(loc='best')\n",
    "\n",
    "plt.legend()\n",
    "plt.suptitle(\"Result of the autoencoder\")\n",
    "plt.show()"
   ]
  },
  {
   "cell_type": "code",
   "execution_count": 23,
   "metadata": {},
   "outputs": [
    {
     "data": {
      "text/plain": [
       "tensor([2, 1, 1])"
      ]
     },
     "execution_count": 23,
     "metadata": {},
     "output_type": "execute_result"
    }
   ],
   "source": [
    "torch.randint(1,3, (3,))"
   ]
  },
  {
   "cell_type": "code",
   "execution_count": null,
   "metadata": {
    "collapsed": true
   },
   "outputs": [],
   "source": []
  }
 ],
 "metadata": {
  "kernelspec": {
   "display_name": "Python 3.6.3 64-bit ('python36': conda)",
   "language": "python",
   "name": "python36364bitpython36conda9488ed586bcc4bdeab5df32bb542d026"
  },
  "language_info": {
   "codemirror_mode": {
    "name": "ipython",
    "version": 3
   },
   "file_extension": ".py",
   "mimetype": "text/x-python",
   "name": "python",
   "nbconvert_exporter": "python",
   "pygments_lexer": "ipython3",
   "version": "3.6.8"
  }
 },
 "nbformat": 4,
 "nbformat_minor": 2
}
