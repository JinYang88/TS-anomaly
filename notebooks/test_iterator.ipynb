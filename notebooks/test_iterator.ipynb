{
 "cells": [
  {
   "cell_type": "code",
   "execution_count": 1,
   "metadata": {
    "collapsed": true
   },
   "outputs": [],
   "source": [
    "%load_ext autoreload\n",
    "%autoreload 2"
   ]
  },
  {
   "cell_type": "code",
   "execution_count": 4,
   "metadata": {
    "collapsed": true
   },
   "outputs": [],
   "source": [
    "import os\n",
    "import pandas as pd\n",
    "import pickle as pkl\n",
    "import numpy as np\n",
    "from common.sliding import BatchSlidingWindow"
   ]
  },
  {
   "cell_type": "code",
   "execution_count": 5,
   "metadata": {},
   "outputs": [
    {
     "name": "stdout",
     "output_type": "stream",
     "text": [
      "(28479, 38)\n"
     ]
    }
   ],
   "source": [
    "output_folder = './datasets/SMD/processed'\n",
    "with open(os.path.join(output_folder, \"machine-1-1_test.pkl\"), \"rb\") as fr:\n",
    "    sample_data = pkl.load(fr)\n",
    "with open(os.path.join(output_folder, \"machine-1-1_test_label.pkl\"), \"rb\") as fr:\n",
    "    label = pkl.load(fr)\n",
    "print(sample_data.shape)"
   ]
  },
  {
   "cell_type": "code",
   "execution_count": 50,
   "metadata": {
    "collapsed": true
   },
   "outputs": [],
   "source": [
    "sample_array = sample_data.T"
   ]
  },
  {
   "cell_type": "code",
   "execution_count": 51,
   "metadata": {},
   "outputs": [],
   "source": [
    "sliding_window = BatchSlidingWindow(sample_array.shape[1], window_size=100, batch_size=32)"
   ]
  },
  {
   "cell_type": "code",
   "execution_count": 52,
   "metadata": {},
   "outputs": [],
   "source": [
    "batch = next(iter(sliding_window.get_iterator(sample_array)))"
   ]
  },
  {
   "cell_type": "code",
   "execution_count": 54,
   "metadata": {},
   "outputs": [
    {
     "data": {
      "text/plain": [
       "(38, 32, 100)"
      ]
     },
     "execution_count": 54,
     "metadata": {},
     "output_type": "execute_result"
    }
   ],
   "source": [
    "batch.shape"
   ]
  },
  {
   "cell_type": "code",
   "execution_count": 41,
   "metadata": {},
   "outputs": [
    {
     "data": {
      "text/plain": [
       "38"
      ]
     },
     "execution_count": 41,
     "metadata": {},
     "output_type": "execute_result"
    }
   ],
   "source": [
    "len(batch)"
   ]
  },
  {
   "cell_type": "code",
   "execution_count": 43,
   "metadata": {},
   "outputs": [
    {
     "data": {
      "text/plain": [
       "array([0.075269, 0.086022, 0.075269, 0.086022, 0.086022, 0.086022,\n",
       "       0.086022, 0.086022, 0.086022, 0.086022, 0.086022, 0.086022,\n",
       "       0.086022, 0.086022, 0.086022, 0.086022, 0.075269, 0.086022,\n",
       "       0.086022, 0.086022, 0.086022, 0.086022, 0.086022, 0.086022,\n",
       "       0.086022, 0.086022, 0.086022, 0.086022, 0.086022, 0.086022,\n",
       "       0.086022, 0.086022, 0.086022, 0.086022, 0.086022, 0.086022,\n",
       "       0.075269, 0.086022, 0.086022, 0.086022, 0.096774, 0.086022,\n",
       "       0.096774, 0.096774, 0.096774, 0.096774, 0.086022, 0.086022,\n",
       "       0.086022, 0.096774, 0.096774, 0.096774, 0.096774, 0.096774,\n",
       "       0.096774, 0.096774, 0.096774, 0.096774, 0.086022, 0.096774,\n",
       "       0.096774, 0.086022, 0.086022, 0.096774, 0.096774, 0.096774,\n",
       "       0.096774, 0.086022, 0.096774, 0.096774, 0.096774, 0.096774,\n",
       "       0.107527, 0.096774, 0.150538, 0.139785, 0.11828 , 0.129032,\n",
       "       0.129032, 0.139785, 0.129032, 0.139785, 0.150538, 0.139785,\n",
       "       0.150538, 0.150538, 0.150538, 0.150538, 0.150538, 0.150538,\n",
       "       0.150538, 0.150538, 0.150538, 0.150538, 0.16129 , 0.16129 ,\n",
       "       0.150538, 0.150538, 0.150538, 0.16129 ], dtype=float32)"
      ]
     },
     "execution_count": 43,
     "metadata": {},
     "output_type": "execute_result"
    }
   ],
   "source": [
    "batch[0][0]"
   ]
  },
  {
   "cell_type": "code",
   "execution_count": 48,
   "metadata": {},
   "outputs": [
    {
     "data": {
      "text/plain": [
       "array([0.065678, 0.080508, 0.064619, 0.048729, 0.051907, 0.085805,\n",
       "       0.070975, 0.059322, 0.043432, 0.050847, 0.097458, 0.074153,\n",
       "       0.121822, 0.103814, 0.097458, 0.10911 , 0.070975, 0.076271,\n",
       "       0.04661 , 0.079449, 0.075212, 0.102754, 0.059322, 0.034958,\n",
       "       0.087924, 0.067797, 0.036017, 0.067797, 0.059322, 0.042373,\n",
       "       0.082627, 0.059322, 0.080508, 0.045551, 0.067797, 0.068856,\n",
       "       0.041314, 0.04661 , 0.190678, 0.129237, 0.147246, 0.098517,\n",
       "       0.09322 , 0.102754, 0.083686, 0.068856, 0.103814, 0.080508,\n",
       "       0.075212, 0.077331, 0.049788, 0.099576, 0.104873, 0.070975,\n",
       "       0.088983, 0.099576, 0.126059, 0.080508, 0.081568, 0.148305,\n",
       "       0.118644, 0.080508, 0.079449, 0.055085, 0.060381, 0.049788,\n",
       "       0.068856, 0.042373, 0.038136, 0.043432, 0.034958, 0.072034,\n",
       "       0.099576, 0.118644, 0.105932, 0.113347, 0.115466, 0.112288,\n",
       "       0.115466, 0.147246, 0.134534, 0.181144, 0.225636, 0.163136,\n",
       "       0.133475, 0.1875  , 0.161017, 0.192797, 0.179025, 0.15678 ,\n",
       "       0.133475, 0.097458, 0.075212, 0.079449, 0.101695, 0.205508,\n",
       "       0.166314, 0.146186, 0.157839, 0.161017], dtype=float32)"
      ]
     },
     "execution_count": 48,
     "metadata": {},
     "output_type": "execute_result"
    }
   ],
   "source": [
    "batch[1][0]"
   ]
  },
  {
   "cell_type": "code",
   "execution_count": 49,
   "metadata": {},
   "outputs": [
    {
     "data": {
      "text/plain": [
       "array([0.065678, 0.080508, 0.064619, 0.048729, 0.051907, 0.085805,\n",
       "       0.070975, 0.059322, 0.043432, 0.050847, 0.097458, 0.074153,\n",
       "       0.121822, 0.103814, 0.097458, 0.10911 , 0.070975, 0.076271,\n",
       "       0.04661 , 0.079449, 0.075212, 0.102754, 0.059322, 0.034958,\n",
       "       0.087924, 0.067797, 0.036017, 0.067797, 0.059322, 0.042373,\n",
       "       0.082627, 0.059322, 0.080508, 0.045551, 0.067797, 0.068856,\n",
       "       0.041314, 0.04661 , 0.190678, 0.129237, 0.147246, 0.098517,\n",
       "       0.09322 , 0.102754, 0.083686, 0.068856, 0.103814, 0.080508,\n",
       "       0.075212, 0.077331, 0.049788, 0.099576, 0.104873, 0.070975,\n",
       "       0.088983, 0.099576, 0.126059, 0.080508, 0.081568, 0.148305,\n",
       "       0.118644, 0.080508, 0.079449, 0.055085, 0.060381, 0.049788,\n",
       "       0.068856, 0.042373, 0.038136, 0.043432, 0.034958, 0.072034,\n",
       "       0.099576, 0.118644, 0.105932, 0.113347, 0.115466, 0.112288,\n",
       "       0.115466, 0.147246, 0.134534, 0.181144, 0.225636, 0.163136,\n",
       "       0.133475, 0.1875  , 0.161017, 0.192797, 0.179025, 0.15678 ,\n",
       "       0.133475, 0.097458, 0.075212, 0.079449, 0.101695, 0.205508,\n",
       "       0.166314, 0.146186, 0.157839, 0.161017], dtype=float32)"
      ]
     },
     "execution_count": 49,
     "metadata": {},
     "output_type": "execute_result"
    }
   ],
   "source": [
    "sample_array[1, 0:100]"
   ]
  },
  {
   "cell_type": "code",
   "execution_count": null,
   "metadata": {
    "collapsed": true
   },
   "outputs": [],
   "source": []
  }
 ],
 "metadata": {
  "kernelspec": {
   "display_name": "Python 3.6.3 64-bit ('python36': conda)",
   "language": "python",
   "name": "python36364bitpython36conda9488ed586bcc4bdeab5df32bb542d026"
  },
  "language_info": {
   "codemirror_mode": {
    "name": "ipython",
    "version": 3
   },
   "file_extension": ".py",
   "mimetype": "text/x-python",
   "name": "python",
   "nbconvert_exporter": "python",
   "pygments_lexer": "ipython3",
   "version": "3.6.3"
  }
 },
 "nbformat": 4,
 "nbformat_minor": 2
}
