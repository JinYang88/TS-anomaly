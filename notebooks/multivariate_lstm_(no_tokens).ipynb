{
 "cells": [
  {
   "cell_type": "code",
   "execution_count": 1,
   "metadata": {
    "collapsed": true
   },
   "outputs": [],
   "source": [
    "%load_ext autoreload\n",
    "%autoreload 2\n",
    "import sys\n",
    "import os\n",
    "sys.argv=['']\n",
    "del sys\n",
    "os.chdir(\"../\")"
   ]
  },
  {
   "cell_type": "code",
   "execution_count": 279,
   "metadata": {},
   "outputs": [],
   "source": [
    "import matplotlib.pyplot as plt\n",
    "import os\n",
    "import json\n",
    "import math\n",
    "import torch\n",
    "import logging\n",
    "import numpy as np\n",
    "import pandas as pd\n",
    "\n",
    "from IPython import embed\n",
    "from common import data_preprocess \n",
    "from common.utils import print_to_json, iter_thresholds\n",
    "from common.dataloader import load_dataset\n",
    "from common.sliding import WindowIterator\n",
    "from common.config import parse_arguments, set_logger, initialize_config\n",
    "from networks.mlstm import MultiLSTMEncoder\n",
    "from torch import nn\n",
    "%matplotlib inline"
   ]
  },
  {
   "cell_type": "code",
   "execution_count": 359,
   "metadata": {
    "collapsed": true
   },
   "outputs": [],
   "source": [
    "# train\n",
    "args = parse_arguments()\n",
    "\n",
    "# load config\n",
    "config_dir = \"./hypers/\" if not args[\"load\"] else args[\"load\"]\n",
    "params = initialize_config(config_dir, args)\n",
    "params[\"clear\"] = 1\n",
    "params[\"nrows\"] = None\n",
    "params[\"inter\"] = \"CONCAT\"\n",
    "params[\"window_size\"] = 64"
   ]
  },
  {
   "cell_type": "code",
   "execution_count": 360,
   "metadata": {},
   "outputs": [
    {
     "name": "stderr",
     "output_type": "stream",
     "text": [
      "2021-02-21 21:40:59,691 P18958 INFO Loading machine-1-1 of SMD dataset\n",
      "2021-02-21 21:40:59,693 P18958 INFO 1 files found.\n"
     ]
    }
   ],
   "source": [
    "data_dict = load_dataset(\"SMD\",\"machine-1-1\", use_dim=\"all\")\n",
    "# data_dict[\"train\"].max(), data_dict[\"train\"].min()"
   ]
  },
  {
   "cell_type": "code",
   "execution_count": 361,
   "metadata": {},
   "outputs": [
    {
     "name": "stderr",
     "output_type": "stream",
     "text": [
      "2021-02-21 21:40:59,874 P18958 INFO Saving preprocessor into ./checkpoints/20210221-214059/preprocessor.pkl\n",
      "2021-02-21 21:40:59,876 P18958 INFO Normalizing data\n",
      "2021-02-21 21:40:59,898 P18958 INFO Generating sliding windows (size 64).\n",
      "2021-02-21 21:41:00,119 P18958 INFO Train windows #: (5683, 64, 38)\n",
      "2021-02-21 21:41:00,120 P18958 INFO Test windows #: (28415, 64, 38)\n"
     ]
    }
   ],
   "source": [
    "pp = data_preprocess.preprocessor()\n",
    "pp.save(params[\"save_path\"])\n",
    "data_dict = pp.normalize(data_dict,method=\"minmax\")\n",
    "window_dict = data_preprocess.generate_windows(data_dict, data_hdf5_path=params[\"path\"], **params)"
   ]
  },
  {
   "cell_type": "code",
   "execution_count": 362,
   "metadata": {},
   "outputs": [
    {
     "data": {
      "text/plain": [
       "(1.0, 0.0, 1.0, 0.0)"
      ]
     },
     "execution_count": 362,
     "metadata": {},
     "output_type": "execute_result"
    }
   ],
   "source": [
    "data_dict[\"train\"].max(), data_dict[\"train\"].min(), data_dict[\"test\"].max(), data_dict[\"test\"].min()"
   ]
  },
  {
   "cell_type": "code",
   "execution_count": 363,
   "metadata": {},
   "outputs": [
    {
     "data": {
      "text/plain": [
       "(5683, 64, 38)"
      ]
     },
     "execution_count": 363,
     "metadata": {},
     "output_type": "execute_result"
    }
   ],
   "source": [
    "window_dict[\"train_windows\"].shape"
   ]
  },
  {
   "cell_type": "code",
   "execution_count": 364,
   "metadata": {
    "collapsed": true
   },
   "outputs": [],
   "source": [
    "train_iterator = WindowIterator(window_dict[\"train_windows\"], batch_size=params[\"batch_size\"], shuffle=True)\n",
    "test_iterator = WindowIterator(window_dict[\"test_windows\"], batch_size=params[\"batch_size\"], shuffle=False)\n",
    "params['in_channels'] = data_dict[\"dim\"]"
   ]
  },
  {
   "cell_type": "code",
   "execution_count": 374,
   "metadata": {},
   "outputs": [
    {
     "name": "stderr",
     "output_type": "stream",
     "text": [
      "2021-02-21 21:46:00,397 P18958 INFO Compiling finished.\n"
     ]
    }
   ],
   "source": [
    "params[\"nb_steps\"] = 100\n",
    "encoder = MultiLSTMEncoder(**params)"
   ]
  },
  {
   "cell_type": "code",
   "execution_count": 375,
   "metadata": {
    "scrolled": false
   },
   "outputs": [
    {
     "name": "stderr",
     "output_type": "stream",
     "text": [
      "2021-02-21 21:46:00,933 P18958 INFO Start training for 89 batches.\n",
      "2021-02-21 21:46:01,393 P18958 INFO Epoch: 1, loss: 33.15905\n",
      "2021-02-21 21:46:01,894 P18958 INFO Epoch: 2, loss: 11.48040\n",
      "2021-02-21 21:46:02,391 P18958 INFO Epoch: 3, loss: 8.91554\n",
      "2021-02-21 21:46:02,845 P18958 INFO Epoch: 4, loss: 7.44295\n",
      "2021-02-21 21:46:03,258 P18958 INFO Epoch: 5, loss: 6.82931\n",
      "2021-02-21 21:46:03,690 P18958 INFO Epoch: 6, loss: 6.20646\n",
      "2021-02-21 21:46:04,130 P18958 INFO Epoch: 7, loss: 5.77943\n",
      "2021-02-21 21:46:04,626 P18958 INFO Epoch: 8, loss: 5.56758\n",
      "2021-02-21 21:46:05,075 P18958 INFO Epoch: 9, loss: 5.27469\n",
      "2021-02-21 21:46:05,503 P18958 INFO Epoch: 10, loss: 4.98169\n",
      "2021-02-21 21:46:05,954 P18958 INFO Epoch: 11, loss: 5.00614\n",
      "2021-02-21 21:46:06,373 P18958 INFO Epoch: 12, loss: 4.74511\n",
      "2021-02-21 21:46:06,794 P18958 INFO Epoch: 13, loss: 4.67794\n",
      "2021-02-21 21:46:07,237 P18958 INFO Epoch: 14, loss: 4.58019\n",
      "2021-02-21 21:46:07,711 P18958 INFO Epoch: 15, loss: 4.38458\n",
      "2021-02-21 21:46:08,275 P18958 INFO Epoch: 16, loss: 4.29211\n",
      "2021-02-21 21:46:08,908 P18958 INFO Epoch: 17, loss: 4.38394\n",
      "2021-02-21 21:46:09,822 P18958 INFO Epoch: 18, loss: 4.21583\n",
      "2021-02-21 21:46:11,170 P18958 INFO Epoch: 19, loss: 4.16848\n",
      "2021-02-21 21:46:12,683 P18958 INFO Epoch: 20, loss: 4.09376\n",
      "2021-02-21 21:46:14,292 P18958 INFO Epoch: 21, loss: 4.07680\n",
      "2021-02-21 21:46:15,982 P18958 INFO Epoch: 22, loss: 4.07041\n",
      "2021-02-21 21:46:17,875 P18958 INFO Epoch: 23, loss: 4.03424\n",
      "2021-02-21 21:46:19,889 P18958 INFO Epoch: 24, loss: 3.97330\n",
      "2021-02-21 21:46:21,961 P18958 INFO Epoch: 25, loss: 3.82190\n",
      "2021-02-21 21:46:24,091 P18958 INFO Epoch: 26, loss: 3.85356\n",
      "2021-02-21 21:46:26,349 P18958 INFO Epoch: 27, loss: 3.76775\n",
      "2021-02-21 21:46:28,660 P18958 INFO Epoch: 28, loss: 3.75569\n",
      "2021-02-21 21:46:30,994 P18958 INFO Epoch: 29, loss: 3.77086\n",
      "2021-02-21 21:46:33,420 P18958 INFO Epoch: 30, loss: 3.67547\n",
      "2021-02-21 21:46:35,849 P18958 INFO Epoch: 31, loss: 3.76870\n",
      "2021-02-21 21:46:38,329 P18958 INFO Epoch: 32, loss: 3.66220\n",
      "2021-02-21 21:46:40,750 P18958 INFO Epoch: 33, loss: 3.64409\n",
      "2021-02-21 21:46:43,183 P18958 INFO Epoch: 34, loss: 3.56058\n",
      "2021-02-21 21:46:45,694 P18958 INFO Epoch: 35, loss: 3.58708\n",
      "2021-02-21 21:46:48,147 P18958 INFO Epoch: 36, loss: 3.52409\n",
      "2021-02-21 21:46:50,425 P18958 INFO Epoch: 37, loss: 3.57012\n",
      "2021-02-21 21:46:52,769 P18958 INFO Epoch: 38, loss: 3.56377\n"
     ]
    },
    {
     "ename": "KeyboardInterrupt",
     "evalue": "",
     "output_type": "error",
     "traceback": [
      "\u001b[0;31m---------------------------------------------------------------------------\u001b[0m",
      "\u001b[0;31mKeyboardInterrupt\u001b[0m                         Traceback (most recent call last)",
      "\u001b[0;32m<ipython-input-375-78283119b9e9>\u001b[0m in \u001b[0;36m<module>\u001b[0;34m\u001b[0m\n\u001b[1;32m      4\u001b[0m             \u001b[0mtest_iterator\u001b[0m\u001b[0;34m=\u001b[0m\u001b[0mtest_iterator\u001b[0m\u001b[0;34m.\u001b[0m\u001b[0mloader\u001b[0m\u001b[0;34m,\u001b[0m\u001b[0;34m\u001b[0m\u001b[0;34m\u001b[0m\u001b[0m\n\u001b[1;32m      5\u001b[0m             \u001b[0mtest_labels\u001b[0m\u001b[0;34m=\u001b[0m\u001b[0;32mNone\u001b[0m\u001b[0;34m,\u001b[0m\u001b[0;34m\u001b[0m\u001b[0;34m\u001b[0m\u001b[0m\n\u001b[0;32m----> 6\u001b[0;31m             \u001b[0;34m**\u001b[0m\u001b[0mparams\u001b[0m\u001b[0;34m\u001b[0m\u001b[0;34m\u001b[0m\u001b[0m\n\u001b[0m\u001b[1;32m      7\u001b[0m         )\n\u001b[1;32m      8\u001b[0m \u001b[0mencoder\u001b[0m\u001b[0;34m.\u001b[0m\u001b[0msave_encoder\u001b[0m\u001b[0;34m(\u001b[0m\u001b[0;34m)\u001b[0m\u001b[0;34m\u001b[0m\u001b[0;34m\u001b[0m\u001b[0m\n",
      "\u001b[0;32m~/Codes/TS-anomaly/networks/wrappers.py\u001b[0m in \u001b[0;36mfit\u001b[0;34m(self, train_iterator, test_iterator, test_labels, percent, nb_steps_per_verbose, save_memory, monitor, patience, **kwargs)\u001b[0m\n\u001b[1;32m    123\u001b[0m                 \u001b[0;31m# batch: b x d x dim\u001b[0m\u001b[0;34m\u001b[0m\u001b[0;34m\u001b[0m\u001b[0;34m\u001b[0m\u001b[0m\n\u001b[1;32m    124\u001b[0m                 \u001b[0mbatch\u001b[0m \u001b[0;34m=\u001b[0m \u001b[0mbatch\u001b[0m\u001b[0;34m.\u001b[0m\u001b[0mto\u001b[0m\u001b[0;34m(\u001b[0m\u001b[0mself\u001b[0m\u001b[0;34m.\u001b[0m\u001b[0mdevice\u001b[0m\u001b[0;34m)\u001b[0m\u001b[0;34m.\u001b[0m\u001b[0mfloat\u001b[0m\u001b[0;34m(\u001b[0m\u001b[0;34m)\u001b[0m\u001b[0;34m\u001b[0m\u001b[0;34m\u001b[0m\u001b[0m\n\u001b[0;32m--> 125\u001b[0;31m                 \u001b[0mreturn_dict\u001b[0m \u001b[0;34m=\u001b[0m \u001b[0mself\u001b[0m\u001b[0;34m(\u001b[0m\u001b[0mbatch\u001b[0m\u001b[0;34m)\u001b[0m\u001b[0;34m\u001b[0m\u001b[0;34m\u001b[0m\u001b[0m\n\u001b[0m\u001b[1;32m    126\u001b[0m                 \u001b[0mself\u001b[0m\u001b[0;34m.\u001b[0m\u001b[0moptimizer\u001b[0m\u001b[0;34m.\u001b[0m\u001b[0mzero_grad\u001b[0m\u001b[0;34m(\u001b[0m\u001b[0;34m)\u001b[0m\u001b[0;34m\u001b[0m\u001b[0;34m\u001b[0m\u001b[0m\n\u001b[1;32m    127\u001b[0m                 \u001b[0mloss\u001b[0m \u001b[0;34m=\u001b[0m \u001b[0mreturn_dict\u001b[0m\u001b[0;34m[\u001b[0m\u001b[0;34m\"loss\"\u001b[0m\u001b[0;34m]\u001b[0m\u001b[0;34m\u001b[0m\u001b[0;34m\u001b[0m\u001b[0m\n",
      "\u001b[0;32m~/anaconda3/envs/python36/lib/python3.6/site-packages/torch/nn/modules/module.py\u001b[0m in \u001b[0;36m_call_impl\u001b[0;34m(self, *input, **kwargs)\u001b[0m\n\u001b[1;32m    725\u001b[0m             \u001b[0mresult\u001b[0m \u001b[0;34m=\u001b[0m \u001b[0mself\u001b[0m\u001b[0;34m.\u001b[0m\u001b[0m_slow_forward\u001b[0m\u001b[0;34m(\u001b[0m\u001b[0;34m*\u001b[0m\u001b[0minput\u001b[0m\u001b[0;34m,\u001b[0m \u001b[0;34m**\u001b[0m\u001b[0mkwargs\u001b[0m\u001b[0;34m)\u001b[0m\u001b[0;34m\u001b[0m\u001b[0;34m\u001b[0m\u001b[0m\n\u001b[1;32m    726\u001b[0m         \u001b[0;32melse\u001b[0m\u001b[0;34m:\u001b[0m\u001b[0;34m\u001b[0m\u001b[0;34m\u001b[0m\u001b[0m\n\u001b[0;32m--> 727\u001b[0;31m             \u001b[0mresult\u001b[0m \u001b[0;34m=\u001b[0m \u001b[0mself\u001b[0m\u001b[0;34m.\u001b[0m\u001b[0mforward\u001b[0m\u001b[0;34m(\u001b[0m\u001b[0;34m*\u001b[0m\u001b[0minput\u001b[0m\u001b[0;34m,\u001b[0m \u001b[0;34m**\u001b[0m\u001b[0mkwargs\u001b[0m\u001b[0;34m)\u001b[0m\u001b[0;34m\u001b[0m\u001b[0;34m\u001b[0m\u001b[0m\n\u001b[0m\u001b[1;32m    728\u001b[0m         for hook in itertools.chain(\n\u001b[1;32m    729\u001b[0m                 \u001b[0m_global_forward_hooks\u001b[0m\u001b[0;34m.\u001b[0m\u001b[0mvalues\u001b[0m\u001b[0;34m(\u001b[0m\u001b[0;34m)\u001b[0m\u001b[0;34m,\u001b[0m\u001b[0;34m\u001b[0m\u001b[0;34m\u001b[0m\u001b[0m\n",
      "\u001b[0;32m~/Codes/TS-anomaly/networks/mlstm.py\u001b[0m in \u001b[0;36mforward\u001b[0;34m(self, batch_window)\u001b[0m\n\u001b[1;32m    119\u001b[0m \u001b[0;34m\u001b[0m\u001b[0m\n\u001b[1;32m    120\u001b[0m         \u001b[0moutputs\u001b[0m \u001b[0;34m=\u001b[0m \u001b[0mself\u001b[0m\u001b[0;34m.\u001b[0m\u001b[0mdropout\u001b[0m\u001b[0;34m(\u001b[0m\u001b[0moutputs\u001b[0m\u001b[0;34m)\u001b[0m\u001b[0;34m\u001b[0m\u001b[0;34m\u001b[0m\u001b[0m\n\u001b[0;32m--> 121\u001b[0;31m         recst = self.linear(outputs).view(\n\u001b[0m\u001b[1;32m    122\u001b[0m             \u001b[0mself\u001b[0m\u001b[0;34m.\u001b[0m\u001b[0mbatch_size\u001b[0m\u001b[0;34m,\u001b[0m \u001b[0mself\u001b[0m\u001b[0;34m.\u001b[0m\u001b[0mprediction_length\u001b[0m\u001b[0;34m,\u001b[0m \u001b[0mlen\u001b[0m\u001b[0;34m(\u001b[0m\u001b[0mself\u001b[0m\u001b[0;34m.\u001b[0m\u001b[0mprediction_dims\u001b[0m\u001b[0;34m)\u001b[0m\u001b[0;34m\u001b[0m\u001b[0;34m\u001b[0m\u001b[0m\n\u001b[1;32m    123\u001b[0m         )\n",
      "\u001b[0;32m~/anaconda3/envs/python36/lib/python3.6/site-packages/torch/nn/modules/module.py\u001b[0m in \u001b[0;36m_call_impl\u001b[0;34m(self, *input, **kwargs)\u001b[0m\n\u001b[1;32m    725\u001b[0m             \u001b[0mresult\u001b[0m \u001b[0;34m=\u001b[0m \u001b[0mself\u001b[0m\u001b[0;34m.\u001b[0m\u001b[0m_slow_forward\u001b[0m\u001b[0;34m(\u001b[0m\u001b[0;34m*\u001b[0m\u001b[0minput\u001b[0m\u001b[0;34m,\u001b[0m \u001b[0;34m**\u001b[0m\u001b[0mkwargs\u001b[0m\u001b[0;34m)\u001b[0m\u001b[0;34m\u001b[0m\u001b[0;34m\u001b[0m\u001b[0m\n\u001b[1;32m    726\u001b[0m         \u001b[0;32melse\u001b[0m\u001b[0;34m:\u001b[0m\u001b[0;34m\u001b[0m\u001b[0;34m\u001b[0m\u001b[0m\n\u001b[0;32m--> 727\u001b[0;31m             \u001b[0mresult\u001b[0m \u001b[0;34m=\u001b[0m \u001b[0mself\u001b[0m\u001b[0;34m.\u001b[0m\u001b[0mforward\u001b[0m\u001b[0;34m(\u001b[0m\u001b[0;34m*\u001b[0m\u001b[0minput\u001b[0m\u001b[0;34m,\u001b[0m \u001b[0;34m**\u001b[0m\u001b[0mkwargs\u001b[0m\u001b[0;34m)\u001b[0m\u001b[0;34m\u001b[0m\u001b[0;34m\u001b[0m\u001b[0m\n\u001b[0m\u001b[1;32m    728\u001b[0m         for hook in itertools.chain(\n\u001b[1;32m    729\u001b[0m                 \u001b[0m_global_forward_hooks\u001b[0m\u001b[0;34m.\u001b[0m\u001b[0mvalues\u001b[0m\u001b[0;34m(\u001b[0m\u001b[0;34m)\u001b[0m\u001b[0;34m,\u001b[0m\u001b[0;34m\u001b[0m\u001b[0;34m\u001b[0m\u001b[0m\n",
      "\u001b[0;32m~/anaconda3/envs/python36/lib/python3.6/site-packages/torch/nn/modules/container.py\u001b[0m in \u001b[0;36mforward\u001b[0;34m(self, input)\u001b[0m\n\u001b[1;32m    115\u001b[0m     \u001b[0;32mdef\u001b[0m \u001b[0mforward\u001b[0m\u001b[0;34m(\u001b[0m\u001b[0mself\u001b[0m\u001b[0;34m,\u001b[0m \u001b[0minput\u001b[0m\u001b[0;34m)\u001b[0m\u001b[0;34m:\u001b[0m\u001b[0;34m\u001b[0m\u001b[0;34m\u001b[0m\u001b[0m\n\u001b[1;32m    116\u001b[0m         \u001b[0;32mfor\u001b[0m \u001b[0mmodule\u001b[0m \u001b[0;32min\u001b[0m \u001b[0mself\u001b[0m\u001b[0;34m:\u001b[0m\u001b[0;34m\u001b[0m\u001b[0;34m\u001b[0m\u001b[0m\n\u001b[0;32m--> 117\u001b[0;31m             \u001b[0minput\u001b[0m \u001b[0;34m=\u001b[0m \u001b[0mmodule\u001b[0m\u001b[0;34m(\u001b[0m\u001b[0minput\u001b[0m\u001b[0;34m)\u001b[0m\u001b[0;34m\u001b[0m\u001b[0;34m\u001b[0m\u001b[0m\n\u001b[0m\u001b[1;32m    118\u001b[0m         \u001b[0;32mreturn\u001b[0m \u001b[0minput\u001b[0m\u001b[0;34m\u001b[0m\u001b[0;34m\u001b[0m\u001b[0m\n\u001b[1;32m    119\u001b[0m \u001b[0;34m\u001b[0m\u001b[0m\n",
      "\u001b[0;32m~/anaconda3/envs/python36/lib/python3.6/site-packages/torch/nn/modules/module.py\u001b[0m in \u001b[0;36m_call_impl\u001b[0;34m(self, *input, **kwargs)\u001b[0m\n\u001b[1;32m    725\u001b[0m             \u001b[0mresult\u001b[0m \u001b[0;34m=\u001b[0m \u001b[0mself\u001b[0m\u001b[0;34m.\u001b[0m\u001b[0m_slow_forward\u001b[0m\u001b[0;34m(\u001b[0m\u001b[0;34m*\u001b[0m\u001b[0minput\u001b[0m\u001b[0;34m,\u001b[0m \u001b[0;34m**\u001b[0m\u001b[0mkwargs\u001b[0m\u001b[0;34m)\u001b[0m\u001b[0;34m\u001b[0m\u001b[0;34m\u001b[0m\u001b[0m\n\u001b[1;32m    726\u001b[0m         \u001b[0;32melse\u001b[0m\u001b[0;34m:\u001b[0m\u001b[0;34m\u001b[0m\u001b[0;34m\u001b[0m\u001b[0m\n\u001b[0;32m--> 727\u001b[0;31m             \u001b[0mresult\u001b[0m \u001b[0;34m=\u001b[0m \u001b[0mself\u001b[0m\u001b[0;34m.\u001b[0m\u001b[0mforward\u001b[0m\u001b[0;34m(\u001b[0m\u001b[0;34m*\u001b[0m\u001b[0minput\u001b[0m\u001b[0;34m,\u001b[0m \u001b[0;34m**\u001b[0m\u001b[0mkwargs\u001b[0m\u001b[0;34m)\u001b[0m\u001b[0;34m\u001b[0m\u001b[0;34m\u001b[0m\u001b[0m\n\u001b[0m\u001b[1;32m    728\u001b[0m         for hook in itertools.chain(\n\u001b[1;32m    729\u001b[0m                 \u001b[0m_global_forward_hooks\u001b[0m\u001b[0;34m.\u001b[0m\u001b[0mvalues\u001b[0m\u001b[0;34m(\u001b[0m\u001b[0;34m)\u001b[0m\u001b[0;34m,\u001b[0m\u001b[0;34m\u001b[0m\u001b[0;34m\u001b[0m\u001b[0m\n",
      "\u001b[0;32m~/anaconda3/envs/python36/lib/python3.6/site-packages/torch/nn/modules/linear.py\u001b[0m in \u001b[0;36mforward\u001b[0;34m(self, input)\u001b[0m\n\u001b[1;32m     91\u001b[0m \u001b[0;34m\u001b[0m\u001b[0m\n\u001b[1;32m     92\u001b[0m     \u001b[0;32mdef\u001b[0m \u001b[0mforward\u001b[0m\u001b[0;34m(\u001b[0m\u001b[0mself\u001b[0m\u001b[0;34m,\u001b[0m \u001b[0minput\u001b[0m\u001b[0;34m:\u001b[0m \u001b[0mTensor\u001b[0m\u001b[0;34m)\u001b[0m \u001b[0;34m->\u001b[0m \u001b[0mTensor\u001b[0m\u001b[0;34m:\u001b[0m\u001b[0;34m\u001b[0m\u001b[0;34m\u001b[0m\u001b[0m\n\u001b[0;32m---> 93\u001b[0;31m         \u001b[0;32mreturn\u001b[0m \u001b[0mF\u001b[0m\u001b[0;34m.\u001b[0m\u001b[0mlinear\u001b[0m\u001b[0;34m(\u001b[0m\u001b[0minput\u001b[0m\u001b[0;34m,\u001b[0m \u001b[0mself\u001b[0m\u001b[0;34m.\u001b[0m\u001b[0mweight\u001b[0m\u001b[0;34m,\u001b[0m \u001b[0mself\u001b[0m\u001b[0;34m.\u001b[0m\u001b[0mbias\u001b[0m\u001b[0;34m)\u001b[0m\u001b[0;34m\u001b[0m\u001b[0;34m\u001b[0m\u001b[0m\n\u001b[0m\u001b[1;32m     94\u001b[0m \u001b[0;34m\u001b[0m\u001b[0m\n\u001b[1;32m     95\u001b[0m     \u001b[0;32mdef\u001b[0m \u001b[0mextra_repr\u001b[0m\u001b[0;34m(\u001b[0m\u001b[0mself\u001b[0m\u001b[0;34m)\u001b[0m \u001b[0;34m->\u001b[0m \u001b[0mstr\u001b[0m\u001b[0;34m:\u001b[0m\u001b[0;34m\u001b[0m\u001b[0;34m\u001b[0m\u001b[0m\n",
      "\u001b[0;32m~/anaconda3/envs/python36/lib/python3.6/site-packages/torch/nn/functional.py\u001b[0m in \u001b[0;36mlinear\u001b[0;34m(input, weight, bias)\u001b[0m\n\u001b[1;32m   1688\u001b[0m     \u001b[0;32mif\u001b[0m \u001b[0minput\u001b[0m\u001b[0;34m.\u001b[0m\u001b[0mdim\u001b[0m\u001b[0;34m(\u001b[0m\u001b[0;34m)\u001b[0m \u001b[0;34m==\u001b[0m \u001b[0;36m2\u001b[0m \u001b[0;32mand\u001b[0m \u001b[0mbias\u001b[0m \u001b[0;32mis\u001b[0m \u001b[0;32mnot\u001b[0m \u001b[0;32mNone\u001b[0m\u001b[0;34m:\u001b[0m\u001b[0;34m\u001b[0m\u001b[0;34m\u001b[0m\u001b[0m\n\u001b[1;32m   1689\u001b[0m         \u001b[0;31m# fused op is marginally faster\u001b[0m\u001b[0;34m\u001b[0m\u001b[0;34m\u001b[0m\u001b[0;34m\u001b[0m\u001b[0m\n\u001b[0;32m-> 1690\u001b[0;31m         \u001b[0mret\u001b[0m \u001b[0;34m=\u001b[0m \u001b[0mtorch\u001b[0m\u001b[0;34m.\u001b[0m\u001b[0maddmm\u001b[0m\u001b[0;34m(\u001b[0m\u001b[0mbias\u001b[0m\u001b[0;34m,\u001b[0m \u001b[0minput\u001b[0m\u001b[0;34m,\u001b[0m \u001b[0mweight\u001b[0m\u001b[0;34m.\u001b[0m\u001b[0mt\u001b[0m\u001b[0;34m(\u001b[0m\u001b[0;34m)\u001b[0m\u001b[0;34m)\u001b[0m\u001b[0;34m\u001b[0m\u001b[0;34m\u001b[0m\u001b[0m\n\u001b[0m\u001b[1;32m   1691\u001b[0m     \u001b[0;32melse\u001b[0m\u001b[0;34m:\u001b[0m\u001b[0;34m\u001b[0m\u001b[0;34m\u001b[0m\u001b[0m\n\u001b[1;32m   1692\u001b[0m         \u001b[0moutput\u001b[0m \u001b[0;34m=\u001b[0m \u001b[0minput\u001b[0m\u001b[0;34m.\u001b[0m\u001b[0mmatmul\u001b[0m\u001b[0;34m(\u001b[0m\u001b[0mweight\u001b[0m\u001b[0;34m.\u001b[0m\u001b[0mt\u001b[0m\u001b[0;34m(\u001b[0m\u001b[0;34m)\u001b[0m\u001b[0;34m)\u001b[0m\u001b[0;34m\u001b[0m\u001b[0;34m\u001b[0m\u001b[0m\n",
      "\u001b[0;31mKeyboardInterrupt\u001b[0m: "
     ]
    }
   ],
   "source": [
    "# training\n",
    "encoder.fit(\n",
    "            train_iterator,\n",
    "            test_iterator=test_iterator.loader,\n",
    "            test_labels=None,\n",
    "            **params\n",
    "        )\n",
    "encoder.save_encoder()"
   ]
  },
  {
   "cell_type": "code",
   "execution_count": 301,
   "metadata": {},
   "outputs": [
    {
     "name": "stderr",
     "output_type": "stream",
     "text": [
      "2021-02-21 21:29:33,565 P18958 INFO Loading model from ./checkpoints/20210221-212825/MultiLSTM__20210221-212825.pth\n"
     ]
    }
   ],
   "source": [
    "encoder.load_encoder()"
   ]
  },
  {
   "cell_type": "code",
   "execution_count": 261,
   "metadata": {},
   "outputs": [
    {
     "name": "stderr",
     "output_type": "stream",
     "text": [
      "2021-02-21 21:22:33,208 P18958 INFO Evaluating\n",
      "2021-02-21 21:22:40,359 P18958 INFO AUC: 0.949, F1: 0.058(0.999), PS: 0.030(1.000), RC:0.942(0.998)\n"
     ]
    },
    {
     "data": {
      "text/plain": [
       "[<matplotlib.lines.Line2D at 0x7f89029fb710>]"
      ]
     },
     "execution_count": 261,
     "metadata": {},
     "output_type": "execute_result"
    },
    {
     "data": {
      "image/png": "[encoded data removed]",
      "text/plain": [
       "<Figure size 432x288 with 1 Axes>"
      ]
     },
     "metadata": {
      "needs_background": "light"
     },
     "output_type": "display_data"
    }
   ],
   "source": [
    "# test_labels = window_dict[\"test_labels\"][:, -1]\n",
    "score_dict = encoder.score(test_iterator.loader, window_dict[\"test_labels\"])\n",
    "best_f1, best_theta, best_adjust, best_raw = iter_thresholds(\n",
    "            score_dict[\"score\"], score_dict[\"anomaly_label\"]\n",
    "        )\n",
    "plt.plot(best_raw, \"r\")\n",
    "plt.plot(best_adjust + 0.1, \"b\")\n",
    "plt.plot(score_dict[\"anomaly_label\"]+0.3, \"g\")\n",
    "# plt.plot(score_dict[\"score\"], \"g\")"
   ]
  },
  {
   "cell_type": "code",
   "execution_count": 376,
   "metadata": {},
   "outputs": [
    {
     "name": "stdout",
     "output_type": "stream",
     "text": [
      "17.871358666334068\n"
     ]
    }
   ],
   "source": [
    "# def reconstruction_loader(loader, encoder):\n",
    "train_iterator_non_shuffle = WindowIterator(window_dict[\"train_windows\"],\n",
    "                                            batch_size=params[\"batch_size\"], shuffle=False)\n",
    "loader = train_iterator_non_shuffle.loader\n",
    "\n",
    "loader = test_iterator.loader\n",
    "encoder = encoder.eval()\n",
    "with torch.no_grad():\n",
    "    recst_list = []\n",
    "    real_list = []\n",
    "    loss = 0\n",
    "    for batch in loader:\n",
    "        batch = batch.to(encoder.device)\n",
    "        return_dict = encoder(batch)\n",
    "        # diff = return_dict[\"diff\"].max(dim=-1)[0] # chose the most anomaous ts\n",
    "        recst = return_dict[\"recst\"]  # chose the most anomaous ts\n",
    "        recst_list.append(recst)\n",
    "        real_list.append(return_dict[\"y\"])\n",
    "        loss += return_dict[\"loss\"].item()\n",
    "print(loss / len(loader))\n",
    "recst_list = torch.cat(recst_list).squeeze().cpu().numpy()\n",
    "real_list = torch.cat(real_list).squeeze().cpu().numpy()\n",
    "diff_list = recst_list - real_list"
   ]
  },
  {
   "cell_type": "code",
   "execution_count": 370,
   "metadata": {},
   "outputs": [
    {
     "name": "stdout",
     "output_type": "stream",
     "text": [
      "(28415, 38)\n",
      "(28415, 38)\n",
      "(28415, 38)\n"
     ]
    }
   ],
   "source": [
    "print(recst_list.shape)\n",
    "print(real_list.shape)\n",
    "print(diff_list.shape)"
   ]
  },
  {
   "cell_type": "code",
   "execution_count": 371,
   "metadata": {},
   "outputs": [
    {
     "data": {
      "text/plain": [
       "(0.0, 1.0, -0.0071732067, 1.2338536)"
      ]
     },
     "execution_count": 371,
     "metadata": {},
     "output_type": "execute_result"
    }
   ],
   "source": [
    "real_list.min(), real_list.max(), recst_list.min(), recst_list.max()"
   ]
  },
  {
   "cell_type": "code",
   "execution_count": 372,
   "metadata": {},
   "outputs": [
    {
     "data": {
      "text/plain": [
       "(28415, 64)"
      ]
     },
     "execution_count": 372,
     "metadata": {},
     "output_type": "execute_result"
    }
   ],
   "source": [
    "window_dict[\"test_labels\"].shape"
   ]
  },
  {
   "cell_type": "code",
   "execution_count": 377,
   "metadata": {
    "scrolled": false
   },
   "outputs": [
    {
     "name": "stderr",
     "output_type": "stream",
     "text": [
      "2021-02-21 21:47:08,076 P18958 WARNING No handles with labels found to put in legend.\n"
     ]
    },
    {
     "data": {
      "image/png": "[encoded data removed]",
      "text/plain": [
       "<Figure size 864x864 with 3 Axes>"
      ]
     },
     "metadata": {
      "needs_background": "light"
     },
     "output_type": "display_data"
    }
   ],
   "source": [
    "dims = [0,1,2]\n",
    "fig, ax = plt.subplots(nrows=len(dims), sharey=True, figsize=(12,12))\n",
    "i=0\n",
    "# for i in range(len(dims)):\n",
    "# ax[0].plot(recst, 'r', label='reconstruction')\n",
    "# ax[0].legend(loc='best')\n",
    "ax[0].plot(recst_list[0:3000, 0].reshape(-1), 'r', label='recst')\n",
    "ax[0].plot(real_list[0:3000, 0].reshape(-1), 'b', label='real')\n",
    "ax[2].plot(diff_list[0:3000, 0].reshape(-1), 'b', label='score')\n",
    "# ax[2].plot(window_dict[\"test_labels\"][0:, -1].reshape(-1)+0.3, 'g', label='label')\n",
    "# ax[2].plot(best_adjust.astype(int)+0.2, 'r', label='label') \n",
    "ax[0].legend(loc='best')\n",
    "ax[1].legend(loc='best')\n",
    "\n",
    "plt.legend()\n",
    "plt.suptitle(\"Result of the autoencoder\")\n",
    "plt.show()"
   ]
  },
  {
   "cell_type": "code",
   "execution_count": null,
   "metadata": {
    "collapsed": true
   },
   "outputs": [],
   "source": []
  },
  {
   "cell_type": "code",
   "execution_count": 29,
   "metadata": {
    "collapsed": true
   },
   "outputs": [],
   "source": [
    "names=[\"time\", \"expid\", \"dataset\", \"auc\", \"f1\", \"f1a\"]\n",
    "df = pd.read_csv(\"./experiment_results.csv\", sep=\"\\t\", names=names)"
   ]
  },
  {
   "cell_type": "code",
   "execution_count": 30,
   "metadata": {},
   "outputs": [
    {
     "data": {
      "text/plain": [
       "0.9235357142857143"
      ]
     },
     "execution_count": 30,
     "metadata": {},
     "output_type": "execute_result"
    }
   ],
   "source": [
    "df[\"f1a\"].map(lambda x: float(x.split(\"-\")[1])).mean()"
   ]
  },
  {
   "cell_type": "code",
   "execution_count": null,
   "metadata": {
    "collapsed": true
   },
   "outputs": [],
   "source": []
  }
 ],
 "metadata": {
  "kernelspec": {
   "display_name": "Python 3",
   "language": "python",
   "name": "python3"
  },
  "language_info": {
   "codemirror_mode": {
    "name": "ipython",
    "version": 3
   },
   "file_extension": ".py",
   "mimetype": "text/x-python",
   "name": "python",
   "nbconvert_exporter": "python",
   "pygments_lexer": "ipython3",
   "version": "3.6.8"
  }
 },
 "nbformat": 4,
 "nbformat_minor": 2
}
