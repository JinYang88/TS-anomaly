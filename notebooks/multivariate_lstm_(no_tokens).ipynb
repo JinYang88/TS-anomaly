{
 "cells": [
  {
   "cell_type": "code",
   "execution_count": 1,
   "metadata": {
    "collapsed": true
   },
   "outputs": [],
   "source": [
    "%load_ext autoreload\n",
    "%autoreload 2\n",
    "import sys\n",
    "import os\n",
    "sys.argv=['']\n",
    "del sys\n",
    "os.chdir(\"../\")"
   ]
  },
  {
   "cell_type": "code",
   "execution_count": 128,
   "metadata": {},
   "outputs": [],
   "source": [
    "import matplotlib.pyplot as plt\n",
    "import os\n",
    "import json\n",
    "import math\n",
    "import torch\n",
    "import logging\n",
    "import numpy as np\n",
    "import pandas as pd\n",
    "\n",
    "from IPython import embed\n",
    "from common import data_preprocess \n",
    "from common.utils import print_to_json, iter_thresholds\n",
    "from common.dataloader import load_dataset\n",
    "from common.sliding import WindowIterator\n",
    "from common.config import parse_arguments, set_logger, initialize_config\n",
    "from networks.mlstm import MultiLSTMEncoder\n",
    "from torch import nn\n",
    "%matplotlib inline"
   ]
  },
  {
   "cell_type": "code",
   "execution_count": 198,
   "metadata": {
    "collapsed": true
   },
   "outputs": [],
   "source": [
    "# train\n",
    "args = parse_arguments()\n",
    "\n",
    "# load config\n",
    "config_dir = \"./hypers/\" if not args[\"load\"] else args[\"load\"]\n",
    "params = initialize_config(config_dir, args)\n",
    "params[\"clear\"] = 1\n",
    "params[\"nrows\"] = None\n",
    "params[\"inter\"] = \"FM\"\n",
    "params[\"window_size\"] = 64"
   ]
  },
  {
   "cell_type": "code",
   "execution_count": 199,
   "metadata": {},
   "outputs": [
    {
     "name": "stderr",
     "output_type": "stream",
     "text": [
      "2021-02-21 21:08:18,202 P18958 INFO Loading machine-1-1 of SMD dataset\n",
      "2021-02-21 21:08:18,204 P18958 INFO 1 files found.\n"
     ]
    }
   ],
   "source": [
    "data_dict = load_dataset(\"SMD\",\"machine-1-1\", use_dim=0)\n",
    "# data_dict[\"train\"].max(), data_dict[\"train\"].min()"
   ]
  },
  {
   "cell_type": "code",
   "execution_count": 209,
   "metadata": {},
   "outputs": [
    {
     "name": "stderr",
     "output_type": "stream",
     "text": [
      "2021-02-21 21:08:58,002 P18958 INFO Saving preprocessor into ./checkpoints/20210221-210818/preprocessor.pkl\n",
      "2021-02-21 21:08:58,005 P18958 INFO Normalizing data\n",
      "2021-02-21 21:08:58,009 P18958 INFO Generating sliding windows (size 64).\n",
      "2021-02-21 21:08:58,077 P18958 INFO Train windows #: (5683, 64, 1)\n",
      "2021-02-21 21:08:58,078 P18958 INFO Test windows #: (28415, 64, 1)\n"
     ]
    }
   ],
   "source": [
    "pp = data_preprocess.preprocessor()\n",
    "pp.save(params[\"save_path\"])\n",
    "data_dict = pp.normalize(data_dict,method=\"standard\")\n",
    "window_dict = data_preprocess.generate_windows(data_dict, data_hdf5_path=params[\"path\"], **params)"
   ]
  },
  {
   "cell_type": "code",
   "execution_count": 210,
   "metadata": {},
   "outputs": [
    {
     "data": {
      "text/plain": [
       "(7.593514, -1.1325077)"
      ]
     },
     "execution_count": 210,
     "metadata": {},
     "output_type": "execute_result"
    }
   ],
   "source": [
    "data_dict[\"train\"].max(), data_dict[\"train\"].min()"
   ]
  },
  {
   "cell_type": "code",
   "execution_count": 211,
   "metadata": {},
   "outputs": [
    {
     "data": {
      "text/plain": [
       "(5683, 64, 1)"
      ]
     },
     "execution_count": 211,
     "metadata": {},
     "output_type": "execute_result"
    }
   ],
   "source": [
    "window_dict[\"train_windows\"].shape"
   ]
  },
  {
   "cell_type": "code",
   "execution_count": 212,
   "metadata": {
    "collapsed": true
   },
   "outputs": [],
   "source": [
    "train_iterator = WindowIterator(window_dict[\"train_windows\"], batch_size=params[\"batch_size\"], shuffle=True)\n",
    "test_iterator = WindowIterator(window_dict[\"test_windows\"], batch_size=params[\"batch_size\"], shuffle=False)\n",
    "params['in_channels'] = data_dict[\"dim\"]"
   ]
  },
  {
   "cell_type": "code",
   "execution_count": 213,
   "metadata": {},
   "outputs": [
    {
     "name": "stderr",
     "output_type": "stream",
     "text": [
      "2021-02-21 21:09:00,451 P18958 INFO Compiling finished.\n"
     ]
    }
   ],
   "source": [
    "params[\"nb_steps\"] = 50\n",
    "encoder = MultiLSTMEncoder(**params)"
   ]
  },
  {
   "cell_type": "code",
   "execution_count": 214,
   "metadata": {
    "scrolled": true
   },
   "outputs": [
    {
     "name": "stderr",
     "output_type": "stream",
     "text": [
      "2021-02-21 21:09:01,172 P18958 INFO Start training for 89 batches.\n",
      "2021-02-21 21:09:01,386 P18958 INFO Epoch: 1, loss: 2084.34786\n",
      "2021-02-21 21:09:01,593 P18958 INFO Epoch: 2, loss: 713.91079\n",
      "2021-02-21 21:09:01,791 P18958 INFO Epoch: 3, loss: 327.08435\n",
      "2021-02-21 21:09:01,992 P18958 INFO Epoch: 4, loss: 77.81108\n",
      "2021-02-21 21:09:02,201 P18958 INFO Epoch: 5, loss: 43.10888\n",
      "2021-02-21 21:09:02,406 P18958 INFO Epoch: 6, loss: 17.20626\n",
      "2021-02-21 21:09:02,611 P18958 INFO Epoch: 7, loss: 12.22784\n",
      "2021-02-21 21:09:02,816 P18958 INFO Epoch: 8, loss: 8.55826\n",
      "2021-02-21 21:09:03,024 P18958 INFO Epoch: 9, loss: 5.89956\n",
      "2021-02-21 21:09:03,229 P18958 INFO Epoch: 10, loss: 2.64316\n",
      "2021-02-21 21:09:03,433 P18958 INFO Epoch: 11, loss: 1.55517\n",
      "2021-02-21 21:09:03,639 P18958 INFO Epoch: 12, loss: 2.70522\n",
      "2021-02-21 21:09:03,840 P18958 INFO Epoch: 13, loss: 4.40629\n",
      "2021-02-21 21:09:04,049 P18958 INFO Epoch: 14, loss: 1.13383\n",
      "2021-02-21 21:09:04,261 P18958 INFO Epoch: 15, loss: 1.27437\n",
      "2021-02-21 21:09:04,479 P18958 INFO Epoch: 16, loss: 1.30478\n",
      "2021-02-21 21:09:04,705 P18958 INFO Epoch: 17, loss: 1.17376\n",
      "2021-02-21 21:09:05,001 P18958 INFO Epoch: 18, loss: 1.00453\n",
      "2021-02-21 21:09:05,275 P18958 INFO Epoch: 19, loss: 1.18772\n",
      "2021-02-21 21:09:05,530 P18958 INFO Epoch: 20, loss: 0.95921\n",
      "2021-02-21 21:09:05,808 P18958 INFO Epoch: 21, loss: 0.70184\n",
      "2021-02-21 21:09:06,070 P18958 INFO Epoch: 22, loss: 0.69368\n",
      "2021-02-21 21:09:06,313 P18958 INFO Epoch: 23, loss: 0.71168\n",
      "2021-02-21 21:09:06,582 P18958 INFO Epoch: 24, loss: 1.11463\n",
      "2021-02-21 21:09:06,841 P18958 INFO Epoch: 25, loss: 1.81802\n",
      "2021-02-21 21:09:07,092 P18958 INFO Epoch: 26, loss: 1.68498\n",
      "2021-02-21 21:09:07,331 P18958 INFO Epoch: 27, loss: 0.71991\n",
      "2021-02-21 21:09:07,560 P18958 INFO Epoch: 28, loss: 0.67396\n",
      "2021-02-21 21:09:07,792 P18958 INFO Epoch: 29, loss: 0.64856\n",
      "2021-02-21 21:09:08,056 P18958 INFO Epoch: 30, loss: 0.67102\n",
      "2021-02-21 21:09:08,318 P18958 INFO Epoch: 31, loss: 0.76468\n",
      "2021-02-21 21:09:08,559 P18958 INFO Epoch: 32, loss: 0.68174\n",
      "2021-02-21 21:09:08,789 P18958 INFO Epoch: 33, loss: 0.62703\n",
      "2021-02-21 21:09:09,045 P18958 INFO Epoch: 34, loss: 0.70063\n",
      "2021-02-21 21:09:09,324 P18958 INFO Epoch: 35, loss: 0.63277\n",
      "2021-02-21 21:09:09,586 P18958 INFO Epoch: 36, loss: 0.66829\n",
      "2021-02-21 21:09:09,836 P18958 INFO Epoch: 37, loss: 0.65215\n",
      "2021-02-21 21:09:10,073 P18958 INFO Epoch: 38, loss: 0.66608\n",
      "2021-02-21 21:09:10,319 P18958 INFO Epoch: 39, loss: 0.68359\n",
      "2021-02-21 21:09:10,559 P18958 INFO Epoch: 40, loss: 0.66567\n",
      "2021-02-21 21:09:10,808 P18958 INFO Epoch: 41, loss: 0.65790\n",
      "2021-02-21 21:09:11,042 P18958 INFO Epoch: 42, loss: 0.85448\n",
      "2021-02-21 21:09:11,293 P18958 INFO Epoch: 43, loss: 0.76639\n",
      "2021-02-21 21:09:11,538 P18958 INFO Epoch: 44, loss: 0.64262\n",
      "2021-02-21 21:09:11,770 P18958 INFO Epoch: 45, loss: 0.64323\n",
      "2021-02-21 21:09:12,001 P18958 INFO Epoch: 46, loss: 0.62630\n",
      "2021-02-21 21:09:12,246 P18958 INFO Epoch: 47, loss: 0.65546\n",
      "2021-02-21 21:09:12,487 P18958 INFO Epoch: 48, loss: 0.62798\n",
      "2021-02-21 21:09:12,723 P18958 INFO Epoch: 49, loss: 1.18964\n",
      "2021-02-21 21:09:12,966 P18958 INFO Epoch: 50, loss: 1.49347\n",
      "2021-02-21 21:09:12,970 P18958 INFO Saving model to ./checkpoints/20210221-210818/MultiLSTM__20210221-210818.pth\n"
     ]
    }
   ],
   "source": [
    "# training\n",
    "encoder.fit(\n",
    "            train_iterator,\n",
    "            test_iterator=test_iterator.loader,\n",
    "            test_labels=None,\n",
    "            **params\n",
    "        )\n",
    "encoder.save_encoder()"
   ]
  },
  {
   "cell_type": "code",
   "execution_count": 126,
   "metadata": {},
   "outputs": [
    {
     "name": "stderr",
     "output_type": "stream",
     "text": [
      "2021-02-21 21:00:59,235 P18958 INFO Loading model from ./checkpoints/20210221-210040/MultiLSTM__20210221-210040.pth\n"
     ]
    }
   ],
   "source": [
    "encoder.load_encoder()"
   ]
  },
  {
   "cell_type": "code",
   "execution_count": null,
   "metadata": {},
   "outputs": [
    {
     "name": "stderr",
     "output_type": "stream",
     "text": [
      "2021-02-21 21:09:16,028 P18958 INFO Evaluating\n"
     ]
    }
   ],
   "source": [
    "# test_labels = window_dict[\"test_labels\"][:, -1]\n",
    "score_dict = encoder.score(test_iterator.loader, window_dict[\"test_labels\"])"
   ]
  },
  {
   "cell_type": "code",
   "execution_count": 189,
   "metadata": {},
   "outputs": [],
   "source": [
    "best_f1, best_theta, best_adjust, best_raw = iter_thresholds(\n",
    "            score_dict[\"score\"], score_dict[\"anomaly_label\"]\n",
    "        )"
   ]
  },
  {
   "cell_type": "code",
   "execution_count": 190,
   "metadata": {},
   "outputs": [
    {
     "data": {
      "text/plain": [
       "array([False, False, False, ..., False, False, False])"
      ]
     },
     "execution_count": 190,
     "metadata": {},
     "output_type": "execute_result"
    }
   ],
   "source": [
    "best_raw"
   ]
  },
  {
   "cell_type": "code",
   "execution_count": 191,
   "metadata": {},
   "outputs": [
    {
     "data": {
      "text/plain": [
       "[<matplotlib.lines.Line2D at 0x7f89019d91d0>]"
      ]
     },
     "execution_count": 191,
     "metadata": {},
     "output_type": "execute_result"
    },
    {
     "data": {
      "image/png": "[encoded data removed]",
      "text/plain": [
       "<Figure size 432x288 with 1 Axes>"
      ]
     },
     "metadata": {
      "needs_background": "light"
     },
     "output_type": "display_data"
    }
   ],
   "source": [
    "# x = []\n",
    "plt.plot(best_raw, \"r\")\n",
    "plt.plot(best_adjust + 0.1, \"b\")\n",
    "plt.plot(score_dict[\"anomaly_label\"]+0.3, \"g\")\n",
    "# plt.plot(score_dict[\"score\"], \"g\")"
   ]
  },
  {
   "cell_type": "code",
   "execution_count": 206,
   "metadata": {},
   "outputs": [
    {
     "name": "stdout",
     "output_type": "stream",
     "text": [
      "0.022586349455679312\n"
     ]
    }
   ],
   "source": [
    "# def reconstruction_loader(loader, encoder):\n",
    "# train_iterator_non_shuffle = WindowIterator(window_dict[\"train_windows\"],\n",
    "#                                             batch_size=params[\"batch_size\"], shuffle=False)\n",
    "# loader = train_iterator_non_shuffle.loader\n",
    "\n",
    "loader = test_iterator.loader\n",
    "encoder = encoder.eval()\n",
    "with torch.no_grad():\n",
    "    recst_list = []\n",
    "    real_list = []\n",
    "    loss = 0\n",
    "    for batch in loader:\n",
    "        batch = batch.to(encoder.device)\n",
    "        return_dict = encoder(batch)\n",
    "        # diff = return_dict[\"diff\"].max(dim=-1)[0] # chose the most anomaous ts\n",
    "        recst = return_dict[\"recst\"]  # chose the most anomaous ts\n",
    "        recst_list.append(recst)\n",
    "        real_list.append(return_dict[\"y\"])\n",
    "        loss += return_dict[\"loss\"].item()\n",
    "print(loss / len(loader))\n",
    "recst_list = torch.cat(recst_list).squeeze().cpu().numpy()\n",
    "real_list = torch.cat(real_list).squeeze().cpu().numpy()\n",
    "diff_list = recst_list-real_list"
   ]
  },
  {
   "cell_type": "code",
   "execution_count": 193,
   "metadata": {},
   "outputs": [
    {
     "name": "stdout",
     "output_type": "stream",
     "text": [
      "(28415,)\n",
      "(28415,)\n",
      "(28415,)\n"
     ]
    }
   ],
   "source": [
    "print(recst_list.shape)\n",
    "print(real_list.shape)\n",
    "print(diff_list.shape)"
   ]
  },
  {
   "cell_type": "code",
   "execution_count": 194,
   "metadata": {},
   "outputs": [
    {
     "data": {
      "text/plain": [
       "(0.021739747, 2.0217378, 0.04081373, 1.7673705)"
      ]
     },
     "execution_count": 194,
     "metadata": {},
     "output_type": "execute_result"
    }
   ],
   "source": [
    "real_list.min(), real_list.max(), recst_list.min(), recst_list.max()"
   ]
  },
  {
   "cell_type": "code",
   "execution_count": 195,
   "metadata": {},
   "outputs": [
    {
     "data": {
      "text/plain": [
       "(28415, 64)"
      ]
     },
     "execution_count": 195,
     "metadata": {},
     "output_type": "execute_result"
    }
   ],
   "source": [
    "window_dict[\"test_labels\"].shape"
   ]
  },
  {
   "cell_type": "code",
   "execution_count": 208,
   "metadata": {
    "scrolled": false
   },
   "outputs": [
    {
     "name": "stderr",
     "output_type": "stream",
     "text": [
      "2021-02-21 21:08:43,265 P18958 WARNING No handles with labels found to put in legend.\n"
     ]
    },
    {
     "data": {
      "image/png": "[encoded data removed]",
      "text/plain": [
       "<Figure size 864x864 with 3 Axes>"
      ]
     },
     "metadata": {
      "needs_background": "light"
     },
     "output_type": "display_data"
    }
   ],
   "source": [
    "dims = [0,1,2]\n",
    "fig, ax = plt.subplots(nrows=len(dims), sharey=True, figsize=(12,12))\n",
    "i=0\n",
    "# for i in range(len(dims)):\n",
    "# ax[0].plot(recst, 'r', label='reconstruction')\n",
    "# ax[0].legend(loc='best')\n",
    "ax[0].plot(recst_list[0:].reshape(-1), 'r', label='recst')\n",
    "ax[0].plot(real_list[0:].reshape(-1), 'b', label='real')\n",
    "ax[1].plot(diff_list[0:].reshape(-1), 'b', label='score')\n",
    "# ax[2].plot(window_dict[\"test_labels\"][0:, -1].reshape(-1)+0.3, 'g', label='label')\n",
    "# ax[2].plot(best_adjust.astype(int)+0.2, 'r', label='label') \n",
    "ax[0].legend(loc='best')\n",
    "ax[1].legend(loc='best')\n",
    "\n",
    "plt.legend()\n",
    "plt.suptitle(\"Result of the autoencoder\")\n",
    "plt.show()"
   ]
  },
  {
   "cell_type": "code",
   "execution_count": null,
   "metadata": {
    "collapsed": true
   },
   "outputs": [],
   "source": []
  },
  {
   "cell_type": "code",
   "execution_count": 29,
   "metadata": {
    "collapsed": true
   },
   "outputs": [],
   "source": [
    "names=[\"time\", \"expid\", \"dataset\", \"auc\", \"f1\", \"f1a\"]\n",
    "df = pd.read_csv(\"./experiment_results.csv\", sep=\"\\t\", names=names)"
   ]
  },
  {
   "cell_type": "code",
   "execution_count": 30,
   "metadata": {},
   "outputs": [
    {
     "data": {
      "text/plain": [
       "0.9235357142857143"
      ]
     },
     "execution_count": 30,
     "metadata": {},
     "output_type": "execute_result"
    }
   ],
   "source": [
    "df[\"f1a\"].map(lambda x: float(x.split(\"-\")[1])).mean()"
   ]
  },
  {
   "cell_type": "code",
   "execution_count": null,
   "metadata": {
    "collapsed": true
   },
   "outputs": [],
   "source": []
  }
 ],
 "metadata": {
  "kernelspec": {
   "display_name": "Python 3",
   "language": "python",
   "name": "python3"
  },
  "language_info": {
   "codemirror_mode": {
    "name": "ipython",
    "version": 3
   },
   "file_extension": ".py",
   "mimetype": "text/x-python",
   "name": "python",
   "nbconvert_exporter": "python",
   "pygments_lexer": "ipython3",
   "version": "3.6.8"
  }
 },
 "nbformat": 4,
 "nbformat_minor": 2
}
