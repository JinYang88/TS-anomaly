{
 "cells": [
  {
   "cell_type": "code",
   "execution_count": 1,
   "metadata": {
    "collapsed": true
   },
   "outputs": [],
   "source": [
    "%load_ext autoreload\n",
    "%autoreload 2\n",
    "import sys\n",
    "import os\n",
    "sys.argv=['']\n",
    "del sys\n",
    "os.chdir(\"../\")"
   ]
  },
  {
   "cell_type": "code",
   "execution_count": 2,
   "metadata": {
    "collapsed": true
   },
   "outputs": [],
   "source": [
    "import matplotlib.pyplot as plt\n",
    "import os\n",
    "import json\n",
    "import math\n",
    "import torch\n",
    "import logging\n",
    "import numpy as np\n",
    "import pandas as pd\n",
    "\n",
    "from IPython import embed\n",
    "from common import data_preprocess \n",
    "from common.utils import print_to_json, score2pred\n",
    "from common.dataloader import load_dataset\n",
    "from common.sliding import BatchSlidingWindow, WindowIterator\n",
    "from common.config import parse_arguments, set_logger, initialize_config\n",
    "from networks.mlstm import MultiLSTMEncoder\n",
    "from torch import nn\n",
    "%matplotlib inline"
   ]
  },
  {
   "cell_type": "code",
   "execution_count": 3,
   "metadata": {
    "collapsed": true
   },
   "outputs": [],
   "source": [
    "# train\n",
    "args = parse_arguments()\n",
    "\n",
    "# load config\n",
    "config_dir = \"./hypers/\" if not args[\"load\"] else args[\"load\"]\n",
    "params = initialize_config(config_dir, args)\n",
    "params[\"clear\"] = 1\n",
    "params[\"nrows\"] = None"
   ]
  },
  {
   "cell_type": "code",
   "execution_count": 4,
   "metadata": {},
   "outputs": [
    {
     "name": "stderr",
     "output_type": "stream",
     "text": [
      "2021-02-18 12:57:20,979 P20265 INFO Loading machine-1-4 of SMD dataset\n",
      "2021-02-18 12:57:20,980 P20265 INFO 1 files found.\n"
     ]
    }
   ],
   "source": [
    "data_dict = load_dataset(\"SMD\",\"machine-1-4\")"
   ]
  },
  {
   "cell_type": "code",
   "execution_count": 5,
   "metadata": {},
   "outputs": [
    {
     "name": "stderr",
     "output_type": "stream",
     "text": [
      "2021-02-18 12:57:21,044 P20265 INFO Saving preprocessor into ./checkpoints/20210218-125720/preprocessor.pkl\n",
      "2021-02-18 12:57:21,046 P20265 INFO Normalizing data\n",
      "2021-02-18 12:57:21,047 P20265 INFO Generating sliding windows (size 64).\n",
      "2021-02-18 12:57:21,278 P20265 INFO Train windows #: (4729, 64, 38)\n",
      "2021-02-18 12:57:21,279 P20265 INFO Test windows #: (23643, 64, 38)\n"
     ]
    }
   ],
   "source": [
    "pp = data_preprocess.preprocessor()\n",
    "pp.save(params[\"save_path\"])\n",
    "data_dict = pp.normalize(data_dict,method=\"standard\")\n",
    "# data_dict = pp.discretize(data_dict,n_bins=100)\n",
    "# vocab_size = pp.build_vocab(data_dict)\n",
    "\n",
    "window_dict = data_preprocess.generate_windows(data_dict, data_hdf5_path=params[\"path\"], **params)"
   ]
  },
  {
   "cell_type": "code",
   "execution_count": 6,
   "metadata": {},
   "outputs": [
    {
     "data": {
      "text/plain": [
       "(4729, 64, 38)"
      ]
     },
     "execution_count": 6,
     "metadata": {},
     "output_type": "execute_result"
    }
   ],
   "source": [
    "window_dict[\"train_windows\"].shape"
   ]
  },
  {
   "cell_type": "code",
   "execution_count": 7,
   "metadata": {
    "collapsed": true
   },
   "outputs": [],
   "source": [
    "train_iterator = WindowIterator(window_dict[\"train_windows\"], batch_size=params[\"batch_size\"], shuffle=True)\n",
    "test_iterator = WindowIterator(window_dict[\"test_windows\"], batch_size=params[\"batch_size\"], shuffle=False)\n",
    "params['in_channels'] = data_dict[\"dim\"]"
   ]
  },
  {
   "cell_type": "code",
   "execution_count": 8,
   "metadata": {},
   "outputs": [
    {
     "name": "stderr",
     "output_type": "stream",
     "text": [
      "2021-02-18 12:57:24,246 P20265 INFO Compiling finished.\n"
     ]
    }
   ],
   "source": [
    "encoder = MultiLSTMEncoder(**params)"
   ]
  },
  {
   "cell_type": "code",
   "execution_count": 103,
   "metadata": {
    "collapsed": true
   },
   "outputs": [],
   "source": [
    "# batch_window = next(iter(train_iterator.loader))\n",
    "# print(batch_window.shape)\n",
    "# batch_window = batch_window.permute(0, 2, 1)  # b x win x ts_dim\n",
    "# batch_window, y = batch_window[:, 0:-1, :], batch_window[:, -1, :]"
   ]
  },
  {
   "cell_type": "code",
   "execution_count": 9,
   "metadata": {
    "scrolled": true
   },
   "outputs": [
    {
     "name": "stderr",
     "output_type": "stream",
     "text": [
      "2021-02-18 12:57:28,685 P20265 INFO Start training for 74 batches.\n",
      "2021-02-18 12:57:29,190 P20265 INFO Epoch: 1, loss: 55.63636\n",
      "2021-02-18 12:57:29,459 P20265 INFO Epoch: 2, loss: 3.32910\n",
      "2021-02-18 12:57:29,743 P20265 INFO Epoch: 3, loss: 0.36063\n",
      "2021-02-18 12:57:29,991 P20265 INFO Epoch: 4, loss: 0.07809\n",
      "2021-02-18 12:57:30,263 P20265 INFO Epoch: 5, loss: 0.05023\n",
      "2021-02-18 12:57:30,524 P20265 INFO Epoch: 6, loss: 0.04308\n",
      "2021-02-18 12:57:30,775 P20265 INFO Epoch: 7, loss: 0.01421\n",
      "2021-02-18 12:57:31,031 P20265 INFO Epoch: 8, loss: 0.00859\n",
      "2021-02-18 12:57:31,295 P20265 INFO Epoch: 9, loss: 0.00807\n",
      "2021-02-18 12:57:31,575 P20265 INFO Epoch: 10, loss: 0.00684\n",
      "2021-02-18 12:57:31,831 P20265 INFO Epoch: 11, loss: 0.00507\n",
      "2021-02-18 12:57:32,100 P20265 INFO Epoch: 12, loss: 0.00485\n",
      "2021-02-18 12:57:32,409 P20265 INFO Epoch: 13, loss: 0.00518\n",
      "2021-02-18 12:57:32,670 P20265 INFO Epoch: 14, loss: 0.00456\n",
      "2021-02-18 12:57:32,935 P20265 INFO Epoch: 15, loss: 0.00458\n",
      "2021-02-18 12:57:33,178 P20265 INFO Epoch: 16, loss: 0.00395\n",
      "2021-02-18 12:57:33,425 P20265 INFO Epoch: 17, loss: 0.00486\n",
      "2021-02-18 12:57:33,684 P20265 INFO Epoch: 18, loss: 0.00410\n",
      "2021-02-18 12:57:33,960 P20265 INFO Epoch: 19, loss: 0.00423\n",
      "2021-02-18 12:57:34,219 P20265 INFO Epoch: 20, loss: 0.00419\n",
      "2021-02-18 12:57:34,506 P20265 INFO Epoch: 21, loss: 0.00367\n",
      "2021-02-18 12:57:34,767 P20265 INFO Epoch: 22, loss: 0.00365\n",
      "2021-02-18 12:57:35,022 P20265 INFO Epoch: 23, loss: 0.00471\n",
      "2021-02-18 12:57:35,346 P20265 INFO Epoch: 24, loss: 0.00348\n",
      "2021-02-18 12:57:35,627 P20265 INFO Epoch: 25, loss: 0.00330\n",
      "2021-02-18 12:57:35,911 P20265 INFO Epoch: 26, loss: 0.00381\n",
      "2021-02-18 12:57:36,188 P20265 INFO Epoch: 27, loss: 0.00333\n",
      "2021-02-18 12:57:36,467 P20265 INFO Epoch: 28, loss: 0.00327\n",
      "2021-02-18 12:57:36,746 P20265 INFO Epoch: 29, loss: 0.00314\n",
      "2021-02-18 12:57:37,010 P20265 INFO Epoch: 30, loss: 0.00354\n",
      "2021-02-18 12:57:37,287 P20265 INFO Epoch: 31, loss: 0.00296\n",
      "2021-02-18 12:57:37,620 P20265 INFO Epoch: 32, loss: 0.00348\n",
      "2021-02-18 12:57:37,959 P20265 INFO Epoch: 33, loss: 0.00307\n",
      "2021-02-18 12:57:38,513 P20265 INFO Epoch: 34, loss: 0.00301\n",
      "2021-02-18 12:57:38,963 P20265 INFO Epoch: 35, loss: 0.00282\n",
      "2021-02-18 12:57:39,280 P20265 INFO Epoch: 36, loss: 0.00276\n",
      "2021-02-18 12:57:39,573 P20265 INFO Epoch: 37, loss: 0.00305\n",
      "2021-02-18 12:57:39,858 P20265 INFO Epoch: 38, loss: 0.00280\n",
      "2021-02-18 12:57:40,176 P20265 INFO Epoch: 39, loss: 0.00280\n",
      "2021-02-18 12:57:40,448 P20265 INFO Epoch: 40, loss: 0.00270\n",
      "2021-02-18 12:57:40,716 P20265 INFO Epoch: 41, loss: 0.00270\n",
      "2021-02-18 12:57:40,997 P20265 INFO Epoch: 42, loss: 0.00253\n",
      "2021-02-18 12:57:41,291 P20265 INFO Epoch: 43, loss: 0.00261\n",
      "2021-02-18 12:57:41,537 P20265 INFO Epoch: 44, loss: 0.00269\n",
      "2021-02-18 12:57:41,799 P20265 INFO Epoch: 45, loss: 0.00264\n",
      "2021-02-18 12:57:42,039 P20265 INFO Epoch: 46, loss: 0.00250\n",
      "2021-02-18 12:57:42,306 P20265 INFO Epoch: 47, loss: 0.00243\n",
      "2021-02-18 12:57:42,733 P20265 INFO Epoch: 48, loss: 0.00235\n",
      "2021-02-18 12:57:43,006 P20265 INFO Epoch: 49, loss: 0.00253\n",
      "2021-02-18 12:57:43,280 P20265 INFO Epoch: 50, loss: 0.00239\n",
      "2021-02-18 12:57:43,617 P20265 INFO Epoch: 51, loss: 0.00254\n",
      "2021-02-18 12:57:43,965 P20265 INFO Epoch: 52, loss: 0.00229\n",
      "2021-02-18 12:57:44,309 P20265 INFO Epoch: 53, loss: 0.00219\n",
      "2021-02-18 12:57:44,594 P20265 INFO Epoch: 54, loss: 0.00211\n",
      "2021-02-18 12:57:44,872 P20265 INFO Epoch: 55, loss: 0.00226\n",
      "2021-02-18 12:57:45,163 P20265 INFO Epoch: 56, loss: 0.00221\n",
      "2021-02-18 12:57:45,445 P20265 INFO Epoch: 57, loss: 0.00240\n",
      "2021-02-18 12:57:45,803 P20265 INFO Epoch: 58, loss: 0.00281\n",
      "2021-02-18 12:57:46,101 P20265 INFO Epoch: 59, loss: 0.00215\n",
      "2021-02-18 12:57:46,382 P20265 INFO Epoch: 60, loss: 0.00212\n",
      "2021-02-18 12:57:46,785 P20265 INFO Epoch: 61, loss: 0.00194\n",
      "2021-02-18 12:57:47,057 P20265 INFO Epoch: 62, loss: 0.00257\n",
      "2021-02-18 12:57:47,312 P20265 INFO Epoch: 63, loss: 0.00226\n",
      "2021-02-18 12:57:47,563 P20265 INFO Epoch: 64, loss: 0.00245\n",
      "2021-02-18 12:57:47,832 P20265 INFO Epoch: 65, loss: 0.00207\n",
      "2021-02-18 12:57:48,118 P20265 INFO Epoch: 66, loss: 0.00239\n",
      "2021-02-18 12:57:48,381 P20265 INFO Epoch: 67, loss: 0.00209\n",
      "2021-02-18 12:57:48,624 P20265 INFO Epoch: 68, loss: 0.00208\n",
      "2021-02-18 12:57:48,906 P20265 INFO Epoch: 69, loss: 0.00238\n",
      "2021-02-18 12:57:49,165 P20265 INFO Epoch: 70, loss: 0.00205\n",
      "2021-02-18 12:57:49,442 P20265 INFO Epoch: 71, loss: 0.00206\n",
      "2021-02-18 12:57:49,720 P20265 INFO Epoch: 72, loss: 0.00248\n",
      "2021-02-18 12:57:49,977 P20265 INFO Epoch: 73, loss: 0.00218\n",
      "2021-02-18 12:57:50,220 P20265 INFO Epoch: 74, loss: 0.00208\n",
      "2021-02-18 12:57:50,458 P20265 INFO Epoch: 75, loss: 0.00213\n",
      "2021-02-18 12:57:50,700 P20265 INFO Epoch: 76, loss: 0.00308\n",
      "2021-02-18 12:57:50,927 P20265 INFO Epoch: 77, loss: 0.00206\n",
      "2021-02-18 12:57:51,194 P20265 INFO Epoch: 78, loss: 0.00214\n",
      "2021-02-18 12:57:51,462 P20265 INFO Epoch: 79, loss: 0.00225\n",
      "2021-02-18 12:57:51,733 P20265 INFO Epoch: 80, loss: 0.00195\n",
      "2021-02-18 12:57:51,738 P20265 INFO Saving model to ./checkpoints/20210218-125720/MultiLSTM__20210218-125720.pth\n"
     ]
    }
   ],
   "source": [
    "# training\n",
    "params[\"nb_steps\"] = 80\n",
    "encoder.fit(\n",
    "            train_iterator,\n",
    "            test_iterator=test_iterator.loader,\n",
    "            test_labels=None,\n",
    "            **params\n",
    "        )\n",
    "encoder.save_encoder()"
   ]
  },
  {
   "cell_type": "code",
   "execution_count": null,
   "metadata": {
    "collapsed": true
   },
   "outputs": [],
   "source": [
    "encoder.load_encoder()"
   ]
  },
  {
   "cell_type": "code",
   "execution_count": 28,
   "metadata": {},
   "outputs": [
    {
     "name": "stderr",
     "output_type": "stream",
     "text": [
      "2021-02-18 13:04:53,817 P20265 INFO Evaluating\n",
      "2021-02-18 13:04:59,828 P20265 INFO AUC: 0.640, F1: 0.142(0.599), PS: 0.078(0.436), RC:0.789(0.954)\n"
     ]
    }
   ],
   "source": [
    "# test_labels = window_dict[\"test_labels\"][:, -1]\n",
    "score_dict = encoder.score(test_iterator.loader, window_dict[\"test_labels\"],)"
   ]
  },
  {
   "cell_type": "code",
   "execution_count": 20,
   "metadata": {},
   "outputs": [],
   "source": [
    "best_f1, best_theta, best_adjust, best_raw = encoder.iter_thresholds(\n",
    "            score_dict[\"score\"], score_dict[\"anomaly_label\"], adjust=True\n",
    "        )"
   ]
  },
  {
   "cell_type": "code",
   "execution_count": 113,
   "metadata": {},
   "outputs": [
    {
     "data": {
      "text/plain": [
       "[<matplotlib.lines.Line2D at 0x7f96e0aae518>]"
      ]
     },
     "execution_count": 113,
     "metadata": {},
     "output_type": "execute_result"
    },
    {
     "data": {
      "image/png": "[encoded data removed]",
      "text/plain": [
       "<Figure size 432x288 with 1 Axes>"
      ]
     },
     "metadata": {
      "needs_background": "light"
     },
     "output_type": "display_data"
    }
   ],
   "source": [
    "# x = []\n",
    "plt.plot(score_dict[\"pred_raw\"], \"r\")\n",
    "plt.plot(score_dict[\"pred\"]+0.1, \"b\")\n",
    "plt.plot(anomaly_label+0.3, \"g\")\n",
    "# plt.plot(score_dict[\"score\"], \"g\")"
   ]
  },
  {
   "cell_type": "code",
   "execution_count": 11,
   "metadata": {},
   "outputs": [
    {
     "name": "stdout",
     "output_type": "stream",
     "text": [
      "0.0024755305208403826\n"
     ]
    }
   ],
   "source": [
    "# def reconstruction_loader(loader, encoder):\n",
    "# train_iterator_non_shuffle = WindowIterator(window_dict[\"train_windows\"],\n",
    "#                                             batch_size=params[\"batch_size\"], shuffle=False)\n",
    "# loader = train_iterator_non_shuffle.loader\n",
    "\n",
    "loader = test_iterator.loader\n",
    "encoder = encoder.eval()\n",
    "with torch.no_grad():\n",
    "    recst_list = []\n",
    "    real_list = []\n",
    "    loss = 0\n",
    "    for batch in loader:\n",
    "        batch = batch.to(encoder.device)\n",
    "        return_dict = encoder(batch)\n",
    "        # diff = return_dict[\"diff\"].max(dim=-1)[0] # chose the most anomaous ts\n",
    "        recst = return_dict[\"recst\"]  # chose the most anomaous ts\n",
    "        recst_list.append(recst)\n",
    "        real_list.append(return_dict[\"y\"])\n",
    "        loss += return_dict[\"loss\"].item()\n",
    "print(loss / len(loader))\n",
    "recst_list = torch.cat(recst_list).squeeze().cpu().numpy()\n",
    "real_list = torch.cat(real_list).squeeze().cpu().numpy()\n",
    "diff_list = recst_list-real_list"
   ]
  },
  {
   "cell_type": "code",
   "execution_count": 12,
   "metadata": {},
   "outputs": [
    {
     "name": "stdout",
     "output_type": "stream",
     "text": [
      "(23643,)\n",
      "(23643,)\n",
      "(23643,)\n"
     ]
    }
   ],
   "source": [
    "print(recst_list.shape)\n",
    "print(real_list.shape)\n",
    "print(diff_list.shape)"
   ]
  },
  {
   "cell_type": "code",
   "execution_count": 13,
   "metadata": {},
   "outputs": [
    {
     "data": {
      "text/plain": [
       "(23643, 64)"
      ]
     },
     "execution_count": 13,
     "metadata": {},
     "output_type": "execute_result"
    }
   ],
   "source": [
    "window_dict[\"test_labels\"].shape"
   ]
  },
  {
   "cell_type": "code",
   "execution_count": 23,
   "metadata": {
    "scrolled": false
   },
   "outputs": [
    {
     "data": {
      "image/png": "[encoded data removed]",
      "text/plain": [
       "<Figure size 864x864 with 3 Axes>"
      ]
     },
     "metadata": {
      "needs_background": "light"
     },
     "output_type": "display_data"
    }
   ],
   "source": [
    "dims = [0,1,2]\n",
    "fig, ax = plt.subplots(nrows=len(dims), sharey=True, figsize=(12,12))\n",
    "i=0\n",
    "# for i in range(len(dims)):\n",
    "# ax[0].plot(recst, 'r', label='reconstruction')\n",
    "# ax[0].legend(loc='best')\n",
    "ax[0].plot(recst_list[0:-1].reshape(-1), 'r', label='recst')\n",
    "ax[1].plot(real_list[0:-1].reshape(-1), 'b', label='real')\n",
    "ax[2].plot(diff_list[0:-1].reshape(-1), 'b', label='score')\n",
    "ax[2].plot(window_dict[\"test_labels\"][0:, -1].reshape(-1)+0.3, 'g', label='label')\n",
    "ax[2].plot(best_adjust.astype(int)+0.2, 'r', label='label') \n",
    "ax[0].legend(loc='best')\n",
    "ax[1].legend(loc='best')\n",
    "\n",
    "# ax[2].plot(recst, 'r', label='reconstruction')\n",
    "# ax[2].plot(real, 'b', label='real')\n",
    "# ax[2].legend(loc='best')\n",
    "\n",
    "# ax[3].plot(diff, 'g', label='ecart')\n",
    "# ax[3].legend(loc='best')\n",
    "\n",
    "plt.legend()\n",
    "plt.suptitle(\"Result of the autoencoder\")\n",
    "plt.show()"
   ]
  },
  {
   "cell_type": "code",
   "execution_count": null,
   "metadata": {
    "collapsed": true
   },
   "outputs": [],
   "source": []
  },
  {
   "cell_type": "code",
   "execution_count": 29,
   "metadata": {
    "collapsed": true
   },
   "outputs": [],
   "source": [
    "names=[\"time\", \"expid\", \"dataset\", \"auc\", \"f1\", \"f1a\"]\n",
    "df = pd.read_csv(\"./experiment_results.csv\", sep=\"\\t\", names=names)"
   ]
  },
  {
   "cell_type": "code",
   "execution_count": 30,
   "metadata": {},
   "outputs": [
    {
     "data": {
      "text/plain": [
       "0.9235357142857143"
      ]
     },
     "execution_count": 30,
     "metadata": {},
     "output_type": "execute_result"
    }
   ],
   "source": [
    "df[\"f1a\"].map(lambda x: float(x.split(\"-\")[1])).mean()"
   ]
  },
  {
   "cell_type": "code",
   "execution_count": null,
   "metadata": {
    "collapsed": true
   },
   "outputs": [],
   "source": []
  }
 ],
 "metadata": {
  "kernelspec": {
   "display_name": "Python 3",
   "language": "python",
   "name": "python3"
  },
  "language_info": {
   "codemirror_mode": {
    "name": "ipython",
    "version": 3
   },
   "file_extension": ".py",
   "mimetype": "text/x-python",
   "name": "python",
   "nbconvert_exporter": "python",
   "pygments_lexer": "ipython3",
   "version": "3.6.8"
  }
 },
 "nbformat": 4,
 "nbformat_minor": 2
}
