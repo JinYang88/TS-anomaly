{
 "cells": [
  {
   "cell_type": "code",
   "execution_count": 1,
   "metadata": {
    "collapsed": true
   },
   "outputs": [],
   "source": [
    "%load_ext autoreload\n",
    "%autoreload 2\n",
    "import sys\n",
    "import os\n",
    "sys.argv=['']\n",
    "del sys\n",
    "os.chdir(\"../\")"
   ]
  },
  {
   "cell_type": "code",
   "execution_count": 2,
   "metadata": {},
   "outputs": [],
   "source": [
    "import matplotlib.pyplot as plt\n",
    "import os\n",
    "import json\n",
    "import math\n",
    "import torch\n",
    "import logging\n",
    "import numpy as np\n",
    "import pandas as pd\n",
    "\n",
    "from IPython import embed\n",
    "from common import data_preprocess \n",
    "from common.utils import print_to_json\n",
    "from common.dataloader import load_SMAP_MSL_dataset, load_CSV_dataset, load_SMD_dataset\n",
    "from common.sliding import BatchSlidingWindow, WindowIterator\n",
    "from common.config import parse_arguments, set_logger, initialize_config\n",
    "from networks.mlstm import MultiLSTMEncoder\n",
    "from torch import nn\n",
    "%matplotlib inline"
   ]
  },
  {
   "cell_type": "code",
   "execution_count": 56,
   "metadata": {
    "collapsed": true
   },
   "outputs": [],
   "source": [
    "# train\n",
    "args = parse_arguments()\n",
    "\n",
    "# load config\n",
    "config_dir = \"./hypers/\" if not args[\"load\"] else args[\"load\"]\n",
    "params = initialize_config(config_dir, args)\n",
    "params[\"clear\"] = 1\n",
    "params[\"nrows\"] = 3000"
   ]
  },
  {
   "cell_type": "code",
   "execution_count": 57,
   "metadata": {},
   "outputs": [
    {
     "name": "stderr",
     "output_type": "stream",
     "text": [
      "2020-11-30 15:43:58,182 P81049 INFO Loading machine-1-1 dataset\n"
     ]
    }
   ],
   "source": [
    "data_dict = load_SMD_dataset(\"./datasets/anomaly/SMD/SMD/processed\", \"machine-1-1\", use_dim=2)"
   ]
  },
  {
   "cell_type": "code",
   "execution_count": 58,
   "metadata": {},
   "outputs": [
    {
     "name": "stderr",
     "output_type": "stream",
     "text": [
      "2020-11-30 15:43:58,992 P81049 INFO Saving preprocessor into ./checkpoints/20201130-154357/preprocessor.pkl\n",
      "2020-11-30 15:43:58,994 P81049 INFO Normalizing data\n",
      "2020-11-30 15:43:59,000 P81049 INFO Generating sliding windows (size 128) for dataset [machine-1-1]\n",
      "2020-11-30 15:43:59,141 P81049 INFO Saving hdf5 to ./datasets/anomaly/SMAP-MSL/hdf5/window_dict_ws=128_nrows=3000.hdf5\n"
     ]
    }
   ],
   "source": [
    "pp = data_preprocess.preprocessor()\n",
    "pp.save(params[\"save_path\"])\n",
    "data_dict = pp.normalize(data_dict,method=\"standard\")\n",
    "# data_dict = pp.discretize(data_dict,n_bins=100)\n",
    "# vocab_size = pp.build_vocab(data_dict)\n",
    "\n",
    "window_dict = data_preprocess.generate_windows(data_dict, data_hdf5_path=params[\"path\"], **params)"
   ]
  },
  {
   "cell_type": "code",
   "execution_count": 59,
   "metadata": {},
   "outputs": [
    {
     "data": {
      "text/plain": [
       "(2873, 1, 128)"
      ]
     },
     "execution_count": 59,
     "metadata": {},
     "output_type": "execute_result"
    }
   ],
   "source": [
    "window_dict[\"train_windows\"].shape"
   ]
  },
  {
   "cell_type": "code",
   "execution_count": 60,
   "metadata": {
    "collapsed": true
   },
   "outputs": [],
   "source": [
    "train_iterator = WindowIterator(window_dict[\"train_windows\"], batch_size=params[\"batch_size\"], shuffle=True)\n",
    "test_iterator = WindowIterator(window_dict[\"test_windows\"], batch_size=params[\"batch_size\"], shuffle=False)\n",
    "params['in_channels'] = data_dict[\"dim\"]"
   ]
  },
  {
   "cell_type": "code",
   "execution_count": 61,
   "metadata": {},
   "outputs": [
    {
     "name": "stderr",
     "output_type": "stream",
     "text": [
      "2020-11-30 15:44:02,503 P81049 INFO Compiling finished.\n"
     ]
    }
   ],
   "source": [
    "encoder = MultiLSTMEncoder(vocab_size=None, embedding_dim=None, **params)"
   ]
  },
  {
   "cell_type": "code",
   "execution_count": 48,
   "metadata": {
    "collapsed": true
   },
   "outputs": [],
   "source": [
    "# batch_window = next(iter(train_iterator.loader))\n",
    "# print(batch_window.shape)\n",
    "# batch_window = batch_window.permute(0, 2, 1)  # b x win x ts_dim\n",
    "# batch_window, y = batch_window[:, 0:-1, :], batch_window[:, -1, :]"
   ]
  },
  {
   "cell_type": "code",
   "execution_count": 62,
   "metadata": {},
   "outputs": [
    {
     "name": "stderr",
     "output_type": "stream",
     "text": [
      "2020-11-30 15:44:03,719 P81049 INFO Start training for 2000 steps.\n",
      "2020-11-30 15:44:03,722 P81049 INFO Epoch: 1\n",
      "2020-11-30 15:44:20,127 P81049 INFO Epoch: 1, loss: 0.146\n",
      "2020-11-30 15:44:20,132 P81049 INFO Saving model to ./checkpoints/20201130-154357/MultiLSTM_20201130-154357.pth\n",
      "2020-11-30 15:44:20,137 P81049 INFO Epoch: 2\n",
      "2020-11-30 15:44:37,056 P81049 INFO Epoch: 2, loss: 0.095\n",
      "2020-11-30 15:44:37,061 P81049 INFO Saving model to ./checkpoints/20201130-154357/MultiLSTM_20201130-154357.pth\n",
      "2020-11-30 15:44:37,064 P81049 INFO Epoch: 3\n",
      "2020-11-30 15:44:53,168 P81049 INFO Epoch: 3, loss: 0.091\n",
      "2020-11-30 15:44:53,173 P81049 INFO Saving model to ./checkpoints/20201130-154357/MultiLSTM_20201130-154357.pth\n",
      "2020-11-30 15:44:53,176 P81049 INFO Epoch: 4\n",
      "2020-11-30 15:45:08,692 P81049 INFO Epoch: 4, loss: 0.088\n",
      "2020-11-30 15:45:08,697 P81049 INFO Saving model to ./checkpoints/20201130-154357/MultiLSTM_20201130-154357.pth\n",
      "2020-11-30 15:45:08,700 P81049 INFO Epoch: 5\n",
      "2020-11-30 15:45:26,403 P81049 INFO Epoch: 5, loss: 0.088\n",
      "2020-11-30 15:45:26,407 P81049 INFO Saving model to ./checkpoints/20201130-154357/MultiLSTM_20201130-154357.pth\n",
      "2020-11-30 15:45:26,413 P81049 INFO Epoch: 6\n",
      "2020-11-30 15:45:43,350 P81049 INFO Epoch: 6, loss: 0.087\n",
      "2020-11-30 15:45:43,353 P81049 INFO Saving model to ./checkpoints/20201130-154357/MultiLSTM_20201130-154357.pth\n",
      "2020-11-30 15:45:43,358 P81049 INFO Epoch: 7\n",
      "2020-11-30 15:45:59,916 P81049 INFO Epoch: 7, loss: 0.088\n",
      "2020-11-30 15:45:59,918 P81049 INFO Saving model to ./checkpoints/20201130-154357/MultiLSTM_20201130-154357.pth\n",
      "2020-11-30 15:45:59,923 P81049 INFO Epoch: 8\n",
      "2020-11-30 15:46:16,051 P81049 INFO Epoch: 8, loss: 0.087\n",
      "2020-11-30 15:46:16,054 P81049 INFO Saving model to ./checkpoints/20201130-154357/MultiLSTM_20201130-154357.pth\n",
      "2020-11-30 15:46:16,057 P81049 INFO Epoch: 9\n",
      "2020-11-30 15:46:31,373 P81049 INFO Epoch: 9, loss: 0.088\n",
      "2020-11-30 15:46:31,375 P81049 INFO Saving model to ./checkpoints/20201130-154357/MultiLSTM_20201130-154357.pth\n",
      "2020-11-30 15:46:31,378 P81049 INFO Epoch: 10\n",
      "2020-11-30 15:46:47,841 P81049 INFO Epoch: 10, loss: 0.087\n",
      "2020-11-30 15:46:47,844 P81049 INFO Saving model to ./checkpoints/20201130-154357/MultiLSTM_20201130-154357.pth\n",
      "2020-11-30 15:46:47,849 P81049 INFO Epoch: 11\n",
      "2020-11-30 15:47:03,681 P81049 INFO Epoch: 11, loss: 0.086\n",
      "2020-11-30 15:47:03,684 P81049 INFO Saving model to ./checkpoints/20201130-154357/MultiLSTM_20201130-154357.pth\n",
      "2020-11-30 15:47:03,689 P81049 INFO Epoch: 12\n",
      "2020-11-30 15:47:18,276 P81049 INFO Epoch: 12, loss: 0.086\n",
      "2020-11-30 15:47:18,278 P81049 INFO Saving model to ./checkpoints/20201130-154357/MultiLSTM_20201130-154357.pth\n",
      "2020-11-30 15:47:18,282 P81049 INFO Epoch: 13\n"
     ]
    },
    {
     "ename": "KeyboardInterrupt",
     "evalue": "",
     "output_type": "error",
     "traceback": [
      "\u001b[0;31m---------------------------------------------------------------------------\u001b[0m",
      "\u001b[0;31mKeyboardInterrupt\u001b[0m                         Traceback (most recent call last)",
      "\u001b[0;32m<ipython-input-62-78283119b9e9>\u001b[0m in \u001b[0;36m<module>\u001b[0;34m\u001b[0m\n\u001b[1;32m      4\u001b[0m             \u001b[0mtest_iterator\u001b[0m\u001b[0;34m=\u001b[0m\u001b[0mtest_iterator\u001b[0m\u001b[0;34m.\u001b[0m\u001b[0mloader\u001b[0m\u001b[0;34m,\u001b[0m\u001b[0;34m\u001b[0m\u001b[0;34m\u001b[0m\u001b[0m\n\u001b[1;32m      5\u001b[0m             \u001b[0mtest_labels\u001b[0m\u001b[0;34m=\u001b[0m\u001b[0;32mNone\u001b[0m\u001b[0;34m,\u001b[0m\u001b[0;34m\u001b[0m\u001b[0;34m\u001b[0m\u001b[0m\n\u001b[0;32m----> 6\u001b[0;31m             \u001b[0;34m**\u001b[0m\u001b[0mparams\u001b[0m\u001b[0;34m\u001b[0m\u001b[0;34m\u001b[0m\u001b[0m\n\u001b[0m\u001b[1;32m      7\u001b[0m         )\n\u001b[1;32m      8\u001b[0m \u001b[0mencoder\u001b[0m\u001b[0;34m.\u001b[0m\u001b[0msave_encoder\u001b[0m\u001b[0;34m(\u001b[0m\u001b[0;34m)\u001b[0m\u001b[0;34m\u001b[0m\u001b[0;34m\u001b[0m\u001b[0m\n",
      "\u001b[0;32m~/Codes/TS-anomaly/networks/wrappers.py\u001b[0m in \u001b[0;36mfit\u001b[0;34m(self, train_iterator, test_iterator, test_labels, percent, nb_steps_per_verbose, save_memory, **kwargs)\u001b[0m\n\u001b[1;32m    112\u001b[0m                 \u001b[0;31m# batch: b x d x dim\u001b[0m\u001b[0;34m\u001b[0m\u001b[0;34m\u001b[0m\u001b[0;34m\u001b[0m\u001b[0m\n\u001b[1;32m    113\u001b[0m                 \u001b[0mbatch\u001b[0m \u001b[0;34m=\u001b[0m \u001b[0mbatch\u001b[0m\u001b[0;34m.\u001b[0m\u001b[0mto\u001b[0m\u001b[0;34m(\u001b[0m\u001b[0mself\u001b[0m\u001b[0;34m.\u001b[0m\u001b[0mdevice\u001b[0m\u001b[0;34m)\u001b[0m\u001b[0;34m\u001b[0m\u001b[0;34m\u001b[0m\u001b[0m\n\u001b[0;32m--> 114\u001b[0;31m                 \u001b[0mreturn_dict\u001b[0m \u001b[0;34m=\u001b[0m \u001b[0mself\u001b[0m\u001b[0;34m(\u001b[0m\u001b[0mbatch\u001b[0m\u001b[0;34m)\u001b[0m\u001b[0;34m\u001b[0m\u001b[0;34m\u001b[0m\u001b[0m\n\u001b[0m\u001b[1;32m    115\u001b[0m                 \u001b[0mself\u001b[0m\u001b[0;34m.\u001b[0m\u001b[0moptimizer\u001b[0m\u001b[0;34m.\u001b[0m\u001b[0mzero_grad\u001b[0m\u001b[0;34m(\u001b[0m\u001b[0;34m)\u001b[0m\u001b[0;34m\u001b[0m\u001b[0;34m\u001b[0m\u001b[0m\n\u001b[1;32m    116\u001b[0m                 \u001b[0mloss\u001b[0m \u001b[0;34m=\u001b[0m \u001b[0mreturn_dict\u001b[0m\u001b[0;34m[\u001b[0m\u001b[0;34m\"loss\"\u001b[0m\u001b[0;34m]\u001b[0m\u001b[0;34m\u001b[0m\u001b[0;34m\u001b[0m\u001b[0m\n",
      "\u001b[0;32m~/anaconda3/envs/python36/lib/python3.6/site-packages/torch/nn/modules/module.py\u001b[0m in \u001b[0;36m_call_impl\u001b[0;34m(self, *input, **kwargs)\u001b[0m\n\u001b[1;32m    725\u001b[0m             \u001b[0mresult\u001b[0m \u001b[0;34m=\u001b[0m \u001b[0mself\u001b[0m\u001b[0;34m.\u001b[0m\u001b[0m_slow_forward\u001b[0m\u001b[0;34m(\u001b[0m\u001b[0;34m*\u001b[0m\u001b[0minput\u001b[0m\u001b[0;34m,\u001b[0m \u001b[0;34m**\u001b[0m\u001b[0mkwargs\u001b[0m\u001b[0;34m)\u001b[0m\u001b[0;34m\u001b[0m\u001b[0;34m\u001b[0m\u001b[0m\n\u001b[1;32m    726\u001b[0m         \u001b[0;32melse\u001b[0m\u001b[0;34m:\u001b[0m\u001b[0;34m\u001b[0m\u001b[0;34m\u001b[0m\u001b[0m\n\u001b[0;32m--> 727\u001b[0;31m             \u001b[0mresult\u001b[0m \u001b[0;34m=\u001b[0m \u001b[0mself\u001b[0m\u001b[0;34m.\u001b[0m\u001b[0mforward\u001b[0m\u001b[0;34m(\u001b[0m\u001b[0;34m*\u001b[0m\u001b[0minput\u001b[0m\u001b[0;34m,\u001b[0m \u001b[0;34m**\u001b[0m\u001b[0mkwargs\u001b[0m\u001b[0;34m)\u001b[0m\u001b[0;34m\u001b[0m\u001b[0;34m\u001b[0m\u001b[0m\n\u001b[0m\u001b[1;32m    728\u001b[0m         for hook in itertools.chain(\n\u001b[1;32m    729\u001b[0m                 \u001b[0m_global_forward_hooks\u001b[0m\u001b[0;34m.\u001b[0m\u001b[0mvalues\u001b[0m\u001b[0;34m(\u001b[0m\u001b[0;34m)\u001b[0m\u001b[0;34m,\u001b[0m\u001b[0;34m\u001b[0m\u001b[0;34m\u001b[0m\u001b[0m\n",
      "\u001b[0;32m~/Codes/TS-anomaly/networks/mlstm.py\u001b[0m in \u001b[0;36mforward\u001b[0;34m(self, batch_window)\u001b[0m\n\u001b[1;32m     60\u001b[0m             \u001b[0mbatch_window\u001b[0m \u001b[0;34m=\u001b[0m \u001b[0mself\u001b[0m\u001b[0;34m.\u001b[0m\u001b[0membedder\u001b[0m\u001b[0;34m(\u001b[0m\u001b[0mbatch_window\u001b[0m\u001b[0;34m.\u001b[0m\u001b[0mlong\u001b[0m\u001b[0;34m(\u001b[0m\u001b[0;34m)\u001b[0m\u001b[0;34m.\u001b[0m\u001b[0msqueeze\u001b[0m\u001b[0;34m(\u001b[0m\u001b[0;34m)\u001b[0m\u001b[0;34m)\u001b[0m\u001b[0;34m\u001b[0m\u001b[0;34m\u001b[0m\u001b[0m\n\u001b[1;32m     61\u001b[0m \u001b[0;34m\u001b[0m\u001b[0m\n\u001b[0;32m---> 62\u001b[0;31m         \u001b[0mlstm_out\u001b[0m\u001b[0;34m,\u001b[0m \u001b[0mlstm_hidden\u001b[0m \u001b[0;34m=\u001b[0m \u001b[0mself\u001b[0m\u001b[0;34m.\u001b[0m\u001b[0mlstm\u001b[0m\u001b[0;34m(\u001b[0m\u001b[0mbatch_window\u001b[0m\u001b[0;34m)\u001b[0m\u001b[0;34m\u001b[0m\u001b[0;34m\u001b[0m\u001b[0m\n\u001b[0m\u001b[1;32m     63\u001b[0m         \u001b[0moutputs\u001b[0m \u001b[0;34m=\u001b[0m \u001b[0mlstm_out\u001b[0m\u001b[0;34m.\u001b[0m\u001b[0mmean\u001b[0m\u001b[0;34m(\u001b[0m\u001b[0mdim\u001b[0m\u001b[0;34m=\u001b[0m\u001b[0;36m1\u001b[0m\u001b[0;34m)\u001b[0m  \u001b[0;31m# consider every dim of all timestamps\u001b[0m\u001b[0;34m\u001b[0m\u001b[0;34m\u001b[0m\u001b[0m\n\u001b[1;32m     64\u001b[0m \u001b[0;34m\u001b[0m\u001b[0m\n",
      "\u001b[0;32m~/anaconda3/envs/python36/lib/python3.6/site-packages/torch/nn/modules/module.py\u001b[0m in \u001b[0;36m_call_impl\u001b[0;34m(self, *input, **kwargs)\u001b[0m\n\u001b[1;32m    725\u001b[0m             \u001b[0mresult\u001b[0m \u001b[0;34m=\u001b[0m \u001b[0mself\u001b[0m\u001b[0;34m.\u001b[0m\u001b[0m_slow_forward\u001b[0m\u001b[0;34m(\u001b[0m\u001b[0;34m*\u001b[0m\u001b[0minput\u001b[0m\u001b[0;34m,\u001b[0m \u001b[0;34m**\u001b[0m\u001b[0mkwargs\u001b[0m\u001b[0;34m)\u001b[0m\u001b[0;34m\u001b[0m\u001b[0;34m\u001b[0m\u001b[0m\n\u001b[1;32m    726\u001b[0m         \u001b[0;32melse\u001b[0m\u001b[0;34m:\u001b[0m\u001b[0;34m\u001b[0m\u001b[0;34m\u001b[0m\u001b[0m\n\u001b[0;32m--> 727\u001b[0;31m             \u001b[0mresult\u001b[0m \u001b[0;34m=\u001b[0m \u001b[0mself\u001b[0m\u001b[0;34m.\u001b[0m\u001b[0mforward\u001b[0m\u001b[0;34m(\u001b[0m\u001b[0;34m*\u001b[0m\u001b[0minput\u001b[0m\u001b[0;34m,\u001b[0m \u001b[0;34m**\u001b[0m\u001b[0mkwargs\u001b[0m\u001b[0;34m)\u001b[0m\u001b[0;34m\u001b[0m\u001b[0;34m\u001b[0m\u001b[0m\n\u001b[0m\u001b[1;32m    728\u001b[0m         for hook in itertools.chain(\n\u001b[1;32m    729\u001b[0m                 \u001b[0m_global_forward_hooks\u001b[0m\u001b[0;34m.\u001b[0m\u001b[0mvalues\u001b[0m\u001b[0;34m(\u001b[0m\u001b[0;34m)\u001b[0m\u001b[0;34m,\u001b[0m\u001b[0;34m\u001b[0m\u001b[0;34m\u001b[0m\u001b[0m\n",
      "\u001b[0;32m~/anaconda3/envs/python36/lib/python3.6/site-packages/torch/nn/modules/rnn.py\u001b[0m in \u001b[0;36mforward\u001b[0;34m(self, input, hx)\u001b[0m\n\u001b[1;32m    580\u001b[0m         \u001b[0;32mif\u001b[0m \u001b[0mbatch_sizes\u001b[0m \u001b[0;32mis\u001b[0m \u001b[0;32mNone\u001b[0m\u001b[0;34m:\u001b[0m\u001b[0;34m\u001b[0m\u001b[0;34m\u001b[0m\u001b[0m\n\u001b[1;32m    581\u001b[0m             result = _VF.lstm(input, hx, self._flat_weights, self.bias, self.num_layers,\n\u001b[0;32m--> 582\u001b[0;31m                               self.dropout, self.training, self.bidirectional, self.batch_first)\n\u001b[0m\u001b[1;32m    583\u001b[0m         \u001b[0;32melse\u001b[0m\u001b[0;34m:\u001b[0m\u001b[0;34m\u001b[0m\u001b[0;34m\u001b[0m\u001b[0m\n\u001b[1;32m    584\u001b[0m             result = _VF.lstm(input, batch_sizes, hx, self._flat_weights, self.bias,\n",
      "\u001b[0;31mKeyboardInterrupt\u001b[0m: "
     ]
    }
   ],
   "source": [
    "# training\n",
    "encoder.fit(\n",
    "            train_iterator,\n",
    "            test_iterator=test_iterator.loader,\n",
    "            test_labels=None,\n",
    "            **params\n",
    "        )\n",
    "encoder.save_encoder()"
   ]
  },
  {
   "cell_type": "code",
   "execution_count": 63,
   "metadata": {},
   "outputs": [
    {
     "name": "stderr",
     "output_type": "stream",
     "text": [
      "2020-11-30 15:47:25,472 P81049 INFO Loading model from ./checkpoints/20201130-154357/MultiLSTM_20201130-154357.pth\n"
     ]
    }
   ],
   "source": [
    "encoder.load_encoder()"
   ]
  },
  {
   "cell_type": "code",
   "execution_count": 64,
   "metadata": {},
   "outputs": [
    {
     "name": "stdout",
     "output_type": "stream",
     "text": [
      "0.0858276131666369\n"
     ]
    }
   ],
   "source": [
    "# def reconstruction_loader(loader, encoder):\n",
    "train_iterator_non_shuffle = WindowIterator(window_dict[\"train_windows\"],\n",
    "                                            batch_size=params[\"batch_size\"], shuffle=False)\n",
    "loader = train_iterator_non_shuffle.loader\n",
    "encoder = encoder.eval()\n",
    "with torch.no_grad():\n",
    "    recst_list = []\n",
    "    real_list = []\n",
    "    loss = 0\n",
    "    for batch in loader:\n",
    "        batch = batch.to(encoder.device)\n",
    "        return_dict = encoder(batch)\n",
    "        # diff = return_dict[\"diff\"].max(dim=-1)[0] # chose the most anomaous ts\n",
    "        recst = return_dict[\"recst\"]  # chose the most anomaous ts\n",
    "        recst_list.append(recst)\n",
    "        real_list.append(return_dict[\"anomaly_label\"])\n",
    "        loss += return_dict[\"loss\"].item()\n",
    "print(loss / len(loader))\n",
    "recst_list = torch.cat(recst_list).cpu().numpy()\n",
    "real_list = torch.cat(real_list).cpu().numpy()\n"
   ]
  },
  {
   "cell_type": "code",
   "execution_count": 65,
   "metadata": {},
   "outputs": [
    {
     "name": "stdout",
     "output_type": "stream",
     "text": [
      "(2873, 1)\n",
      "(2873, 1)\n"
     ]
    }
   ],
   "source": [
    "print(recst_list.shape)\n",
    "print(real_list.shape)"
   ]
  },
  {
   "cell_type": "code",
   "execution_count": 66,
   "metadata": {},
   "outputs": [
    {
     "name": "stdout",
     "output_type": "stream",
     "text": [
      "[-0.68710387 -0.691119   -0.695641   -0.69949853 -0.70254445 -0.7047853\n",
      " -0.7061235  -0.7072338  -0.7085686  -0.7104799 ]\n",
      "[-0.97699046 -1.0657036  -0.9178305  -1.0361238  -1.0952835  -1.0952835\n",
      " -1.0952835  -1.1248635  -1.1544434  -1.1544434 ]\n"
     ]
    }
   ],
   "source": [
    "print(recst_list[0:10, 0])\n",
    "print(real_list[0:10, 0])"
   ]
  },
  {
   "cell_type": "code",
   "execution_count": 67,
   "metadata": {
    "scrolled": false
   },
   "outputs": [
    {
     "ename": "IndexError",
     "evalue": "index 1 is out of bounds for axis 1 with size 1",
     "output_type": "error",
     "traceback": [
      "\u001b[0;31m---------------------------------------------------------------------------\u001b[0m",
      "\u001b[0;31mIndexError\u001b[0m                                Traceback (most recent call last)",
      "\u001b[0;32m<ipython-input-67-cd8acb05f482>\u001b[0m in \u001b[0;36m<module>\u001b[0;34m\u001b[0m\n\u001b[1;32m      4\u001b[0m \u001b[0;31m# ax[0].plot(recst, 'r', label='reconstruction')\u001b[0m\u001b[0;34m\u001b[0m\u001b[0;34m\u001b[0m\u001b[0;34m\u001b[0m\u001b[0m\n\u001b[1;32m      5\u001b[0m \u001b[0;31m# ax[0].legend(loc='best')\u001b[0m\u001b[0;34m\u001b[0m\u001b[0;34m\u001b[0m\u001b[0;34m\u001b[0m\u001b[0m\n\u001b[0;32m----> 6\u001b[0;31m     \u001b[0max\u001b[0m\u001b[0;34m[\u001b[0m\u001b[0mi\u001b[0m\u001b[0;34m]\u001b[0m\u001b[0;34m.\u001b[0m\u001b[0mplot\u001b[0m\u001b[0;34m(\u001b[0m\u001b[0mrecst_list\u001b[0m\u001b[0;34m[\u001b[0m\u001b[0;36m0\u001b[0m\u001b[0;34m:\u001b[0m\u001b[0;36m100\u001b[0m\u001b[0;34m,\u001b[0m\u001b[0mi\u001b[0m\u001b[0;34m]\u001b[0m\u001b[0;34m.\u001b[0m\u001b[0mreshape\u001b[0m\u001b[0;34m(\u001b[0m\u001b[0;34m-\u001b[0m\u001b[0;36m1\u001b[0m\u001b[0;34m)\u001b[0m\u001b[0;34m,\u001b[0m \u001b[0;34m'r'\u001b[0m\u001b[0;34m,\u001b[0m \u001b[0mlabel\u001b[0m\u001b[0;34m=\u001b[0m\u001b[0;34m'recst'\u001b[0m\u001b[0;34m)\u001b[0m\u001b[0;34m\u001b[0m\u001b[0;34m\u001b[0m\u001b[0m\n\u001b[0m\u001b[1;32m      7\u001b[0m     \u001b[0max\u001b[0m\u001b[0;34m[\u001b[0m\u001b[0mi\u001b[0m\u001b[0;34m]\u001b[0m\u001b[0;34m.\u001b[0m\u001b[0mplot\u001b[0m\u001b[0;34m(\u001b[0m\u001b[0mreal_list\u001b[0m\u001b[0;34m[\u001b[0m\u001b[0;36m0\u001b[0m\u001b[0;34m:\u001b[0m\u001b[0;36m100\u001b[0m\u001b[0;34m,\u001b[0m\u001b[0mi\u001b[0m\u001b[0;34m]\u001b[0m\u001b[0;34m.\u001b[0m\u001b[0mreshape\u001b[0m\u001b[0;34m(\u001b[0m\u001b[0;34m-\u001b[0m\u001b[0;36m1\u001b[0m\u001b[0;34m)\u001b[0m\u001b[0;34m,\u001b[0m \u001b[0;34m'b'\u001b[0m\u001b[0;34m,\u001b[0m \u001b[0mlabel\u001b[0m\u001b[0;34m=\u001b[0m\u001b[0;34m'real'\u001b[0m\u001b[0;34m)\u001b[0m\u001b[0;34m\u001b[0m\u001b[0;34m\u001b[0m\u001b[0m\n\u001b[1;32m      8\u001b[0m     \u001b[0max\u001b[0m\u001b[0;34m[\u001b[0m\u001b[0mi\u001b[0m\u001b[0;34m]\u001b[0m\u001b[0;34m.\u001b[0m\u001b[0mlegend\u001b[0m\u001b[0;34m(\u001b[0m\u001b[0mloc\u001b[0m\u001b[0;34m=\u001b[0m\u001b[0;34m'best'\u001b[0m\u001b[0;34m)\u001b[0m\u001b[0;34m\u001b[0m\u001b[0;34m\u001b[0m\u001b[0m\n",
      "\u001b[0;31mIndexError\u001b[0m: index 1 is out of bounds for axis 1 with size 1"
     ]
    },
    {
     "data": {
      "image/png": "[encoded data removed]",
      "text/plain": [
       "<Figure size 864x864 with 2 Axes>"
      ]
     },
     "metadata": {
      "needs_background": "light"
     },
     "output_type": "display_data"
    }
   ],
   "source": [
    "dims = [0,2]\n",
    "fig, ax = plt.subplots(nrows=len(dims), sharey=True, figsize=(12,12))\n",
    "for i in range(len(dims)):\n",
    "# ax[0].plot(recst, 'r', label='reconstruction')\n",
    "# ax[0].legend(loc='best')\n",
    "    ax[i].plot(recst_list[0:100,i].reshape(-1), 'r', label='recst')\n",
    "    ax[i].plot(real_list[0:100,i].reshape(-1), 'b', label='real')\n",
    "    ax[i].legend(loc='best')\n",
    "\n",
    "# ax[2].plot(recst, 'r', label='reconstruction')\n",
    "# ax[2].plot(real, 'b', label='real')\n",
    "# ax[2].legend(loc='best')\n",
    "\n",
    "# ax[3].plot(diff, 'g', label='ecart')\n",
    "# ax[3].legend(loc='best')\n",
    "\n",
    "plt.legend()\n",
    "plt.suptitle(\"Result of the autoencoder\")\n",
    "plt.show()"
   ]
  },
  {
   "cell_type": "code",
   "execution_count": null,
   "metadata": {
    "collapsed": true
   },
   "outputs": [],
   "source": []
  }
 ],
 "metadata": {
  "kernelspec": {
   "display_name": "Python 3.6.3 64-bit ('python36': conda)",
   "language": "python",
   "name": "python36364bitpython36conda9488ed586bcc4bdeab5df32bb542d026"
  },
  "language_info": {
   "codemirror_mode": {
    "name": "ipython",
    "version": 3
   },
   "file_extension": ".py",
   "mimetype": "text/x-python",
   "name": "python",
   "nbconvert_exporter": "python",
   "pygments_lexer": "ipython3",
   "version": "3.6.8"
  }
 },
 "nbformat": 4,
 "nbformat_minor": 2
}
