{
 "cells": [
  {
   "cell_type": "code",
   "execution_count": 1,
   "id": "crucial-copying",
   "metadata": {},
   "outputs": [],
   "source": [
    "import sys\n",
    "sys.path.append(\"../\")\n"
   ]
  },
  {
   "cell_type": "code",
   "execution_count": 26,
   "id": "affecting-roommate",
   "metadata": {},
   "outputs": [],
   "source": [
    "import os\n",
    "import pandas as pd\n",
    "import numpy as np\n",
    "from glob import glob\n"
   ]
  },
  {
   "cell_type": "code",
   "execution_count": 11,
   "id": "ethical-hardware",
   "metadata": {},
   "outputs": [],
   "source": [
    "summarize_dict = {\n",
    "    \"Group A\": {\"machine-1-1\": 38},\n",
    "    \"Group B\": {\"machine-1-1\": 38},\n",
    "    \"Group C\": {\"machine-1-1\": 38}\n",
    "}\n",
    "# summarize_dict = {\"Group A\": {\"e29ca1cd\": 3,\n",
    "# \"c23b2b2d\": 4,\n",
    "# \"aeb5a1de\": 6,\n",
    "# \"2fe95315\": 5,\n",
    "# \"0a82a873\": 7,\n",
    "# \"af732cc4\": 7},\n",
    "# \"Group B\": {\"b2a04b7f\": 20,\n",
    "# \"c2970798\": 13,\n",
    "# \"5dafb960\": 12},\n",
    "# \"Group C\": {\"c91f4a07\": 24,\n",
    "# \"ca2ae31d\": 43,\n",
    "# \"f7958fb7\": 37}}\n",
    "results_dir = \"../benchmark/benchmark\"\n",
    "models = [\"3sigma\", \"iforest\",  \"LODA\", \"PCA\", \"AutoEncoder\", \"lstm\", \"lstm_vae\", \"dagmm\", \"omnianomaly\", \"CMAnomaly_old\",]"
   ]
  },
  {
   "cell_type": "code",
   "execution_count": 28,
   "id": "intellectual-combination",
   "metadata": {},
   "outputs": [],
   "source": [
    "def load_tuple(path):\n",
    "    anomaly_score = np.load(\n",
    "        os.path.join(path, \"anomaly_score.npz\"), allow_pickle=True\n",
    "    )[\"arr_0\"].item()[\"test\"]\n",
    "    anomaly_label = np.load(os.path.join(path, \"anomaly_label.npz\"))[\n",
    "        \"arr_0\"\n",
    "    ].astype(int)\n",
    "    return (anomaly_score, anomaly_label)"
   ]
  },
  {
   "cell_type": "code",
   "execution_count": 30,
   "id": "charged-sweet",
   "metadata": {},
   "outputs": [],
   "source": [
    "model = \"3sigma\"\n",
    "\n",
    "folders = glob(os.path.join(results_dir, f\"{model}/*/*/*\"))\n",
    "# folders = [item for item in folders if os.path.isdir(item)]\n",
    "\n",
    "subdataset_values = {}\n",
    "for folder in folders:\n",
    "    folder_components = folder.split(os.sep)\n",
    "    dataset, subdataset = folder_components[-2], folder_components[-1]\n",
    "    anomaly_score, anomaly_label = load_tuple(folder)\n",
    "    subdataset_values[subdataset] = {\n",
    "        \"anomaly_score\": anomaly_score,\n",
    "        \"anomaly_label\": anomaly_label,\n",
    "    }"
   ]
  },
  {
   "cell_type": "code",
   "execution_count": null,
   "id": "assigned-lightning",
   "metadata": {},
   "outputs": [],
   "source": []
  }
 ],
 "metadata": {
  "kernelspec": {
   "display_name": "Python 3",
   "language": "python",
   "name": "python3"
  },
  "language_info": {
   "codemirror_mode": {
    "name": "ipython",
    "version": 3
   },
   "file_extension": ".py",
   "mimetype": "text/x-python",
   "name": "python",
   "nbconvert_exporter": "python",
   "pygments_lexer": "ipython3",
   "version": "3.6.8"
  }
 },
 "nbformat": 4,
 "nbformat_minor": 5
}
