{
 "cells": [
  {
   "cell_type": "code",
   "execution_count": null,
   "source": [
    "import sys\n",
    "sys.path.append(\"../\")"
   ],
   "outputs": [],
   "metadata": {}
  },
  {
   "cell_type": "code",
   "execution_count": null,
   "source": [
    "%load_ext autoreload\n",
    "%autoreload 2\n",
    "import os\n",
    "import hashlib\n",
    "import numpy as np\n",
    "import traceback\n",
    "from common.dataloader import load_dataset\n",
    "from common import data_preprocess\n",
    "from matplotlib import pyplot as plt\n",
    "from collections import defaultdict"
   ],
   "outputs": [],
   "metadata": {}
  },
  {
   "cell_type": "code",
   "execution_count": null,
   "source": [
    "def moving_average(data_dict, w):\n",
    "    print(f\"Moving average with w={w}\")\n",
    "    new_dict = defaultdict(list)\n",
    "    for idx in range(data_dict[\"train\"].shape[1]):\n",
    "        new_dict[\"train\"].append(np.convolve(data_dict[\"train\"][:, idx], np.ones(w), 'valid') / w)\n",
    "        new_dict[\"test\"].append(np.convolve(data_dict[\"test\"][:, idx], np.ones(w), 'valid') / w)\n",
    "    \n",
    "    new_dict[\"train\"] = np.vstack(new_dict[\"train\"]).T\n",
    "    new_dict[\"test\"] = np.vstack(new_dict[\"test\"]).T\n",
    "    new_dict[\"test_labels\"] = data_dict[\"test_labels\"]\n",
    "    print(new_dict[\"train\"].shape)\n",
    "    return new_dict"
   ],
   "outputs": [],
   "metadata": {}
  },
  {
   "cell_type": "code",
   "execution_count": null,
   "source": [
    "\n",
    "selectedDims = {\n",
    "\"b2a04b7f\":[0,1,4,5,6,7,8,9,13,15,16,18,21,27,30,31,73,83,112,113],\n",
    "\"c2970798\":[53,54,79,102,168,173,174,176,202,250,477,487,556],\n",
    "\"e29ca1cd\":[40,45,66],\n",
    "\"5dafb960\":[0,1,4,5,8,21,73,74,83,101,109,112],\n",
    "\"c23b2b2d\":[15,16,24,38],\n",
    "\"aeb5a1de\":[28,79,80,81,82,84],\n",
    "\"2fe95315\":[22,25,60,70,85],\n",
    "\"0a82a873\":[0,3,6,22,23,44,69],\n",
    "\"af732cc4\":[17,24,25,32,33,39,60],\n",
    "\"c91f4a07\":[0,6,7,13,15,20,25,30,39,45,62,76,109,147,150,166,167,170,188,207,209,228,288,289],\n",
    "\"ca2ae31d\":[0,6,16,17,18,25,28,29,34,36,39,40,47,48,50,52,53,59,68,69,71,75,77,79,80,84,98,103,124,125,127,129,148,150,159,170,190,202,249,318,319,344,346],\n",
    "\"f7958fb7\":[0,2,4,20,31,33,37,41,43,45,56,57,58,69,81,88,101,109,157,161,169,254,265,282,290,334,346,363,392,410,423,438,445,454,465,490,492]\n",
    "}"
   ],
   "outputs": [],
   "metadata": {}
  },
  {
   "cell_type": "code",
   "execution_count": null,
   "source": [
    "\n",
    "dataset = \"HUAWEI\" # change to HUAWEI\n",
    "subdatasets = [\"b2a04b7f\",\"c2970798\",\"e29ca1cd\",\"5dafb960\",\"c23b2b2d\",\"aeb5a1de\",\"2fe95315\",\"0a82a873\",\"af732cc4\",\"c91f4a07\",\"ca2ae31d\",\"f7958fb7\"] # Change to skipped hashid list\n",
    "window_size = 100\n",
    "stride = 50\n",
    "\n",
    "for concerned_type in [\"normal\", \"anomaly\"]:\n",
    "    outdir = os.path.join(\"empirical_study\", f\"{concerned_type}_{dataset}_empirical\")\n",
    "    for subdataset in subdatasets:\n",
    "        current_out = os.path.join(outdir, subdataset) \n",
    "        print(f\"Plotting to {current_out}\")\n",
    "        os.makedirs(current_out, exist_ok=True)\n",
    "        data_dict = load_dataset(dataset, subdataset, \"all\", root_dir=\"../\")\n",
    "#         data_dict = load_dataset(dataset, subdataset, \"all\", root_dir=\"../\", nrows=720)\n",
    "        dims=selectedDims[subdataset]\n",
    "        data_dict[\"train\"] = data_dict[\"train\"][:, dims]\n",
    "        data_dict[\"test\"] = data_dict[\"test\"][:, dims]\n",
    "\n",
    "\n",
    "        window_dict = data_preprocess.generate_windows(\n",
    "                    data_dict,\n",
    "                    window_size=window_size,\n",
    "                    stride=stride,\n",
    "                    test_stride=stride\n",
    "                )\n",
    "        windows = window_dict[\"test_windows\"]\n",
    "\n",
    "        anomaly_indice = np.any(window_dict[\"test_labels\"], axis=1).reshape(-1)\n",
    "        normal_indice = ~anomaly_indice\n",
    "\n",
    "        print(windows.shape, anomaly_indice.shape, normal_indice.shape)\n",
    "\n",
    "        anomaly = windows[anomaly_indice]\n",
    "        normal = windows[normal_indice]\n",
    "\n",
    "        concerned_window = anomaly if concerned_type == \"anomaly\" else normal\n",
    "        for win_idx, window in enumerate(concerned_window):\n",
    "            fig, ax = plt.subplots(window.shape[1], figsize=(20, 2*window.shape[1]))\n",
    "            for idx in range(window.shape[1]):\n",
    "                data = window[:, idx]\n",
    "                ax[idx].plot(data.reshape(-1), label=f\"{subdataset} | {concerned_type} | win_{win_idx} | dim_{idx}\")\n",
    "                ax[idx].set_ylim(0,1)\n",
    "                ax[idx].legend()\n",
    "            fig.savefig(os.path.join(current_out, f\"win_{win_idx}.pdf\"))\n",
    "            plt.close()\n",
    "        print(f\"===============Finish {subdataset} {concerned_type} part===============\")\n"
   ],
   "outputs": [],
   "metadata": {}
  },
  {
   "cell_type": "code",
   "execution_count": null,
   "source": [],
   "outputs": [],
   "metadata": {}
  }
 ],
 "metadata": {
  "kernelspec": {
   "display_name": "Python 3",
   "language": "python",
   "name": "python3"
  },
  "language_info": {
   "codemirror_mode": {
    "name": "ipython",
    "version": 3
   },
   "file_extension": ".py",
   "mimetype": "text/x-python",
   "name": "python",
   "nbconvert_exporter": "python",
   "pygments_lexer": "ipython3",
   "version": "3.6.8"
  }
 },
 "nbformat": 4,
 "nbformat_minor": 5
}