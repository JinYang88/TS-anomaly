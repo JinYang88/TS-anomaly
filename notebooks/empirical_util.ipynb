{
 "cells": [
  {
   "cell_type": "code",
   "execution_count": 2,
   "id": "ordered-reserve",
   "metadata": {},
   "outputs": [],
   "source": [
    "import sys\n",
    "sys.path.append(\"../\")"
   ]
  },
  {
   "cell_type": "code",
   "execution_count": 3,
   "id": "northern-specification",
   "metadata": {},
   "outputs": [],
   "source": [
    "%load_ext autoreload\n",
    "%autoreload 2\n",
    "import os\n",
    "import hashlib\n",
    "import numpy as np\n",
    "import traceback\n",
    "from common.dataloader import load_dataset\n",
    "from common import data_preprocess\n",
    "from matplotlib import pyplot as plt"
   ]
  },
  {
   "cell_type": "code",
   "execution_count": 4,
   "id": "virgin-declaration",
   "metadata": {},
   "outputs": [
    {
     "name": "stdout",
     "output_type": "stream",
     "text": [
      "Plotting to empirical_study/normal_SMD_empirical/machine-1-1\n",
      "Loading machine-1-1 of SMD dataset\n",
      ".././datasets/anomaly/SMD/processed/machine-1-1_train.pkl\n",
      "Shape of train is (720, 38).\n",
      "Shape of test is (720, 38).\n",
      "Shape of test_labels is (720,).\n",
      "Generating sliding windows (size 50, stride 50, test stride 50).\n",
      "Train windows #: (14, 50, 38)\n",
      "Test windows #: (14, 50, 38)\n",
      "(14, 50, 38) (14,) (14,)\n",
      "===============Finish machine-1-1===============\n",
      "Plotting to empirical_study/anomaly_SMD_empirical/machine-1-1\n",
      "Loading machine-1-1 of SMD dataset\n",
      ".././datasets/anomaly/SMD/processed/machine-1-1_train.pkl\n",
      "Shape of train is (720, 38).\n",
      "Shape of test is (720, 38).\n",
      "Shape of test_labels is (720,).\n",
      "Generating sliding windows (size 50, stride 50, test stride 50).\n",
      "Train windows #: (14, 50, 38)\n",
      "Test windows #: (14, 50, 38)\n",
      "(14, 50, 38) (14,) (14,)\n",
      "===============Finish machine-1-1===============\n"
     ]
    }
   ],
   "source": [
    "dataset = \"SMD\" # change to HUAWEI\n",
    "subdatasets = [\"machine-1-1\"] # Change to skipped hashid list\n",
    "window_size = 50\n",
    "stride = 50\n",
    "\n",
    "for concerned_type in [\"normal\", \"anomaly\"]:\n",
    "    outdir = os.path.join(\"empirical_study\", f\"{concerned_type}_{dataset}_empirical\")\n",
    "    for subdataset in subdatasets:\n",
    "        current_out = os.path.join(outdir, subdataset) \n",
    "        print(f\"Plotting to {current_out}\")\n",
    "        os.makedirs(current_out, exist_ok=True)\n",
    "        data_dict = load_dataset(dataset, subdataset, \"all\", root_dir=\"../\", nrows=720)\n",
    "\n",
    "        window_dict = data_preprocess.generate_windows(\n",
    "                    data_dict,\n",
    "                    window_size=window_size,\n",
    "                    stride=stride,\n",
    "                    test_stride=stride\n",
    "                )\n",
    "        windows = window_dict[\"test_windows\"]\n",
    "\n",
    "        anomaly_indice = np.any(window_dict[\"test_labels\"], axis=1)\n",
    "        normal_indice = ~anomaly_indice\n",
    "\n",
    "        print(windows.shape, anomaly_indice.shape, normal_indice.shape)\n",
    "\n",
    "        anomaly = windows[anomaly_indice]\n",
    "        normal = windows[normal_indice]\n",
    "\n",
    "        concerned_window = anomaly if concerned_type == \"anomaly\" else normal\n",
    "        for win_idx, window in enumerate(concerned_window):\n",
    "            fig, ax = plt.subplots(window.shape[1], figsize=(20, 6*len(window)))\n",
    "            for idx in range(window.shape[1]):\n",
    "                data = window[:, idx]\n",
    "                ax[idx].plot(data, label=f\"{subdataset} | {concerned_type} | win_{win_idx} | dim_{idx}\")\n",
    "                ax[idx].legend()\n",
    "            fig.savefig(os.path.join(current_out, f\"win_{win_idx}.pdf\"))\n",
    "            plt.close()\n",
    "        print(f\"===============Finish {subdataset} {concerned_type} part===============\")"
   ]
  },
  {
   "cell_type": "code",
   "execution_count": null,
   "id": "comparable-playlist",
   "metadata": {},
   "outputs": [],
   "source": []
  }
 ],
 "metadata": {
  "kernelspec": {
   "display_name": "Python 3",
   "language": "python",
   "name": "python3"
  },
  "language_info": {
   "codemirror_mode": {
    "name": "ipython",
    "version": 3
   },
   "file_extension": ".py",
   "mimetype": "text/x-python",
   "name": "python",
   "nbconvert_exporter": "python",
   "pygments_lexer": "ipython3",
   "version": "3.6.8"
  }
 },
 "nbformat": 4,
 "nbformat_minor": 5
}
