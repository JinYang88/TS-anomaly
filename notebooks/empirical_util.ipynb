{
 "cells": [
  {
   "cell_type": "code",
   "execution_count": 1,
   "id": "d4f3b54e-0576-4b1d-8952-06b6c6824ef0",
   "metadata": {},
   "outputs": [],
   "source": [
    "import sys\n",
    "sys.path.append(\"../\")"
   ]
  },
  {
   "cell_type": "code",
   "execution_count": 2,
   "id": "b3e2f2f8-b635-430b-961d-66421b688f3e",
   "metadata": {},
   "outputs": [],
   "source": [
    "import os\n",
    "import hashlib\n",
    "import numpy as np\n",
    "import traceback\n",
    "from common.dataloader import load_dataset\n",
    "from matplotlib import pyplot as plt"
   ]
  },
  {
   "cell_type": "code",
   "execution_count": 3,
   "id": "888ff731-53e9-480a-a4d5-853485d95d6f",
   "metadata": {},
   "outputs": [],
   "source": [
    "def onehot2interval(arr):\n",
    "    result = []\n",
    "    record = False\n",
    "    for idx, item in enumerate(arr):\n",
    "        if item == 1 and not record:\n",
    "            start = idx\n",
    "            record = True\n",
    "        if item == 0 and record:\n",
    "            end = idx  # not include the end point, like [a,b)\n",
    "            record = False\n",
    "            result.append((start, end))\n",
    "    return result"
   ]
  },
  {
   "cell_type": "code",
   "execution_count": null,
   "id": "b3e55af4-dea4-45cb-aa3b-cd2b8c77ed6f",
   "metadata": {},
   "outputs": [],
   "source": []
  }
 ],
 "metadata": {
  "kernelspec": {
   "display_name": "Python 3 (ipykernel)",
   "language": "python",
   "name": "python3"
  },
  "language_info": {
   "codemirror_mode": {
    "name": "ipython",
    "version": 3
   },
   "file_extension": ".py",
   "mimetype": "text/x-python",
   "name": "python",
   "nbconvert_exporter": "python",
   "pygments_lexer": "ipython3",
   "version": "3.8.10"
  }
 },
 "nbformat": 4,
 "nbformat_minor": 5
}
