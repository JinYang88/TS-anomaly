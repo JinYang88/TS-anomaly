{
 "cells": [
  {
   "cell_type": "code",
   "execution_count": 1,
   "id": "everyday-belize",
   "metadata": {},
   "outputs": [],
   "source": [
    "import sys\n",
    "sys.path.append(\"../\")"
   ]
  },
  {
   "cell_type": "code",
   "execution_count": 5,
   "id": "civic-bubble",
   "metadata": {},
   "outputs": [
    {
     "name": "stdout",
     "output_type": "stream",
     "text": [
      "The autoreload extension is already loaded. To reload it, use:\n",
      "  %reload_ext autoreload\n"
     ]
    }
   ],
   "source": [
    "%load_ext autoreload\n",
    "%autoreload 2\n",
    "import os\n",
    "import hashlib\n",
    "import numpy as np\n",
    "import traceback\n",
    "from common.dataloader import load_dataset\n",
    "from common import data_preprocess\n",
    "from matplotlib import pyplot as plt\n",
    "from collections import defaultdict"
   ]
  },
  {
   "cell_type": "code",
   "execution_count": 6,
   "id": "outer-gabriel",
   "metadata": {},
   "outputs": [],
   "source": [
    "def moving_average(data_dict, w):\n",
    "    print(f\"Moving average with w={w}\")\n",
    "    new_dict = defaultdict(list)\n",
    "    for idx in range(data_dict[\"train\"].shape[1]):\n",
    "        new_dict[\"train\"].append(np.convolve(data_dict[\"train\"][:, idx], np.ones(w), 'valid') / w)\n",
    "        new_dict[\"test\"].append(np.convolve(data_dict[\"test\"][:, idx], np.ones(w), 'valid') / w)\n",
    "    \n",
    "    new_dict[\"train\"] = np.vstack(new_dict[\"train\"]).T\n",
    "    new_dict[\"test\"] = np.vstack(new_dict[\"test\"]).T\n",
    "    new_dict[\"test_labels\"] = data_dict[\"test_labels\"]\n",
    "    print(new_dict[\"train\"].shape)\n",
    "    return new_dict"
   ]
  },
  {
   "cell_type": "code",
   "execution_count": 7,
   "id": "collectible-parliament",
   "metadata": {},
   "outputs": [
    {
     "ename": "NameError",
     "evalue": "name 'data_dict' is not defined",
     "output_type": "error",
     "traceback": [
      "\u001b[0;31m---------------------------------------------------------------------------\u001b[0m",
      "\u001b[0;31mNameError\u001b[0m                                 Traceback (most recent call last)",
      "\u001b[0;32m/tmp/ipykernel_20521/3846969758.py\u001b[0m in \u001b[0;36m<module>\u001b[0;34m\u001b[0m\n\u001b[0;32m----> 1\u001b[0;31m \u001b[0mplt\u001b[0m\u001b[0;34m.\u001b[0m\u001b[0mplot\u001b[0m\u001b[0;34m(\u001b[0m\u001b[0mdata_dict\u001b[0m\u001b[0;34m[\u001b[0m\u001b[0;34m\"train\"\u001b[0m\u001b[0;34m]\u001b[0m\u001b[0;34m[\u001b[0m\u001b[0;34m:\u001b[0m\u001b[0;34m,\u001b[0m \u001b[0;36m0\u001b[0m\u001b[0;34m]\u001b[0m\u001b[0;34m)\u001b[0m\u001b[0;34m\u001b[0m\u001b[0;34m\u001b[0m\u001b[0m\n\u001b[0m",
      "\u001b[0;31mNameError\u001b[0m: name 'data_dict' is not defined"
     ]
    }
   ],
   "source": [
    "plt.plot(data_dict[\"train\"][:, 0])"
   ]
  },
  {
   "cell_type": "code",
   "execution_count": 8,
   "id": "trying-reception",
   "metadata": {},
   "outputs": [
    {
     "ename": "NameError",
     "evalue": "name 'data_dict' is not defined",
     "output_type": "error",
     "traceback": [
      "\u001b[0;31m---------------------------------------------------------------------------\u001b[0m",
      "\u001b[0;31mNameError\u001b[0m                                 Traceback (most recent call last)",
      "\u001b[0;32m/tmp/ipykernel_20521/1017061092.py\u001b[0m in \u001b[0;36m<module>\u001b[0;34m\u001b[0m\n\u001b[0;32m----> 1\u001b[0;31m \u001b[0mplt\u001b[0m\u001b[0;34m.\u001b[0m\u001b[0mplot\u001b[0m\u001b[0;34m(\u001b[0m\u001b[0mmoving_average\u001b[0m\u001b[0;34m(\u001b[0m\u001b[0mdata_dict\u001b[0m\u001b[0;34m[\u001b[0m\u001b[0;34m\"train\"\u001b[0m\u001b[0;34m]\u001b[0m\u001b[0;34m[\u001b[0m\u001b[0;34m:\u001b[0m\u001b[0;34m,\u001b[0m \u001b[0;36m0\u001b[0m\u001b[0;34m]\u001b[0m\u001b[0;34m,\u001b[0m \u001b[0;36m10\u001b[0m\u001b[0;34m)\u001b[0m\u001b[0;34m)\u001b[0m\u001b[0;34m\u001b[0m\u001b[0;34m\u001b[0m\u001b[0m\n\u001b[0m",
      "\u001b[0;31mNameError\u001b[0m: name 'data_dict' is not defined"
     ]
    }
   ],
   "source": [
    "plt.plot(moving_average(data_dict[\"train\"][:, 0], 10))"
   ]
  },
  {
   "cell_type": "code",
   "execution_count": 9,
   "id": "southern-riverside",
   "metadata": {},
   "outputs": [
    {
     "name": "stdout",
     "output_type": "stream",
     "text": [
      "Plotting to empirical_study/normal_SMD_ma_-1_empirical/machine-1-1\n",
      "Loading machine-1-1 of SMD dataset\n",
      ".././datasets/anomaly/SMD/processed/machine-1-1_train.pkl\n",
      "Shape of train is (720, 38).\n",
      "Shape of test is (720, 38).\n",
      "Shape of test_labels is (720,).\n",
      "Generating sliding windows (size 100, stride 50, test stride 50).\n",
      "Train windows #: (13, 100, 38)\n",
      "Test windows #: (13, 100, 38)\n",
      "(13, 100, 38) (13,) (13,)\n",
      "===============Finish machine-1-1 normal part===============\n",
      "Plotting to empirical_study/anomaly_SMD_ma_-1_empirical/machine-1-1\n",
      "Loading machine-1-1 of SMD dataset\n",
      ".././datasets/anomaly/SMD/processed/machine-1-1_train.pkl\n",
      "Shape of train is (720, 38).\n",
      "Shape of test is (720, 38).\n",
      "Shape of test_labels is (720,).\n",
      "Generating sliding windows (size 100, stride 50, test stride 50).\n",
      "Train windows #: (13, 100, 38)\n",
      "Test windows #: (13, 100, 38)\n",
      "(13, 100, 38) (13,) (13,)\n",
      "===============Finish machine-1-1 anomaly part===============\n"
     ]
    },
    {
     "data": {
      "text/plain": [
       "<Figure size 432x288 with 0 Axes>"
      ]
     },
     "metadata": {},
     "output_type": "display_data"
    }
   ],
   "source": [
    "dataset = \"SMD\" # change to HUAWEI\n",
    "subdatasets = [\"machine-1-1\"] # Change to all hashid list\n",
    "ma_size = -1 # -1 means \n",
    "window_size = 100\n",
    "stride = 50\n",
    "plt.tight_layout()\n",
    "for concerned_type in [\"normal\", \"anomaly\"]:\n",
    "    outdir = os.path.join(\"empirical_study\", f\"{concerned_type}_{dataset}_ma_{ma_size}_empirical\")\n",
    "    for subdataset in subdatasets:\n",
    "        current_out = os.path.join(outdir, subdataset) \n",
    "        print(f\"Plotting to {current_out}\")\n",
    "        os.makedirs(current_out, exist_ok=True)\n",
    "        data_dict = load_dataset(dataset, subdataset, \"all\", root_dir=\"../\", nrows=720)\n",
    "        \n",
    "        if ma_size != -1:\n",
    "            data_dict = moving_average(data_dict, w=ma_size)\n",
    "            \n",
    "        window_dict = data_preprocess.generate_windows(\n",
    "                    data_dict,\n",
    "                    window_size=window_size,\n",
    "                    stride=stride,\n",
    "                    test_stride=stride\n",
    "                )\n",
    "        windows = window_dict[\"test_windows\"]\n",
    "\n",
    "        anomaly_indice = np.any(window_dict[\"test_labels\"], axis=1)\n",
    "        normal_indice = ~anomaly_indice\n",
    "\n",
    "        print(windows.shape, anomaly_indice.shape, normal_indice.shape)\n",
    "\n",
    "        anomaly = windows[anomaly_indice]\n",
    "        normal = windows[normal_indice]\n",
    "\n",
    "        concerned_window = anomaly if concerned_type == \"anomaly\" else normal\n",
    "        for win_idx, window in enumerate(concerned_window):\n",
    "            fig, ax = plt.subplots(window.shape[1], figsize=(20, 2*window.shape[1]))\n",
    "            for idx in range(window.shape[1]):\n",
    "                data = window[:, idx]\n",
    "                ax[idx].plot(data, label=f\"{subdataset} | {concerned_type} | win_{win_idx} | dim_{idx}\")\n",
    "                ax[idx].legend()\n",
    "            fig.savefig(os.path.join(current_out, f\"win_{win_idx}.pdf\"), bbox_inches=\"tight\")\n",
    "            plt.close()\n",
    "        print(f\"===============Finish {subdataset} {concerned_type} part===============\")"
   ]
  },
  {
   "cell_type": "code",
   "execution_count": null,
   "id": "coordinated-chuck",
   "metadata": {},
   "outputs": [],
   "source": []
  }
 ],
 "metadata": {
  "kernelspec": {
   "display_name": "Python 3 (ipykernel)",
   "language": "python",
   "name": "python3"
  },
  "language_info": {
   "codemirror_mode": {
    "name": "ipython",
    "version": 3
   },
   "file_extension": ".py",
   "mimetype": "text/x-python",
   "name": "python",
   "nbconvert_exporter": "python",
   "pygments_lexer": "ipython3",
   "version": "3.8.10"
  }
 },
 "nbformat": 4,
 "nbformat_minor": 5
}
