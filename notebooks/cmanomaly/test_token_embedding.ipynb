{
 "cells": [
  {
   "cell_type": "code",
   "execution_count": 1,
   "metadata": {
    "collapsed": true
   },
   "outputs": [],
   "source": [
    "%load_ext autoreload\n",
    "%autoreload 2\n",
    "import sys\n",
    "import os\n",
    "sys.argv=['']\n",
    "del sys\n",
    "os.chdir(\"../\")\n"
   ]
  },
  {
   "cell_type": "code",
   "execution_count": 128,
   "metadata": {
    "collapsed": true
   },
   "outputs": [],
   "source": [
    "\n",
    "import matplotlib.pyplot as plt\n",
    "import json\n",
    "import math\n",
    "import torch\n",
    "import numpy\n",
    "import pandas\n",
    "import logging\n",
    "import numpy as np\n",
    "from tslearn.metrics import dtw\n",
    "\n",
    "\n",
    "\n",
    "from IPython import embed\n",
    "from common import scikit_wrappers, data_preprocess \n",
    "from common.utils import print_to_json\n",
    "from common.dataloader import load_SMD_dataset, load_CSV_dataset\n",
    "from common.sliding import BatchSlidingWindow, WindowIterator\n",
    "from common.config import parse_arguments, set_logger, initialize_config\n",
    "\n",
    "\n",
    "args = parse_arguments()\n",
    "\n",
    "%matplotlib inline"
   ]
  },
  {
   "cell_type": "code",
   "execution_count": 2,
   "metadata": {
    "collapsed": true
   },
   "outputs": [],
   "source": [
    "def get_cmap(n, name='hsv'):\n",
    "    '''Returns a function that maps each index in 0, 1, ..., n-1 to a distinct \n",
    "    RGB color; the keyword argument name must be a standard mpl colormap name.'''\n",
    "    return plt.cm.get_cmap(name, n)\n",
    "def plot_window(window, x=None, dim=0, label=\"\", color=\"b\", legend=True):\n",
    "    if not x:\n",
    "        x = np.array(range(window.shape[1]))\n",
    "    y = window[dim, :]\n",
    "    plt.plot(x,y,color=color, label=label)\n",
    "    if legend:\n",
    "        plt.legend()"
   ]
  },
  {
   "cell_type": "code",
   "execution_count": 3,
   "metadata": {
    "collapsed": true
   },
   "outputs": [],
   "source": [
    "args[\"load\"] = \"./checkpoints/20201110-164903\""
   ]
  },
  {
   "cell_type": "code",
   "execution_count": 4,
   "metadata": {},
   "outputs": [
    {
     "name": "stderr",
     "output_type": "stream",
     "text": [
      "2020-11-10 19:28:55,458 P39406 INFO Loading preprocessor from ./checkpoints/20201110-164903/preprocessor.pkl\n",
      "2020-11-10 19:28:55,460 P39406 INFO Proceeding using cpu...\n",
      "2020-11-10 19:28:55,461 P39406 INFO {\n",
      "    \"batch_size\": \"64\",\n",
      "    \"channels\": \"40\",\n",
      "    \"compared_length\": \"None\",\n",
      "    \"dataset\": \"machine-1-1\",\n",
      "    \"depth\": \"2\",\n",
      "    \"device\": \"cpu\",\n",
      "    \"embedding_dim\": \"10\",\n",
      "    \"expid\": \"casualCnn\",\n",
      "    \"gpu\": \"0\",\n",
      "    \"in_channels\": \"1\",\n",
      "    \"kernel_size\": \"3\",\n",
      "    \"load\": \"./checkpoints/20201110-164903\",\n",
      "    \"lr\": \"0.001\",\n",
      "    \"nb_random_samples\": \"5\",\n",
      "    \"nb_steps\": \"2000\",\n",
      "    \"negative_penalty\": \"1\",\n",
      "    \"out_channels\": \"64\",\n",
      "    \"path\": \"./datasets/Simulated/simulated_p1.csv\",\n",
      "    \"penalty\": \"None\",\n",
      "    \"reduced_size\": \"32\",\n",
      "    \"save_path\": \"./checkpoints/20201110-164903\",\n",
      "    \"trial_id\": \"20201110-164903\",\n",
      "    \"window_size\": \"45\"\n",
      "}\n",
      "2020-11-10 19:28:55,473 P39406 INFO Loading model from ./checkpoints/20201110-164903/CausalCNN_20201110-164903.pth\n"
     ]
    }
   ],
   "source": [
    "# load config\n",
    "config_dir = \"./hypers/\" if not args[\"load\"] else args[\"load\"]\n",
    "params = initialize_config(config_dir, args)\n",
    "\n",
    "# load & preprocess data\n",
    "pp = data_preprocess.preprocessor()\n",
    "pp.load(params[\"save_path\"])\n",
    "params['in_channels'] = 1\n",
    "\n",
    "logging.info(\"Proceeding using {}...\".format(params[\"device\"]))\n",
    "logging.info(print_to_json(params))\n",
    "# training\n",
    "encoder = scikit_wrappers.CausalCNNEncoder(vocab_size=pp.vocab_size, **params)\n",
    "if params[\"load\"]:\n",
    "    encoder.load_encoder()\n",
    "else:\n",
    "    encoder.fit(train_iterator, save_memory=False, verbose=True)\n",
    "    encoder.save_encoder()"
   ]
  },
  {
   "cell_type": "code",
   "execution_count": 33,
   "metadata": {
    "collapsed": true
   },
   "outputs": [],
   "source": [
    "data_dict1 = load_CSV_dataset(params[\"path\"], dataset=\"[3]: 1583_295\")\n",
    "data_dict2 = load_CSV_dataset(params[\"path\"], dataset=\"[0]: 15449476_6265666\") \n",
    "data_dict1_disc = pp.discretize(data_dict1, mode=\"test\")\n",
    "data_dict2_disc = pp.discretize(data_dict2, mode=\"test\")"
   ]
  },
  {
   "cell_type": "code",
   "execution_count": 18,
   "metadata": {},
   "outputs": [
    {
     "data": {
      "text/plain": [
       "dict_keys(['dim', '[3]: 1583_295'])"
      ]
     },
     "execution_count": 18,
     "metadata": {},
     "output_type": "execute_result"
    }
   ],
   "source": [
    "data_dict1.keys()"
   ]
  },
  {
   "cell_type": "code",
   "execution_count": 164,
   "metadata": {
    "collapsed": true
   },
   "outputs": [],
   "source": [
    "train_windows1, test_windows1 = data_preprocess.generate_windows(data_dict1, window_size=params[\"window_size\"])\n",
    "train_windows2, test_windows2 = data_preprocess.generate_windows(data_dict2, window_size=params[\"window_size\"])\n",
    "train_windows1_disc, test_windows1_disc = data_preprocess.generate_windows(data_dict1_disc, window_size=params[\"window_size\"])\n",
    "train_windows2_disc, test_windows2_disc = data_preprocess.generate_windows(data_dict2_disc, window_size=params[\"window_size\"])"
   ]
  },
  {
   "cell_type": "code",
   "execution_count": 56,
   "metadata": {},
   "outputs": [
    {
     "data": {
      "text/plain": [
       "torch.Size([3000, 1, 1])"
      ]
     },
     "execution_count": 56,
     "metadata": {},
     "output_type": "execute_result"
    }
   ],
   "source": [
    "train_windows1.shape"
   ]
  },
  {
   "cell_type": "code",
   "execution_count": 54,
   "metadata": {},
   "outputs": [
    {
     "data": {
      "text/plain": [
       "(12000, 1)"
      ]
     },
     "execution_count": 54,
     "metadata": {},
     "output_type": "execute_result"
    }
   ],
   "source": [
    "data_dict1[\"[3]: 1583_295\"][\"train\"].shape"
   ]
  },
  {
   "cell_type": "code",
   "execution_count": 90,
   "metadata": {},
   "outputs": [
    {
     "data": {
      "text/plain": [
       "torch.Size([11956, 1, 45])"
      ]
     },
     "execution_count": 90,
     "metadata": {},
     "output_type": "execute_result"
    }
   ],
   "source": []
  },
  {
   "cell_type": "code",
   "execution_count": 98,
   "metadata": {},
   "outputs": [
    {
     "data": {
      "text/plain": [
       "array([[    0,  2408,  4003, ...,  1246, 11047,  8185]])"
      ]
     },
     "execution_count": 98,
     "metadata": {},
     "output_type": "execute_result"
    }
   ],
   "source": [
    "def find_topk_nearest(target, pool, k=5):\n",
    "    return np.argsort(euclidean_distances(target, pool))[0:k]"
   ]
  },
  {
   "cell_type": "code",
   "execution_count": 154,
   "metadata": {
    "collapsed": true
   },
   "outputs": [],
   "source": [
    "win = train_windows1[i].reshape(-1)\n",
    "win[21] = 2800\n",
    "win = win.reshape(1,-1)"
   ]
  },
  {
   "cell_type": "code",
   "execution_count": 155,
   "metadata": {},
   "outputs": [
    {
     "data": {
      "text/plain": [
       "tensor([[1297.7379, 1656.8651, 1611.8816, 1922.4554, 1209.5485, 1644.1110,\n",
       "         1626.3591, 1223.9301, 1982.7705, 1377.2307, 1315.3308, 1731.1552,\n",
       "         1355.5380, 1525.2906, 1997.4171, 1253.4006, 1819.0626, 1928.4811,\n",
       "         1320.4028, 1765.6703, 1701.5294, 2800.0000, 1869.3859, 1433.5192,\n",
       "         1643.3289, 1705.6924, 1487.3538, 1515.6062, 1949.7056, 1273.0355,\n",
       "         1959.7191, 1243.0853, 1895.4670, 1530.3247, 1766.0411, 1367.7433,\n",
       "         1504.1002, 1144.2533, 1832.1921, 1894.0042, 1598.2788, 1960.5049,\n",
       "         2008.2614, 1463.6309, 1368.9801]])"
      ]
     },
     "execution_count": 155,
     "metadata": {},
     "output_type": "execute_result"
    }
   ],
   "source": [
    "win"
   ]
  },
  {
   "cell_type": "code",
   "execution_count": 178,
   "metadata": {},
   "outputs": [
    {
     "name": "stdout",
     "output_type": "stream",
     "text": [
      "[[0.886609]]\n",
      "[[0.90542865]]\n"
     ]
    },
    {
     "data": {
      "image/png": "[encoded data removed]",
      "text/plain": [
       "<Figure size 432x288 with 1 Axes>"
      ]
     },
     "metadata": {
      "needs_background": "light"
     },
     "output_type": "display_data"
    },
    {
     "data": {
      "image/png": "[encoded data removed]",
      "text/plain": [
       "<Figure size 432x288 with 1 Axes>"
      ]
     },
     "metadata": {
      "needs_background": "light"
     },
     "output_type": "display_data"
    }
   ],
   "source": [
    "i = 4980\n",
    "cmap = get_cmap(10)\n",
    "window_size=params[\"window_size\"]\n",
    "# slice = range(window_size*i,window_size*(i+1))\n",
    "plot_window(train_windows1[4980], x=slice, color=cmap(i), legend=False)\n",
    "plt.figure()\n",
    "\n",
    "plot_window(train_windows2[4960], x=slice, color=cmap(i), legend=False)\n",
    "\n",
    "print(cosine_similarity(train_windows1_disc[4980], train_windows2_disc[4960]))\n",
    "print(cosine_similarity(train_windows1[4980], train_windows2[4960]))"
   ]
  },
  {
   "cell_type": "code",
   "execution_count": 162,
   "metadata": {},
   "outputs": [
    {
     "data": {
      "image/png": "[encoded data removed]",
      "text/plain": [
       "<Figure size 432x288 with 1 Axes>"
      ]
     },
     "metadata": {
      "needs_background": "light"
     },
     "output_type": "display_data"
    },
    {
     "data": {
      "image/png": "[encoded data removed]",
      "text/plain": [
       "<Figure size 432x288 with 1 Axes>"
      ]
     },
     "metadata": {
      "needs_background": "light"
     },
     "output_type": "display_data"
    },
    {
     "data": {
      "image/png": "[encoded data removed]",
      "text/plain": [
       "<Figure size 432x288 with 1 Axes>"
      ]
     },
     "metadata": {
      "needs_background": "light"
     },
     "output_type": "display_data"
    }
   ],
   "source": [
    "i = 4980\n",
    "cmap = get_cmap(10)\n",
    "window_size=params[\"window_size\"]\n",
    "# slice = range(window_size*i,window_size*(i+1))\n",
    "plot_window(train_windows1_disc[4980], x=slice, color=cmap(i), legend=False)\n",
    "plt.figure()\n",
    "\n",
    "plot_window(train_windows2_disc[4980], x=slice, color=cmap(i), legend=False)\n",
    "plt.figure()\n",
    "plot_window(train_windows1_disc[3627], x=slice, color=cmap(i), legend=False)"
   ]
  },
  {
   "cell_type": "code",
   "execution_count": 166,
   "metadata": {},
   "outputs": [
    {
     "name": "stdout",
     "output_type": "stream",
     "text": [
      "[[0.8842065]]\n"
     ]
    }
   ],
   "source": []
  },
  {
   "cell_type": "code",
   "execution_count": 169,
   "metadata": {},
   "outputs": [
    {
     "name": "stdout",
     "output_type": "stream",
     "text": [
      "[[0.9021852]]\n"
     ]
    }
   ],
   "source": []
  },
  {
   "cell_type": "code",
   "execution_count": 167,
   "metadata": {},
   "outputs": [
    {
     "data": {
      "text/plain": [
       "tensor([[327., 315., 401., 203., 324., 319., 207., 418., 250., 233., 348., 244.,\n",
       "         291., 422., 216., 372., 403., 234., 358., 340., 840., 386., 266., 324.,\n",
       "         341., 280., 288., 409., 221., 411., 213., 393., 292., 358., 247., 285.,\n",
       "         185., 376., 393., 311., 411., 425., 274., 248., 234.]])"
      ]
     },
     "execution_count": 167,
     "metadata": {},
     "output_type": "execute_result"
    }
   ],
   "source": [
    "train_windows1_disc[4981]"
   ]
  },
  {
   "cell_type": "code",
   "execution_count": 168,
   "metadata": {},
   "outputs": [
    {
     "data": {
      "text/plain": [
       "tensor([[267., 250., 238., 290., 211., 298., 151., 338., 261., 303., 320., 255.,\n",
       "         179., 311., 218., 306., 213., 230., 298., 999., 348., 346., 281., 311.,\n",
       "         185., 349., 315., 196., 272., 215., 257., 349., 255., 217., 354., 310.,\n",
       "         349., 232., 248., 303., 227., 164., 282., 306., 301.]])"
      ]
     },
     "execution_count": 168,
     "metadata": {},
     "output_type": "execute_result"
    }
   ],
   "source": [
    "train_windows2_disc[4981]"
   ]
  },
  {
   "cell_type": "code",
   "execution_count": 105,
   "metadata": {},
   "outputs": [
    {
     "data": {
      "text/plain": [
       "array([[3722.502]], dtype=float32)"
      ]
     },
     "execution_count": 105,
     "metadata": {},
     "output_type": "execute_result"
    }
   ],
   "source": [
    "euclidean_distances(train_windows1[i], train_windows1[4981])"
   ]
  },
  {
   "cell_type": "code",
   "execution_count": 83,
   "metadata": {},
   "outputs": [
    {
     "name": "stdout",
     "output_type": "stream",
     "text": [
      "tensor([[228., 327., 315., 401., 203., 324., 319., 207., 418., 250., 233., 348.,\n",
      "         244., 291., 422., 216., 372., 403., 234., 358., 340., 840., 386., 266.,\n",
      "         324., 341., 280., 288., 409., 221., 411., 213., 393., 292., 358., 247.,\n",
      "         285., 185., 376., 393., 311., 411., 425., 274., 248.]]) tensor([[394., 267., 250., 238., 290., 211., 298., 151., 338., 261., 303., 320.,\n",
      "         255., 179., 311., 218., 306., 213., 230., 298., 999., 348., 346., 281.,\n",
      "         311., 185., 349., 315., 196., 272., 215., 257., 349., 255., 217., 354.,\n",
      "         310., 349., 232., 248., 303., 227., 164., 282., 306.]]) tensor([[327., 227., 165., 293., 346., 215., 238., 248., 239., 352., 296., 321.,\n",
      "         302., 274., 422., 240., 257., 384., 293., 286., 291., 282., 173., 236.,\n",
      "         321., 234., 372., 256., 283., 249., 147., 246., 333., 380., 262., 301.,\n",
      "         348., 250., 368., 315., 385., 266., 188., 174., 311.]])\n"
     ]
    }
   ],
   "source": [
    "print(train_windows1_disc[i], train_windows2_disc[i], train_windows2_disc[i-100])"
   ]
  },
  {
   "cell_type": "code",
   "execution_count": 134,
   "metadata": {},
   "outputs": [
    {
     "name": "stdout",
     "output_type": "stream",
     "text": [
      "embeding\n",
      "[[-0.03615333  0.62971793]]\n",
      "[[3.99260369 1.78716348]]\n",
      "离散化前raw\n",
      "[[0.9045925]]\n",
      "[[0.9793707]]\n",
      "离散化后raw\n",
      "[[0.88528764]]\n",
      "[[0.96052206]]\n",
      "离散化后raw + dtw\n",
      "1067.2675390922373\n",
      "652.612442418929\n"
     ]
    }
   ],
   "source": [
    "from sklearn.metrics.pairwise import cosine_similarity\n",
    "from sklearn.metrics.pairwise import euclidean_distances\n",
    "emb1 = encoder.encode(train_windows1_disc[4980].reshape(1,1,1,-1)).numpy().reshape(-1)\n",
    "emb2 = encoder.encode(train_windows2_disc[4980].reshape(1,1,1,-1)).numpy().reshape(-1)\n",
    "emb3 = encoder.encode(train_windows1_disc[3627].reshape(1,1,1,-1)).numpy().reshape(-1)\n",
    "\n",
    "print(\"embeding\")\n",
    "print(cosine_similarity(emb1.reshape(1,-1), np.array([emb2, emb3])))\n",
    "print(euclidean_distances(emb1.reshape(1,-1), np.array([emb2,emb3])))\n",
    "\n",
    "print(\"离散化前raw\")\n",
    "print(cosine_similarity(train_windows1[i], train_windows2[4981]))\n",
    "print(cosine_similarity(train_windows1[i], train_windows1[3627]))\n",
    "\n",
    "print(\"离散化后raw\")\n",
    "print(cosine_similarity(train_windows1_disc[4981], train_windows2_disc[4981]))\n",
    "print(cosine_similarity(train_windows1_disc[i], train_windows1_disc[3627]))\n",
    "\n",
    "print(\"离散化后raw + dtw\")\n",
    "print(dtw(train_windows1_disc[i], train_windows2_disc[4981]))\n",
    "print(dtw(train_windows1_disc[i], train_windows1_disc[3627]))\n",
    "# print(euclidean_distances(emb1, emb3))"
   ]
  },
  {
   "cell_type": "code",
   "execution_count": 121,
   "metadata": {},
   "outputs": [
    {
     "data": {
      "text/plain": [
       "(2, 64)"
      ]
     },
     "execution_count": 121,
     "metadata": {},
     "output_type": "execute_result"
    }
   ],
   "source": [
    "np.array([emb2,emb3]).shape"
   ]
  },
  {
   "cell_type": "code",
   "execution_count": 11,
   "metadata": {
    "collapsed": true
   },
   "outputs": [],
   "source": [
    "sample_window = test_windows[0:100]\n",
    "test_iterator = WindowIterator(sample_window, batch_size=1000, shuffle=False)"
   ]
  },
  {
   "cell_type": "code",
   "execution_count": 12,
   "metadata": {},
   "outputs": [
    {
     "name": "stderr",
     "output_type": "stream",
     "text": [
      "2020-11-10 16:51:42,764 P20162 INFO Final features have shape: torch.Size([100, 64])\n"
     ]
    }
   ],
   "source": [
    "# inference\n",
    "features = encoder.encode(test_iterator.loader)\n",
    "logging.info(\"Final features have shape: {}\".format(features.shape))"
   ]
  },
  {
   "cell_type": "code",
   "execution_count": 13,
   "metadata": {
    "collapsed": true
   },
   "outputs": [],
   "source": [
    "tsne = manifold.TSNE(n_components=2, init='pca', random_state=502)\n",
    "X_tsne = tsne.fit_transform(features)\n",
    "x_min, x_max = X_tsne.min(0), X_tsne.max(0)\n",
    "X_norm = (X_tsne - x_min) / (x_max - x_min)  # 归一化"
   ]
  },
  {
   "cell_type": "code",
   "execution_count": 26,
   "metadata": {
    "collapsed": true
   },
   "outputs": [],
   "source": []
  },
  {
   "cell_type": "code",
   "execution_count": 50,
   "metadata": {},
   "outputs": [
    {
     "name": "stdout",
     "output_type": "stream",
     "text": [
      "0.72\n"
     ]
    },
    {
     "data": {
      "image/png": "[encoded data removed]",
      "text/plain": [
       "<Figure size 432x288 with 1 Axes>"
      ]
     },
     "metadata": {
      "needs_background": "light"
     },
     "output_type": "display_data"
    },
    {
     "data": {
      "image/png": "[encoded data removed]",
      "text/plain": [
       "<Figure size 288x288 with 1 Axes>"
      ]
     },
     "metadata": {
      "needs_background": "light"
     },
     "output_type": "display_data"
    }
   ],
   "source": [
    "window_size = 45\n",
    "n_window = 2\n",
    "start_window=100\n",
    "cmap = get_cmap(2*n_window)\n",
    "raw_windows = []\n",
    "ploted_windows = []\n",
    "for i in range(n_window):\n",
    "    w = test_windows[start_window + i*window_size, :, :]\n",
    "    plot_window(w, x=range(window_size*i,window_size*(i+1)), color=cmap(i), legend=False)\n",
    "    plt.vlines(window_size*i, 0.1, 0.5, label=i, colors = cmap(i+5), linestyles = \"dashed\")\n",
    "    raw_windows.append(w) \n",
    "plt.legend(bbox_to_anchor=(1.15, 1), loc='upper right')\n",
    "\n",
    "    \n",
    "plt.figure(figsize=(4, 4))\n",
    "for i in range(n_window):\n",
    "    w_idx = start_window+i*window_size\n",
    "    reprentation = features[w_idx]\n",
    "    plt.scatter(X_norm[w_idx, 0], X_norm[w_idx, 1], color=cmap(i))\n",
    "    ploted_windows.append(reprentation)\n",
    "    \n",
    "\n",
    "for i in range(len(ploted_windows)-1):\n",
    "#     dist = np.sqrt(sum((ploted_windows[i].reshape(-1) - ploted_windows[i+1].reshape(-1))**2))\n",
    "    dist = cosine_similarity(ploted_windows[i].reshape(1,-1), ploted_windows[i+1].reshape(1,-1))\n",
    "#     dist = np.dot(ploted_windows[i], ploted_windows[i+1])\n",
    "#     print(i, i+1, dist[0][0])\n",
    "    print(round(dist[0][0],3))"
   ]
  },
  {
   "cell_type": "code",
   "execution_count": 46,
   "metadata": {},
   "outputs": [
    {
     "data": {
      "text/plain": [
       "[tensor([[173., 173., 173., 173., 173., 173., 173., 173., 173., 173., 173., 152.,\n",
       "          173., 173., 173., 173., 173., 173., 173., 173., 173., 173., 173., 173.,\n",
       "          173., 173., 173., 173., 173., 173., 173., 152., 173., 173., 173., 195.,\n",
       "          173., 195., 195., 195., 195., 173., 173., 173., 195.]]),\n",
       " tensor([[195., 195., 195., 195., 195., 195., 195., 195., 173., 195., 195., 173.,\n",
       "          173., 195., 195., 195., 195., 173., 195., 195., 195., 195., 217., 195.,\n",
       "          304., 282., 239., 260., 260., 282., 260., 282., 304., 282., 304., 304.,\n",
       "          304., 304., 304., 304., 304., 304., 304., 304., 326.]])]"
      ]
     },
     "execution_count": 46,
     "metadata": {},
     "output_type": "execute_result"
    }
   ],
   "source": [
    "raw_windows"
   ]
  },
  {
   "cell_type": "code",
   "execution_count": null,
   "metadata": {
    "collapsed": true
   },
   "outputs": [],
   "source": []
  }
 ],
 "metadata": {
  "kernelspec": {
   "display_name": "Python 3.6.3 64-bit ('python36': conda)",
   "language": "python",
   "name": "python36364bitpython36conda9488ed586bcc4bdeab5df32bb542d026"
  },
  "language_info": {
   "codemirror_mode": {
    "name": "ipython",
    "version": 3
   },
   "file_extension": ".py",
   "mimetype": "text/x-python",
   "name": "python",
   "nbconvert_exporter": "python",
   "pygments_lexer": "ipython3",
   "version": "3.6.3"
  }
 },
 "nbformat": 4,
 "nbformat_minor": 2
}
