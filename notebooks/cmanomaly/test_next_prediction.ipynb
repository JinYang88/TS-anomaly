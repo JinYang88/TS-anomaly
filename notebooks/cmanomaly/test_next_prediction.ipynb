{
 "cells": [
  {
   "cell_type": "code",
   "execution_count": 1,
   "metadata": {
    "collapsed": true
   },
   "outputs": [],
   "source": [
    "%load_ext autoreload\n",
    "%autoreload 2\n",
    "import sys\n",
    "import os\n",
    "sys.argv=['']\n",
    "del sys\n",
    "os.chdir(\"../\")\n"
   ]
  },
  {
   "cell_type": "code",
   "execution_count": 53,
   "metadata": {},
   "outputs": [],
   "source": [
    "import os\n",
    "import json\n",
    "import math\n",
    "import torch\n",
    "import numpy as np\n",
    "import pandas\n",
    "import logging\n",
    "\n",
    "\n",
    "from IPython import embed\n",
    "from common import data_preprocess \n",
    "from common.utils import print_to_json\n",
    "from common.dataloader import load_SMAP_MSL_dataset, load_CSV_dataset\n",
    "from common.sliding import BatchSlidingWindow, WindowIterator\n",
    "from common.config import parse_arguments, set_logger, initialize_config\n",
    "\n"
   ]
  },
  {
   "cell_type": "code",
   "execution_count": 12,
   "metadata": {},
   "outputs": [
    {
     "name": "stderr",
     "output_type": "stream",
     "text": [
      "2020-11-19 14:53:49,441 P73779 INFO Saving preprocessor into ./checkpoints/20201119-145349/preprocessor.pkl\n",
      "2020-11-19 14:53:49,443 P73779 INFO Generating sliding windows for dataset [SMAP]\n"
     ]
    }
   ],
   "source": [
    "args = parse_arguments()\n",
    "\n",
    "# load config\n",
    "config_dir = \"./hypers/\" if not args[\"load\"] else args[\"load\"]\n",
    "params = initialize_config(config_dir, args)\n",
    "\n",
    "# load & preprocess data\n",
    "data_dict = load_SMAP_MSL_dataset(params[\"path\"], params[\"dataset\"])\n",
    "pp = data_preprocess.preprocessor()\n",
    "if params[\"discretized\"]:\n",
    "    data_dict = pp.discretize(data_dict)\n",
    "    vocab_size = pp.build_vocab(data_dict)\n",
    "pp.save(params[\"save_path\"])\n",
    "\n",
    "train_windows, test_windows, test_labels = data_preprocess.generate_windows(data_dict, window_size=params[\"window_size\"])\n",
    "\n",
    "train_iterator = WindowIterator(train_windows, batch_size=params[\"batch_size\"], shuffle=True)\n",
    "test_iterator = WindowIterator(test_windows, batch_size=params[\"batch_size\"], shuffle=False)\n",
    "params['in_channels'] = data_dict[\"dim\"]"
   ]
  },
  {
   "cell_type": "code",
   "execution_count": 60,
   "metadata": {},
   "outputs": [],
   "source": [
    "test_labels = test_labels[:, -1]"
   ]
  },
  {
   "cell_type": "code",
   "execution_count": 61,
   "metadata": {},
   "outputs": [
    {
     "data": {
      "text/plain": [
       "tensor(54696.)"
      ]
     },
     "execution_count": 61,
     "metadata": {},
     "output_type": "execute_result"
    }
   ],
   "source": [
    "sum(test_labels)"
   ]
  },
  {
   "cell_type": "code",
   "execution_count": 62,
   "metadata": {},
   "outputs": [
    {
     "data": {
      "text/plain": [
       "0.12792201565580613"
      ]
     },
     "execution_count": 62,
     "metadata": {},
     "output_type": "execute_result"
    }
   ],
   "source": [
    "sum(test_labels).item() / test_labels.shape[0]"
   ]
  },
  {
   "cell_type": "code",
   "execution_count": 14,
   "metadata": {},
   "outputs": [],
   "source": [
    "inp = next(iter(test_iterator.loader))"
   ]
  },
  {
   "cell_type": "code",
   "execution_count": 51,
   "metadata": {},
   "outputs": [
    {
     "data": {
      "text/plain": [
       "(64, 25, 45)"
      ]
     },
     "execution_count": 51,
     "metadata": {},
     "output_type": "execute_result"
    }
   ],
   "source": [
    "inp.numpy()[0:None].shape"
   ]
  },
  {
   "cell_type": "code",
   "execution_count": 46,
   "metadata": {
    "collapsed": true
   },
   "outputs": [],
   "source": [
    "from networks.mlstm import MultiLSTMEncoder"
   ]
  },
  {
   "cell_type": "code",
   "execution_count": 47,
   "metadata": {},
   "outputs": [],
   "source": [
    "model = MultiLSTMEncoder(**params)"
   ]
  },
  {
   "cell_type": "code",
   "execution_count": 42,
   "metadata": {},
   "outputs": [
    {
     "ename": "AttributeError",
     "evalue": "'MultiLSTMEncoder' object has no attribute 'encoder'",
     "output_type": "error",
     "traceback": [
      "\u001b[0;31m---------------------------------------------------------------------------\u001b[0m",
      "\u001b[0;31mAttributeError\u001b[0m                            Traceback (most recent call last)",
      "\u001b[0;32m<ipython-input-42-7ae63eb21dea>\u001b[0m in \u001b[0;36m<module>\u001b[0;34m\u001b[0m\n\u001b[0;32m----> 1\u001b[0;31m \u001b[0moup\u001b[0m\u001b[0;34m=\u001b[0m\u001b[0mmodel\u001b[0m\u001b[0;34m.\u001b[0m\u001b[0mencoder\u001b[0m\u001b[0;34m(\u001b[0m\u001b[0minp\u001b[0m\u001b[0;34m)\u001b[0m\u001b[0;34m\u001b[0m\u001b[0;34m\u001b[0m\u001b[0m\n\u001b[0m",
      "\u001b[0;31mAttributeError\u001b[0m: 'MultiLSTMEncoder' object has no attribute 'encoder'"
     ]
    }
   ],
   "source": [
    "oup=model.encoder(inp)"
   ]
  },
  {
   "cell_type": "code",
   "execution_count": null,
   "metadata": {
    "collapsed": true
   },
   "outputs": [],
   "source": [
    "logging.info(\"Proceeding using {}...\".format(params[\"device\"]))\n",
    "logging.info(print_to_json(params))\n",
    "# training\n",
    "encoder = MultiLSTMEncoder(vocab_size=vocab_size, **params)\n",
    "\n",
    "if params[\"load\"]:\n",
    "    encoder.load_encoder()\n",
    "else:\n",
    "    encoder.fit(train_iterator, save_memory=False)\n",
    "    encoder.save_encoder()\n",
    "\n",
    "# inference\n",
    "features = encoder.encode(test_iterator.loader)\n",
    "logging.info(\"Final features have shape: {}\".format(features.shape))\n",
    "\n"
   ]
  },
  {
   "cell_type": "code",
   "execution_count": 56,
   "metadata": {},
   "outputs": [
    {
     "data": {
      "text/plain": [
       "0.6000000000000001"
      ]
     },
     "execution_count": 56,
     "metadata": {},
     "output_type": "execute_result"
    }
   ],
   "source": [
    "a = np.array([0,0.1,0.12,0.15,0.9])\n",
    "np.percentile(a, 90)"
   ]
  },
  {
   "cell_type": "code",
   "execution_count": 79,
   "metadata": {},
   "outputs": [],
   "source": [
    "import h5py\n",
    "\n",
    "def load_hdf5(infile,):\n",
    "    with h5py.File(infile, 'r') as f:\n",
    "        return {key : f[key][:] for key in list(f.keys())}\n",
    "\n",
    "def write_hdf5(outfile, arr_dict):\n",
    "    with h5py.File(outfile, 'w') as f:\n",
    "        for key in arr_dict.keys():\n",
    "            f.create_dataset(key, data=arr_dict[key])"
   ]
  },
  {
   "cell_type": "code",
   "execution_count": 86,
   "metadata": {},
   "outputs": [],
   "source": [
    "a = torch.randn(5,6)"
   ]
  },
  {
   "cell_type": "code",
   "execution_count": 87,
   "metadata": {},
   "outputs": [],
   "source": [
    "write_hdf5(\"./save_test1\", {\"a\": a})"
   ]
  },
  {
   "cell_type": "code",
   "execution_count": 88,
   "metadata": {},
   "outputs": [
    {
     "data": {
      "text/plain": [
       "{'a': array([[-0.42135376,  0.5397852 ,  0.4116953 ,  0.7940437 , -1.5295442 ,\n",
       "         -0.28173816],\n",
       "        [ 1.0826707 ,  0.05875599,  0.48668915, -0.7156641 , -1.2892246 ,\n",
       "         -1.4234002 ],\n",
       "        [ 0.48751888,  1.2072687 , -1.6384157 , -1.320613  , -1.1679837 ,\n",
       "          0.4241657 ],\n",
       "        [-0.80352515, -0.13083345, -0.03963302,  0.4198667 , -0.14734846,\n",
       "          0.76326144],\n",
       "        [-1.5251911 ,  1.4436054 ,  0.24256584,  0.29691985, -0.95309186,\n",
       "          0.02422922]], dtype=float32)}"
      ]
     },
     "execution_count": 88,
     "metadata": {},
     "output_type": "execute_result"
    }
   ],
   "source": [
    "load_hdf5(\"./save_test1\")"
   ]
  },
  {
   "cell_type": "code",
   "execution_count": null,
   "metadata": {
    "collapsed": true
   },
   "outputs": [],
   "source": []
  }
 ],
 "metadata": {
  "kernelspec": {
   "display_name": "Python 3.6.3 64-bit ('python36': conda)",
   "language": "python",
   "name": "python36364bitpython36conda9488ed586bcc4bdeab5df32bb542d026"
  },
  "language_info": {
   "codemirror_mode": {
    "name": "ipython",
    "version": 3
   },
   "file_extension": ".py",
   "mimetype": "text/x-python",
   "name": "python",
   "nbconvert_exporter": "python",
   "pygments_lexer": "ipython3",
   "version": "3.6.8"
  }
 },
 "nbformat": 4,
 "nbformat_minor": 2
}
