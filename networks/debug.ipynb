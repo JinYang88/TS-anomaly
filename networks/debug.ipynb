{
    "cells": [
        {
            "cell_type": "code",
            "execution_count": 1,
            "source": [
                "import numpy as np\n",
                "from IPython import embed\n",
                "from statsmodels.tsa.arima.model import ARIMA\n",
                "\n",
                "\n",
                "class ARIMAModel:\n",
                "    def __init__(self, anomaly_ts_num: float = 0.5):\n",
                "        self.anomaly_ts_num = anomaly_ts_num\n",
                "        self.diff_upper_threshold_list = []\n",
                "\n",
                "    def _arima_model(self, ts):\n",
                "        assert len(ts.shape) == 1, 'Only support 1-d time series currently'\n",
                "        ar_result = np.zeros(ts.shape)\n",
                "        model = ARIMA(ts, order=(2, 0, 0))\n",
                "        model_fit = model.fit()\n",
                "        fittedLen = model_fit.fittedvalues.shape[0]\n",
                "        ar_result[ts.shape[0] - fittedLen:] = model_fit.fittedvalues\n",
                "        ar_result[:ts.shape[0] - fittedLen] = ts[:ts.shape[0] - fittedLen]\n",
                "        return ar_result\n"
            ],
            "outputs": [],
            "metadata": {}
        },
        {
            "cell_type": "code",
            "execution_count": 13,
            "source": [
                "train_data = np.ones(50)\n",
                "train_data[20] = 100\n",
                "\n",
                "test_data = np.ones(50)\n",
                "test_data[40] = 100"
            ],
            "outputs": [],
            "metadata": {}
        },
        {
            "cell_type": "code",
            "execution_count": 14,
            "source": [
                "train_data"
            ],
            "outputs": [
                {
                    "output_type": "execute_result",
                    "data": {
                        "text/plain": [
                            "array([  1.,   1.,   1.,   1.,   1.,   1.,   1.,   1.,   1.,   1.,   1.,\n",
                            "         1.,   1.,   1.,   1.,   1.,   1.,   1.,   1.,   1., 100.,   1.,\n",
                            "         1.,   1.,   1.,   1.,   1.,   1.,   1.,   1.,   1.,   1.,   1.,\n",
                            "         1.,   1.,   1.,   1.,   1.,   1.,   1.,   1.,   1.,   1.,   1.,\n",
                            "         1.,   1.,   1.,   1.,   1.,   1.])"
                        ]
                    },
                    "metadata": {},
                    "execution_count": 14
                }
            ],
            "metadata": {}
        },
        {
            "cell_type": "code",
            "execution_count": 15,
            "source": [
                "test_data"
            ],
            "outputs": [
                {
                    "output_type": "execute_result",
                    "data": {
                        "text/plain": [
                            "array([  1.,   1.,   1.,   1.,   1.,   1.,   1.,   1.,   1.,   1.,   1.,\n",
                            "         1.,   1.,   1.,   1.,   1.,   1.,   1.,   1.,   1.,   1.,   1.,\n",
                            "         1.,   1.,   1.,   1.,   1.,   1.,   1.,   1.,   1.,   1.,   1.,\n",
                            "         1.,   1.,   1.,   1.,   1.,   1.,   1., 100.,   1.,   1.,   1.,\n",
                            "         1.,   1.,   1.,   1.,   1.,   1.])"
                        ]
                    },
                    "metadata": {},
                    "execution_count": 15
                }
            ],
            "metadata": {}
        },
        {
            "cell_type": "code",
            "execution_count": 7,
            "source": [
                "from pyod.models.iforest import IForest"
            ],
            "outputs": [],
            "metadata": {}
        },
        {
            "cell_type": "code",
            "execution_count": 16,
            "source": [
                "od = IForest(n_estimators=10)"
            ],
            "outputs": [],
            "metadata": {}
        },
        {
            "cell_type": "code",
            "execution_count": 17,
            "source": [
                "od.fit(train_data.reshape(-1, 1))"
            ],
            "outputs": [
                {
                    "output_type": "execute_result",
                    "data": {
                        "text/plain": [
                            "IForest(behaviour='old', bootstrap=False, contamination=0.1, max_features=1.0,\n",
                            "    max_samples='auto', n_estimators=10, n_jobs=1, random_state=None,\n",
                            "    verbose=0)"
                        ]
                    },
                    "metadata": {},
                    "execution_count": 17
                }
            ],
            "metadata": {}
        },
        {
            "cell_type": "code",
            "execution_count": 18,
            "source": [
                "anomaly_score = od.decision_function(test_data.reshape(-1, 1))"
            ],
            "outputs": [],
            "metadata": {}
        },
        {
            "cell_type": "code",
            "execution_count": 19,
            "source": [
                "anomaly_score"
            ],
            "outputs": [
                {
                    "output_type": "execute_result",
                    "data": {
                        "text/plain": [
                            "array([-0.        , -0.        , -0.        , -0.        , -0.        ,\n",
                            "       -0.        , -0.        , -0.        , -0.        , -0.        ,\n",
                            "       -0.        , -0.        , -0.        , -0.        , -0.        ,\n",
                            "       -0.        , -0.        , -0.        , -0.        , -0.        ,\n",
                            "       -0.        , -0.        , -0.        , -0.        , -0.        ,\n",
                            "       -0.        , -0.        , -0.        , -0.        , -0.        ,\n",
                            "       -0.        , -0.        , -0.        , -0.        , -0.        ,\n",
                            "       -0.        , -0.        , -0.        , -0.        , -0.        ,\n",
                            "        0.45089951, -0.        , -0.        , -0.        , -0.        ,\n",
                            "       -0.        , -0.        , -0.        , -0.        , -0.        ])"
                        ]
                    },
                    "metadata": {},
                    "execution_count": 19
                }
            ],
            "metadata": {}
        },
        {
            "cell_type": "code",
            "execution_count": 20,
            "source": [
                "test_data"
            ],
            "outputs": [
                {
                    "output_type": "execute_result",
                    "data": {
                        "text/plain": [
                            "array([  1.,   1.,   1.,   1.,   1.,   1.,   1.,   1.,   1.,   1.,   1.,\n",
                            "         1.,   1.,   1.,   1.,   1.,   1.,   1.,   1.,   1.,   1.,   1.,\n",
                            "         1.,   1.,   1.,   1.,   1.,   1.,   1.,   1.,   1.,   1.,   1.,\n",
                            "         1.,   1.,   1.,   1.,   1.,   1.,   1., 100.,   1.,   1.,   1.,\n",
                            "         1.,   1.,   1.,   1.,   1.,   1.])"
                        ]
                    },
                    "metadata": {},
                    "execution_count": 20
                }
            ],
            "metadata": {}
        },
        {
            "cell_type": "code",
            "execution_count": 22,
            "source": [
                "newData = train_data.copy()"
            ],
            "outputs": [],
            "metadata": {}
        },
        {
            "cell_type": "code",
            "execution_count": 28,
            "source": [
                "newData"
            ],
            "outputs": [
                {
                    "output_type": "execute_result",
                    "data": {
                        "text/plain": [
                            "array([  1.,   1.,   1.,   1.,   1.,   1.,   1.,   1.,   1.,   1.,   1.,\n",
                            "         1.,   1.,   1.,   1.,   1.,   1.,   1.,   1.,   1., 100.,   1.,\n",
                            "         1.,   1.,   1.,   1.,   1.,   1.,   1.,   1.,   1.,   1.,   1.,\n",
                            "         1.,   1.,   1.,   1.,   1.,   1.,   1.,   1.,   1.,   1.,   1.,\n",
                            "         1.,   1.,   1.,   1.,   1.,   1.])"
                        ]
                    },
                    "metadata": {},
                    "execution_count": 28
                }
            ],
            "metadata": {}
        },
        {
            "cell_type": "code",
            "execution_count": 26,
            "source": [
                "train_data[10] = -100"
            ],
            "outputs": [],
            "metadata": {}
        },
        {
            "cell_type": "code",
            "execution_count": 27,
            "source": [
                "train_data"
            ],
            "outputs": [
                {
                    "output_type": "execute_result",
                    "data": {
                        "text/plain": [
                            "array([   1.,    1.,    1.,    1.,    1.,    1.,    1.,    1.,    1.,\n",
                            "          1., -100.,    1.,    1.,    1.,    1.,    1.,    1.,    1.,\n",
                            "          1.,    1.,  100.,    1.,    1.,    1.,    1.,    1.,    1.,\n",
                            "          1.,    1.,    1.,    1.,    1.,    1.,    1.,    1.,    1.,\n",
                            "          1.,    1.,    1.,    1.,    1.,    1.,    1.,    1.,    1.,\n",
                            "          1.,    1.,    1.,    1.,    1.])"
                        ]
                    },
                    "metadata": {},
                    "execution_count": 27
                }
            ],
            "metadata": {}
        },
        {
            "cell_type": "code",
            "execution_count": null,
            "source": [],
            "outputs": [],
            "metadata": {}
        }
    ],
    "metadata": {
        "orig_nbformat": 4,
        "language_info": {
            "name": "python",
            "version": "3.6.13",
            "mimetype": "text/x-python",
            "codemirror_mode": {
                "name": "ipython",
                "version": 3
            },
            "pygments_lexer": "ipython3",
            "nbconvert_exporter": "python",
            "file_extension": ".py"
        },
        "kernelspec": {
            "name": "python3",
            "display_name": "Python 3.6.13 64-bit ('cmanomaly': conda)"
        },
        "interpreter": {
            "hash": "e9d9c8d1e96a8f45f2e1f66ec24dc22ad20e3b472cb9ce08b0438a1248d018b7"
        }
    },
    "nbformat": 4,
    "nbformat_minor": 2
}