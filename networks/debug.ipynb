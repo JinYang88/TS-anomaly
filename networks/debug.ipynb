{
    "cells": [
        {
            "cell_type": "code",
            "execution_count": 22,
            "source": [
                "import numpy as np\n",
                "from IPython import embed\n",
                "from statsmodels.tsa.ar_model import AR\n",
                "\n",
                "\n",
                "class AutoRegression:\n",
                "    def __init__(self, anomaly_ts_num: float = 0.5):\n",
                "        self.anomaly_ts_num = anomaly_ts_num\n",
                "        self.diff_upper_threshold_list = []\n",
                "\n",
                "    def _auto_regression(self, ts):\n",
                "        assert len(ts.shape) == 1, 'Only support 1-d time series currently'\n",
                "        ar_result = np.zeros(ts.shape)\n",
                "        model = AR(ts)\n",
                "        model_fit = model.fit()\n",
                "        fittedLen = model_fit.fittedvalues.shape[0]\n",
                "        ar_result[ts.shape[0] - fittedLen:] = model_fit.fittedvalues\n",
                "        ar_result[:ts.shape[0] - fittedLen] = ts[:ts.shape[0] - fittedLen]\n",
                "        return ar_result"
            ],
            "outputs": [],
            "metadata": {}
        },
        {
            "cell_type": "code",
            "execution_count": 23,
            "source": [
                "ar = AutoRegression()"
            ],
            "outputs": [],
            "metadata": {}
        },
        {
            "cell_type": "code",
            "execution_count": 24,
            "source": [
                "ts = np.array([1,1,1,19,2,2,2,3,43,5,62,3,4] * 100)"
            ],
            "outputs": [],
            "metadata": {}
        },
        {
            "cell_type": "code",
            "execution_count": 25,
            "source": [
                "ts.shape"
            ],
            "outputs": [
                {
                    "output_type": "execute_result",
                    "data": {
                        "text/plain": [
                            "(1300,)"
                        ]
                    },
                    "metadata": {},
                    "execution_count": 25
                }
            ],
            "metadata": {}
        },
        {
            "cell_type": "code",
            "execution_count": 26,
            "source": [
                "ar_result = ar._auto_regression(ts)"
            ],
            "outputs": [
                {
                    "output_type": "stream",
                    "name": "stderr",
                    "text": [
                        "/home/y/.miniconda3/envs/cmanomaly/lib/python3.6/site-packages/statsmodels/tsa/ar_model.py:791: FutureWarning: \n",
                        "statsmodels.tsa.AR has been deprecated in favor of statsmodels.tsa.AutoReg and\n",
                        "statsmodels.tsa.SARIMAX.\n",
                        "\n",
                        "AutoReg adds the ability to specify exogenous variables, include time trends,\n",
                        "and add seasonal dummies. The AutoReg API differs from AR since the model is\n",
                        "treated as immutable, and so the entire specification including the lag\n",
                        "length must be specified when creating the model. This change is too\n",
                        "substantial to incorporate into the existing AR api. The function\n",
                        "ar_select_order performs lag length selection for AutoReg models.\n",
                        "\n",
                        "AutoReg only estimates parameters using conditional MLE (OLS). Use SARIMAX to\n",
                        "estimate ARX and related models using full MLE via the Kalman Filter.\n",
                        "\n",
                        "To silence this warning and continue using AR until it is removed, use:\n",
                        "\n",
                        "import warnings\n",
                        "warnings.filterwarnings('ignore', 'statsmodels.tsa.ar_model.AR', FutureWarning)\n",
                        "\n",
                        "  warnings.warn(AR_DEPRECATION_WARN, FutureWarning)\n"
                    ]
                }
            ],
            "metadata": {}
        },
        {
            "cell_type": "code",
            "execution_count": 27,
            "source": [
                "ar_result"
            ],
            "outputs": [
                {
                    "output_type": "execute_result",
                    "data": {
                        "text/plain": [
                            "array([ 1.,  1.,  1., ..., 62.,  3.,  4.])"
                        ]
                    },
                    "metadata": {},
                    "execution_count": 27
                }
            ],
            "metadata": {}
        },
        {
            "cell_type": "code",
            "execution_count": 28,
            "source": [
                "ar_result.shape"
            ],
            "outputs": [
                {
                    "output_type": "execute_result",
                    "data": {
                        "text/plain": [
                            "(1300,)"
                        ]
                    },
                    "metadata": {},
                    "execution_count": 28
                }
            ],
            "metadata": {}
        },
        {
            "cell_type": "code",
            "execution_count": null,
            "source": [],
            "outputs": [],
            "metadata": {}
        }
    ],
    "metadata": {
        "orig_nbformat": 4,
        "language_info": {
            "name": "python",
            "version": "3.6.13",
            "mimetype": "text/x-python",
            "codemirror_mode": {
                "name": "ipython",
                "version": 3
            },
            "pygments_lexer": "ipython3",
            "nbconvert_exporter": "python",
            "file_extension": ".py"
        },
        "kernelspec": {
            "name": "python3",
            "display_name": "Python 3.6.13 64-bit ('cmanomaly': conda)"
        },
        "interpreter": {
            "hash": "e9d9c8d1e96a8f45f2e1f66ec24dc22ad20e3b472cb9ce08b0438a1248d018b7"
        }
    },
    "nbformat": 4,
    "nbformat_minor": 2
}